{
 "cells": [
  {
   "cell_type": "code",
   "execution_count": 1,
   "metadata": {
    "collapsed": false
   },
   "outputs": [
    {
     "data": {
      "text/html": [
       "\n",
       "    <div class=\"bk-root\">\n",
       "        <a href=\"https://bokeh.pydata.org\" target=\"_blank\" class=\"bk-logo bk-logo-small bk-logo-notebook\"></a>\n",
       "        <span id=\"5222fc0b-1843-4430-b3df-bf0a19c1e978\">Loading BokehJS ...</span>\n",
       "    </div>"
      ]
     },
     "metadata": {},
     "output_type": "display_data"
    },
    {
     "data": {
      "application/javascript": [
       "\n",
       "(function(root) {\n",
       "  function now() {\n",
       "    return new Date();\n",
       "  }\n",
       "\n",
       "  var force = true;\n",
       "\n",
       "  if (typeof (root._bokeh_onload_callbacks) === \"undefined\" || force === true) {\n",
       "    root._bokeh_onload_callbacks = [];\n",
       "    root._bokeh_is_loading = undefined;\n",
       "  }\n",
       "\n",
       "\n",
       "  \n",
       "  if (typeof (root._bokeh_timeout) === \"undefined\" || force === true) {\n",
       "    root._bokeh_timeout = Date.now() + 5000;\n",
       "    root._bokeh_failed_load = false;\n",
       "  }\n",
       "\n",
       "  var NB_LOAD_WARNING = {'data': {'text/html':\n",
       "     \"<div style='background-color: #fdd'>\\n\"+\n",
       "     \"<p>\\n\"+\n",
       "     \"BokehJS does not appear to have successfully loaded. If loading BokehJS from CDN, this \\n\"+\n",
       "     \"may be due to a slow or bad network connection. Possible fixes:\\n\"+\n",
       "     \"</p>\\n\"+\n",
       "     \"<ul>\\n\"+\n",
       "     \"<li>re-rerun `output_notebook()` to attempt to load from CDN again, or</li>\\n\"+\n",
       "     \"<li>use INLINE resources instead, as so:</li>\\n\"+\n",
       "     \"</ul>\\n\"+\n",
       "     \"<code>\\n\"+\n",
       "     \"from bokeh.resources import INLINE\\n\"+\n",
       "     \"output_notebook(resources=INLINE)\\n\"+\n",
       "     \"</code>\\n\"+\n",
       "     \"</div>\"}};\n",
       "\n",
       "  function display_loaded() {\n",
       "    if (root.Bokeh !== undefined) {\n",
       "      var el = document.getElementById(\"5222fc0b-1843-4430-b3df-bf0a19c1e978\");\n",
       "      if (el != null) {\n",
       "        el.textContent = \"BokehJS \" + Bokeh.version + \" successfully loaded.\";\n",
       "      }\n",
       "    } else if (Date.now() < root._bokeh_timeout) {\n",
       "      setTimeout(display_loaded, 100)\n",
       "    }\n",
       "  }\n",
       "\n",
       "\n",
       "  function run_callbacks() {\n",
       "    try {\n",
       "      root._bokeh_onload_callbacks.forEach(function(callback) { callback() });\n",
       "    }\n",
       "    finally {\n",
       "      delete root._bokeh_onload_callbacks\n",
       "    }\n",
       "    console.info(\"Bokeh: all callbacks have finished\");\n",
       "  }\n",
       "\n",
       "  function load_libs(js_urls, callback) {\n",
       "    root._bokeh_onload_callbacks.push(callback);\n",
       "    if (root._bokeh_is_loading > 0) {\n",
       "      console.log(\"Bokeh: BokehJS is being loaded, scheduling callback at\", now());\n",
       "      return null;\n",
       "    }\n",
       "    if (js_urls == null || js_urls.length === 0) {\n",
       "      run_callbacks();\n",
       "      return null;\n",
       "    }\n",
       "    console.log(\"Bokeh: BokehJS not loaded, scheduling load and callback at\", now());\n",
       "    root._bokeh_is_loading = js_urls.length;\n",
       "    for (var i = 0; i < js_urls.length; i++) {\n",
       "      var url = js_urls[i];\n",
       "      var s = document.createElement('script');\n",
       "      s.src = url;\n",
       "      s.async = false;\n",
       "      s.onreadystatechange = s.onload = function() {\n",
       "        root._bokeh_is_loading--;\n",
       "        if (root._bokeh_is_loading === 0) {\n",
       "          console.log(\"Bokeh: all BokehJS libraries loaded\");\n",
       "          run_callbacks()\n",
       "        }\n",
       "      };\n",
       "      s.onerror = function() {\n",
       "        console.warn(\"failed to load library \" + url);\n",
       "      };\n",
       "      console.log(\"Bokeh: injecting script tag for BokehJS library: \", url);\n",
       "      document.getElementsByTagName(\"head\")[0].appendChild(s);\n",
       "    }\n",
       "  };var element = document.getElementById(\"5222fc0b-1843-4430-b3df-bf0a19c1e978\");\n",
       "  if (element == null) {\n",
       "    console.log(\"Bokeh: ERROR: autoload.js configured with elementid '5222fc0b-1843-4430-b3df-bf0a19c1e978' but no matching script tag was found. \")\n",
       "    return false;\n",
       "  }\n",
       "\n",
       "  var js_urls = [\"https://cdn.pydata.org/bokeh/release/bokeh-0.12.7.min.js\", \"https://cdn.pydata.org/bokeh/release/bokeh-widgets-0.12.7.min.js\", \"https://cdn.pydata.org/bokeh/release/bokeh-tables-0.12.7.min.js\", \"https://cdn.pydata.org/bokeh/release/bokeh-gl-0.12.7.min.js\"];\n",
       "\n",
       "  var inline_js = [\n",
       "    function(Bokeh) {\n",
       "      Bokeh.set_log_level(\"info\");\n",
       "    },\n",
       "    \n",
       "    function(Bokeh) {\n",
       "      \n",
       "    },\n",
       "    \n",
       "    function(Bokeh) {\n",
       "      \n",
       "      document.getElementById(\"5222fc0b-1843-4430-b3df-bf0a19c1e978\").textContent = \"BokehJS is loading...\";\n",
       "\n",
       "    },\n",
       "    function(Bokeh) {\n",
       "      console.log(\"Bokeh: injecting CSS: https://cdn.pydata.org/bokeh/release/bokeh-0.12.7.min.css\");\n",
       "      Bokeh.embed.inject_css(\"https://cdn.pydata.org/bokeh/release/bokeh-0.12.7.min.css\");\n",
       "      console.log(\"Bokeh: injecting CSS: https://cdn.pydata.org/bokeh/release/bokeh-widgets-0.12.7.min.css\");\n",
       "      Bokeh.embed.inject_css(\"https://cdn.pydata.org/bokeh/release/bokeh-widgets-0.12.7.min.css\");\n",
       "      console.log(\"Bokeh: injecting CSS: https://cdn.pydata.org/bokeh/release/bokeh-tables-0.12.7.min.css\");\n",
       "      Bokeh.embed.inject_css(\"https://cdn.pydata.org/bokeh/release/bokeh-tables-0.12.7.min.css\");\n",
       "    }\n",
       "  ];\n",
       "\n",
       "  function run_inline_js() {\n",
       "    \n",
       "    if ((root.Bokeh !== undefined) || (force === true)) {\n",
       "      for (var i = 0; i < inline_js.length; i++) {\n",
       "        inline_js[i].call(root, root.Bokeh);\n",
       "      }if (force === true) {\n",
       "        display_loaded();\n",
       "      }} else if (Date.now() < root._bokeh_timeout) {\n",
       "      setTimeout(run_inline_js, 100);\n",
       "    } else if (!root._bokeh_failed_load) {\n",
       "      console.log(\"Bokeh: BokehJS failed to load within specified timeout.\");\n",
       "      root._bokeh_failed_load = true;\n",
       "    } else if (force !== true) {\n",
       "      var cell = $(document.getElementById(\"5222fc0b-1843-4430-b3df-bf0a19c1e978\")).parents('.cell').data().cell;\n",
       "      cell.output_area.append_execute_result(NB_LOAD_WARNING)\n",
       "    }\n",
       "\n",
       "  }\n",
       "\n",
       "  if (root._bokeh_is_loading === 0) {\n",
       "    console.log(\"Bokeh: BokehJS loaded, going straight to plotting\");\n",
       "    run_inline_js();\n",
       "  } else {\n",
       "    load_libs(js_urls, function() {\n",
       "      console.log(\"Bokeh: BokehJS plotting callback run at\", now());\n",
       "      run_inline_js();\n",
       "    });\n",
       "  }\n",
       "}(window));"
      ]
     },
     "metadata": {},
     "output_type": "display_data"
    },
    {
     "name": "stderr",
     "output_type": "stream",
     "text": [
      "/Users/type/anaconda/envs/py2/lib/python2.7/site-packages/brian2/core/variables.py:174: FutureWarning: Conversion of the second argument of issubdtype from `float` to `np.floating` is deprecated. In future, it will be treated as `np.float64 == np.dtype(float).type`.\n",
      "  return np.issubdtype(np.bool, self.dtype)\n"
     ]
    }
   ],
   "source": [
    "from bokeh.plotting import figure\n",
    "from bokeh.io import show, output_notebook\n",
    "from bokeh.layouts import column, row\n",
    "from bokeh.models import Range1d\n",
    "from bokeh.io import export_png\n",
    "output_notebook()\n",
    "\n",
    "import numpy as np\n",
    "\n",
    "from voltagebudget import util\n",
    "from voltagebudget import neurons\n",
    "from voltagebudget.util import locate_firsts\n",
    "from voltagebudget.util import locate_peaks\n",
    "from voltagebudget.util import filter_voltages\n",
    "from fakespikes import util as fsutil\n",
    "\n",
    "from scipy.io import loadmat\n",
    "\n",
    "from pprint import pprint\n",
    "\n",
    "def plot_mode_example(budget_y, mode):\n",
    "    times = budget_y['times']\n",
    "    m = times > 0.25\n",
    "                   \n",
    "    # -\n",
    "    p = figure(title=mode, plot_width=300, plot_height=100, toolbar_location=None)\n",
    "    for n in range(N):\n",
    "        v = budget_y['V_m'][n, :]\n",
    "        p.line(x=times[m], y=(10e-3 * n) + v[m], color=\"black\", alpha=0.8)\n",
    "    p.xgrid.grid_line_color = None\n",
    "    p.ygrid.grid_line_color = None\n",
    "    p.axis.visible = False\n",
    "    show(p)\n",
    "    return p\n",
    "    \n",
    "def plot_step(budget_y):\n",
    "    times = budget_y['times']\n",
    "    m = times > 0.25\n",
    "    \n",
    "    I = budget_y['I_ext'][0, :]\n",
    "    p = figure(plot_width=200, plot_height=60, tools='')\n",
    "    p.line(x=times[m], y=I[m], alpha=0.5)\n",
    "    p.xgrid.grid_line_color = None\n",
    "    p.ygrid.grid_line_color = None\n",
    "    p.axis.visible = False\n",
    "    show(p)\n",
    "    return p\n",
    "\n",
    "def plot_ticks(ns, ts):\n",
    "    p = figure(plot_width=200, plot_height=120, toolbar_location=None)\n",
    "    p.circle(ts, ns, color=\"black\", size=0.7)\n",
    "    p.xaxis.axis_label = ''\n",
    "    p.yaxis.axis_label = 'N'\n",
    "    p.x_range = Range1d(0, t)\n",
    "    p.xgrid.grid_line_color = None\n",
    "    p.ygrid.grid_line_color = None\n",
    "    p.xaxis.major_tick_line_color = None  # turn off x-axis major ticks\n",
    "    p.xaxis.minor_tick_line_color = None  # turn off x-axis minor ticks\n",
    "\n",
    "    p.yaxis.major_tick_line_color = None  # turn off y-axis major ticks\n",
    "    p.yaxis.minor_tick_line_color = None  # turn off y-axis minor ticks\n",
    "    p.yaxis.major_label_text_font_size = '0pt'  # turn off y-axis tick labels\n",
    "    p.xaxis.major_label_text_font_size = '0pt'  # turn off y-axis tick labels\n",
    "    p.axis.visible = False\n",
    "    show(p)\n",
    "    \n",
    "def plot_input_ticks(ns, ts):\n",
    "    p = figure(plot_width=150, plot_height=80, toolbar_location=None)\n",
    "    p.circle(ts, ns, color=\"black\", size=0.7)\n",
    "    p.xaxis.axis_label = ''\n",
    "    p.yaxis.axis_label = ''\n",
    "    p.x_range = Range1d(0, t)\n",
    "    p.xgrid.grid_line_color = None\n",
    "    p.ygrid.grid_line_color = None\n",
    "    p.xaxis.major_tick_line_color = None  # turn off x-axis major ticks\n",
    "    p.xaxis.minor_tick_line_color = None  # turn off x-axis minor ticks\n",
    "\n",
    "    p.yaxis.major_tick_line_color = None  # turn off y-axis major ticks\n",
    "    p.yaxis.minor_tick_line_color = None  # turn off y-axis minor ticks\n",
    "    p.yaxis.major_label_text_font_size = '0pt'  # turn off y-axis tick labels\n",
    "    p.xaxis.major_label_text_font_size = '0pt'  # turn off y-axis tick labels\n",
    "    p.axis.visible = False\n",
    "    show(p)\n",
    "\n",
    "def plot_comp_example(budget_y, mode):                   \n",
    "    times = budget_y['times']\n",
    "    \n",
    "    p = figure(title=mode, plot_width=200, plot_height=150, toolbar_location=None)\n",
    "    for n in range(N):\n",
    "        v = budget_y['V_m'][n, :]\n",
    "        p.line(x=times, y=(10e-3 * n) + v, color=\"black\", alpha=0.8)\n",
    "    p.x_range = Range1d(0, t)\n",
    "    p.xgrid.grid_line_color = None\n",
    "    p.ygrid.grid_line_color = None\n",
    "    p.yaxis.axis_label = 'Membrane voltages'\n",
    "    p.xaxis.axis_label = 'Time (s)'\n",
    "#     p.xaxis.axis_label_text_font_size = '10pt'\n",
    "    p.yaxis.axis_label_text_font_size = '10pt'\n",
    "    \n",
    "#     p.xaxis.minor_tick_line_color = None  # turn off x-axis minor ticks\n",
    "\n",
    "    p.yaxis.major_tick_line_color = None  # turn off y-axis major ticks\n",
    "    p.yaxis.minor_tick_line_color = None  # turn off y-axis minor ticks\n",
    "    p.yaxis.major_label_text_font_size = '0pt'  # turn off y-axis tick labels\n",
    "    p.xaxis.major_label_text_font_size = '10pt'  # turn off y-axis tick labels\n",
    "    p.axis.visible = False\n",
    "    show(p)\n",
    "    \n",
    "    return p"
   ]
  },
  {
   "cell_type": "markdown",
   "metadata": {},
   "source": [
    "# Neuron examples"
   ]
  },
  {
   "cell_type": "code",
   "execution_count": 2,
   "metadata": {
    "collapsed": false
   },
   "outputs": [
    {
     "name": "stdout",
     "output_type": "stream",
     "text": [
      "[u'transient_spiking',\n",
      " u'adaption',\n",
      " u'delayed_regular_bursting',\n",
      " u'regular_burst',\n",
      " u'regular',\n",
      " u'delayed_accelerating',\n",
      " u'initial_burst']\n"
     ]
    }
   ],
   "source": [
    "modes = util.get_mode_names()\n",
    "pprint(modes)"
   ]
  },
  {
   "cell_type": "code",
   "execution_count": 3,
   "metadata": {
    "collapsed": true
   },
   "outputs": [],
   "source": [
    "# -\n",
    "N = 1\n",
    "t = 1.25"
   ]
  },
  {
   "cell_type": "code",
   "execution_count": 4,
   "metadata": {
    "collapsed": false,
    "scrolled": false
   },
   "outputs": [
    {
     "ename": "NameError",
     "evalue": "name 'bias_in_in' is not defined",
     "output_type": "error",
     "traceback": [
      "\u001b[0;31m---------------------------------------------------------------------------\u001b[0m",
      "\u001b[0;31mNameError\u001b[0m                                 Traceback (most recent call last)",
      "\u001b[0;32m<ipython-input-4-ed2fe740cd47>\u001b[0m in \u001b[0;36m<module>\u001b[0;34m()\u001b[0m\n\u001b[1;32m      4\u001b[0m \u001b[0;31m# -\u001b[0m\u001b[0;34m\u001b[0m\u001b[0;34m\u001b[0m\u001b[0m\n\u001b[1;32m      5\u001b[0m ns_y, ts_y, budget_y = neurons.adex(N, t, np.asarray([0]), np.asarray([0]), \n\u001b[0;32m----> 6\u001b[0;31m                                   \u001b[0mw_in\u001b[0m\u001b[0;34m=\u001b[0m\u001b[0;36m0\u001b[0m\u001b[0;34m,\u001b[0m \u001b[0mbias_in\u001b[0m\u001b[0;34m=\u001b[0m\u001b[0mnp\u001b[0m\u001b[0;34m.\u001b[0m\u001b[0masarray\u001b[0m\u001b[0;34m(\u001b[0m\u001b[0mbias_in_in\u001b[0m\u001b[0;34m)\u001b[0m\u001b[0;34m*\u001b[0m\u001b[0;36m0.25\u001b[0m\u001b[0;34m,\u001b[0m\u001b[0;34m\u001b[0m\u001b[0m\n\u001b[0m\u001b[1;32m      7\u001b[0m                                   \u001b[0mA\u001b[0m\u001b[0;34m=\u001b[0m\u001b[0;36m0\u001b[0m\u001b[0;34m,\u001b[0m \u001b[0mf\u001b[0m\u001b[0;34m=\u001b[0m\u001b[0;36m0\u001b[0m\u001b[0;34m,\u001b[0m\u001b[0;34m\u001b[0m\u001b[0m\n\u001b[1;32m      8\u001b[0m                                   \u001b[0msigma\u001b[0m\u001b[0;34m=\u001b[0m\u001b[0msigma\u001b[0m\u001b[0;34m,\u001b[0m\u001b[0;34m\u001b[0m\u001b[0m\n",
      "\u001b[0;31mNameError\u001b[0m: name 'bias_in_in' is not defined"
     ]
    }
   ],
   "source": [
    "mode = 'regular'\n",
    "params, w_in, bias_in, sigma = util.read_modes(mode)\n",
    "\n",
    "# -\n",
    "ns_y, ts_y, budget_y = neurons.adex(N, t, np.asarray([0]), np.asarray([0]), \n",
    "                                  w_in=0, bias_in=np.asarray(bias_in_in)*0.25, \n",
    "                                  A=0, f=0,\n",
    "                                  sigma=sigma,\n",
    "                                  step_params=(3.5e-10, 1, 0.5),\n",
    "                                  report=None,\n",
    "                                  **params)\n",
    "\n",
    "p = plot_mode_example(budget_y, None)"
   ]
  },
  {
   "cell_type": "code",
   "execution_count": null,
   "metadata": {
    "collapsed": false
   },
   "outputs": [],
   "source": [
    "mode = 'adaption'\n",
    "params, w_in, bias_in, sigma = util.read_modes(mode)\n",
    "\n",
    "# -\n",
    "ns_y, ts_y, budget_y = neurons.adex(N, t, np.asarray([0]), np.asarray([0]), \n",
    "                                  w_in=0, bias_in=bias_in*0.25, \n",
    "                                  A=.25e-9, f=0,\n",
    "                                  sigma=sigma,\n",
    "                                  step_params=(3.5e-10, 1, 0.5),\n",
    "                                  report=None,\n",
    "                                  **params)\n",
    "\n",
    "plot_mode_example(budget_y, None)"
   ]
  },
  {
   "cell_type": "code",
   "execution_count": null,
   "metadata": {
    "collapsed": false
   },
   "outputs": [],
   "source": [
    "mode = 'delayed_accelerating'\n",
    "params, w_in, bias_in, sigma = util.read_modes(mode)\n",
    "\n",
    "# -\n",
    "ns_y, ts_y, budget_y = neurons.adex(N, t, np.asarray([0]), np.asarray([0]), \n",
    "                                  w_in=0, bias_in=bias_in*0.25, \n",
    "                                  A=.25e-9, f=0,\n",
    "                                  sigma=sigma,\n",
    "                                  step_params=(3e-10, 1, 0.5),\n",
    "                                  report=None,\n",
    "                                  **params)\n",
    "\n",
    "plot_mode_example(budget_y, None)"
   ]
  },
  {
   "cell_type": "code",
   "execution_count": null,
   "metadata": {
    "collapsed": false
   },
   "outputs": [],
   "source": [
    "mode = 'regular_burst'\n",
    "params, w_in, bias_in, sigma = util.read_modes(mode)\n",
    "\n",
    "# -\n",
    "ns_y, ts_y, budget_y = neurons.adex(N, t, np.asarray([0]), np.asarray([0]), \n",
    "                                  w_in=0, bias_in=bias_in*0.25, \n",
    "                                  A=.25e-9, f=0,\n",
    "                                  sigma=sigma,\n",
    "                                  step_params=(5e-10, 1, 0.5),\n",
    "                                  report=None,\n",
    "                                  **params)\n",
    "\n",
    "plot_mode_example(budget_y, None)"
   ]
  },
  {
   "cell_type": "code",
   "execution_count": null,
   "metadata": {
    "collapsed": false
   },
   "outputs": [],
   "source": [
    "mode = 'initial_burst'\n",
    "params, w_in, bias_in, sigma = util.read_modes(mode)\n",
    "\n",
    "# -\n",
    "ns_y, ts_y, budget_y = neurons.adex(N, t, np.asarray([0]), np.asarray([0]), \n",
    "                                  w_in=0, bias_in=bias_in*0.25, \n",
    "                                  A=.25e-9, f=0,\n",
    "                                  sigma=sigma,\n",
    "                                  step_params=(4e-10, 1, 0.5),\n",
    "                                  report=None,\n",
    "                                  **params)\n",
    "\n",
    "plot_mode_example(budget_y, None)"
   ]
  },
  {
   "cell_type": "code",
   "execution_count": null,
   "metadata": {
    "collapsed": false
   },
   "outputs": [],
   "source": [
    "mode = 'delayed_regular_bursting'\n",
    "params, w_in, bias_in, sigma = util.read_modes(mode)\n",
    "\n",
    "# -\n",
    "ns_y, ts_y, budget_y = neurons.adex(N, t, np.asarray([0]), np.asarray([0]), \n",
    "                                  w_in=0, bias_in=bias_in*0.25, \n",
    "                                  A=.25e-9, f=0,\n",
    "                                  sigma=sigma,\n",
    "                                  step_params=(2e-10, 1, 0.5),\n",
    "                                  report=None,\n",
    "                                  **params)\n",
    "\n",
    "plot_mode_example(budget_y, None)"
   ]
  },
  {
   "cell_type": "markdown",
   "metadata": {},
   "source": [
    "# Computation versus coordination"
   ]
  },
  {
   "cell_type": "code",
   "execution_count": null,
   "metadata": {
    "collapsed": false
   },
   "outputs": [],
   "source": [
    "t = 0.4\n",
    "\n",
    "k = 20\n",
    "stim_onset = 0.1\n",
    "stim_offset = 0.3\n",
    "stim_rate = 12\n",
    "dt = 1e-5\n",
    "seed_stim = 1\n",
    "ns, ts = util.poisson_impulse(\n",
    "        t,\n",
    "        stim_onset,\n",
    "        stim_offset - stim_onset,\n",
    "        stim_rate,\n",
    "        n=k,\n",
    "        dt=dt,\n",
    "        seed=None)\n",
    "\n",
    "plot_input_ticks(ns, ts)\n",
    "print(\">>> {} spikes\".format(ts.size))\n",
    "print(\">>> {} population rate\".format(ts.size / (stim_offset - stim_onset)))"
   ]
  },
  {
   "cell_type": "markdown",
   "metadata": {},
   "source": [
    "### Regular firing"
   ]
  },
  {
   "cell_type": "code",
   "execution_count": null,
   "metadata": {
    "collapsed": false
   },
   "outputs": [],
   "source": [
    "#set mode\n",
    "mode = 'regular'\n",
    "N = 50\n",
    "\n",
    "params, w_in, bias_in, sigma = util.read_modes(mode)\n",
    "bias_in = np.asarray(bias_in)\n",
    "\n",
    "print(w_in)"
   ]
  },
  {
   "cell_type": "code",
   "execution_count": null,
   "metadata": {
    "collapsed": false
   },
   "outputs": [],
   "source": [
    "ns_y, ts_y, budget = neurons.adex(N, t, ns, ts, \n",
    "                                  w_in=w_in, \n",
    "                                  bias_in=bias_in, \n",
    "                                  sigma=0, \n",
    "                                  report=None,\n",
    "                                  A=.0, f=0, **params)\n",
    "plot_ticks(ns_y, ts_y)\n",
    "plot_comp_example(budget, None)"
   ]
  },
  {
   "cell_type": "code",
   "execution_count": null,
   "metadata": {
    "collapsed": false
   },
   "outputs": [],
   "source": [
    "A1 = 0.2e-9\n",
    "ns_y, ts_y, budget = neurons.adex(N, t, ns, ts, \n",
    "                                  w_in=w_in, \n",
    "                                  bias_in=bias_in - A1/2, \n",
    "                                  sigma=0, \n",
    "                                  report=None,\n",
    "                                  A=A1, f=30, **params)\n",
    "plot_ticks(ns_y, ts_y)\n",
    "plot_comp_example(budget, None)"
   ]
  },
  {
   "cell_type": "code",
   "execution_count": null,
   "metadata": {
    "collapsed": false
   },
   "outputs": [],
   "source": [
    "A2 = 0.8e-9\n",
    "ns_y, ts_y, budget = neurons.adex(N, t, ns, ts, \n",
    "                                  w_in=w_in, \n",
    "                                  bias_in=bias_in - A2/2, \n",
    "                                  sigma=0, \n",
    "                                  report=None,\n",
    "                                  A=A2, f=30, **params)\n",
    "plot_ticks(ns_y, ts_y)\n",
    "plot_comp_example(budget, None)"
   ]
  },
  {
   "cell_type": "markdown",
   "metadata": {
    "collapsed": true
   },
   "source": [
    "# Example oscillations"
   ]
  },
  {
   "cell_type": "code",
   "execution_count": null,
   "metadata": {
    "collapsed": true
   },
   "outputs": [],
   "source": [
    "from scipy.io import loadmat\n",
    "import h5py\n",
    "\n",
    "from scipy.io import loadmat\n",
    "from scipy.signal import hilbert\n",
    "from scipy.signal import butter, lfilter\n",
    "\n",
    "def butter_bandpass(lowcut, highcut, fs, order=5):\n",
    "    nyq = 0.5 * fs\n",
    "    low = lowcut / nyq\n",
    "    high = highcut / nyq\n",
    "    b, a = butter(order, [low, high], btype='band')\n",
    "    \n",
    "    return b, a\n",
    "\n",
    "def butter_bandpass_filter(data, lowcut, highcut, fs, order=5):\n",
    "    b, a = butter_bandpass(lowcut, highcut, fs, order=order)\n",
    "    y = lfilter(b, a, data)\n",
    "    \n",
    "    return y\n",
    "\n"
   ]
  },
  {
   "cell_type": "code",
   "execution_count": null,
   "metadata": {
    "collapsed": false
   },
   "outputs": [],
   "source": [
    "hippo_file = h5py.File(\"lfp0.mat\")"
   ]
  },
  {
   "cell_type": "code",
   "execution_count": null,
   "metadata": {
    "collapsed": false
   },
   "outputs": [],
   "source": [
    "hippo = np.squeeze(hippo_file['lfp'].value)\n",
    "hippo = butter_bandpass_filter(hippo, 1, 30, 500, order=2)\n",
    "times = range(hippo.size)\n"
   ]
  },
  {
   "cell_type": "code",
   "execution_count": null,
   "metadata": {
    "collapsed": false
   },
   "outputs": [],
   "source": [
    "p = figure(plot_width=300, plot_height=100, toolbar_location=None)\n",
    "\n",
    "p.line(x=times[:2500], y=hippo[:2500], color=\"black\", alpha=0.8)\n",
    "\n",
    "p.xgrid.grid_line_color = None\n",
    "p.ygrid.grid_line_color = None\n",
    "p.yaxis.axis_label = 'Membrane voltages'\n",
    "p.xaxis.axis_label = 'Time (s)'\n",
    "#     p.xaxis.axis_label_text_font_size = '10pt'\n",
    "p.yaxis.axis_label_text_font_size = '10pt'\n",
    "\n",
    "p.xaxis.minor_tick_line_color = None  # turn off x-axis minor ticks\n",
    "\n",
    "p.yaxis.major_tick_line_color = None  # turn off y-axis major ticks\n",
    "p.yaxis.minor_tick_line_color = None  # turn off y-axis minor ticks\n",
    "p.yaxis.major_label_text_font_size = '0pt'  # turn off y-axis tick labels\n",
    "#     p.xaxis.major_label_text_font_size = '10pt'  # turn off y-axis tick labels\n",
    "p.axis.visible = False\n",
    "show(p)\n",
    "\n"
   ]
  },
  {
   "cell_type": "code",
   "execution_count": null,
   "metadata": {
    "collapsed": true
   },
   "outputs": [],
   "source": []
  },
  {
   "cell_type": "markdown",
   "metadata": {
    "collapsed": true
   },
   "source": [
    "# Visual alpha (task)"
   ]
  },
  {
   "cell_type": "code",
   "execution_count": null,
   "metadata": {
    "collapsed": false
   },
   "outputs": [],
   "source": [
    "alpha = loadmat('alpha_data.mat')['oz_dat_task'][0,:]"
   ]
  },
  {
   "cell_type": "code",
   "execution_count": null,
   "metadata": {
    "collapsed": false
   },
   "outputs": [],
   "source": [
    "alpha = butter_bandpass_filter(alpha, 1, 30, 500, order=2)\n",
    "times = range(alpha.size)"
   ]
  },
  {
   "cell_type": "code",
   "execution_count": null,
   "metadata": {
    "collapsed": false
   },
   "outputs": [],
   "source": [
    "p = figure(plot_width=300, plot_height=100, toolbar_location=None)\n",
    "\n",
    "p.line(x=times[:2000], y=alpha[:2000], color=\"black\", alpha=0.8)\n",
    "\n",
    "p.xgrid.grid_line_color = None\n",
    "p.ygrid.grid_line_color = None\n",
    "p.yaxis.axis_label = 'Membrane voltages'\n",
    "p.xaxis.axis_label = 'Time (s)'\n",
    "#     p.xaxis.axis_label_text_font_size = '10pt'\n",
    "p.yaxis.axis_label_text_font_size = '10pt'\n",
    "\n",
    "p.xaxis.minor_tick_line_color = None  # turn off x-axis minor ticks\n",
    "\n",
    "p.yaxis.major_tick_line_color = None  # turn off y-axis major ticks\n",
    "p.yaxis.minor_tick_line_color = None  # turn off y-axis minor ticks\n",
    "p.yaxis.major_label_text_font_size = '0pt'  # turn off y-axis tick labels\n",
    "#     p.xaxis.major_label_text_font_size = '10pt'  # turn off y-axis tick labels\n",
    "p.axis.visible = False\n",
    "show(p)"
   ]
  },
  {
   "cell_type": "markdown",
   "metadata": {
    "collapsed": true
   },
   "source": [
    "# Membrane and window"
   ]
  },
  {
   "cell_type": "code",
   "execution_count": null,
   "metadata": {
    "collapsed": false
   },
   "outputs": [],
   "source": [
    "t = 0.4\n",
    "stim_number = 40\n",
    "stim_onset = 0.2\n",
    "stim_offset = 0.350\n",
    "stim_rate = 6\n",
    "dt = 1e-5\n",
    "seed_stim = 1\n",
    "ns_x, ts_x = util.poisson_impulse(\n",
    "        t,\n",
    "        stim_onset,\n",
    "        stim_offset - stim_onset,\n",
    "        stim_rate,\n",
    "        n=stim_number,\n",
    "        dt=dt,\n",
    "        seed=None)\n",
    "\n",
    "print(\">>> {} spikes\".format(ts_x.size))\n",
    "print(\">>> {} population rate\".format(ts_x.size / (stim_offset - stim_onset)))"
   ]
  },
  {
   "cell_type": "code",
   "execution_count": null,
   "metadata": {
    "collapsed": false
   },
   "outputs": [],
   "source": [
    "params, w_in, bias_in, sigma = util.read_modes(mode)\n",
    "bias_in = np.asarray(bias_in)\n",
    "\n",
    "N = 20\n",
    "A = 0.2e-9 \n",
    "ns_y, ts_y, budget_y = neurons.adex(N, t, ns_x, ts_x, \n",
    "                                  w_in=w_in, \n",
    "                                  bias_in=bias_in-A/2, \n",
    "                                  sigma=0, \n",
    "                                  A=A, f=30, **params)"
   ]
  },
  {
   "cell_type": "code",
   "execution_count": null,
   "metadata": {
    "collapsed": false
   },
   "outputs": [],
   "source": [
    "# Extract budgets\n",
    "combine = True\n",
    "ns_first, ts_first = locate_firsts(ns_y, ts_y, combine=combine)\n",
    "voltages_m = filter_voltages(\n",
    "    budget_y,\n",
    "    ns_first,\n",
    "    ts_first,\n",
    "    budget_delay=-2e-3,\n",
    "    budget_width=2e-3,\n",
    "    combine=combine)\n",
    "\n",
    "times = budget_y['times']\n",
    "\n",
    "\n",
    "p = figure(plot_width=400, plot_height=200)\n",
    "\n",
    "fulls = []\n",
    "wins = []\n",
    "labels_f = []\n",
    "labels_w = []\n",
    "for i, n in enumerate(set(ns_y)):\n",
    "    v = voltages_m['V_m'][i, :]\n",
    "    if not combine:\n",
    "        times = voltages_m['times'][i, :]\n",
    "    else:\n",
    "        times = voltages_m['times']\n",
    "    \n",
    "    p.line(x=times, y=v, color=\"blue\", alpha=0.5, line_width=3)\n",
    "    \n",
    "    v_full = budget_y['V_m'][n, :]\n",
    "    times_full = budget_y['times']\n",
    "    p.line(x=times_full, y=v_full, color=\"black\", alpha=0.5, line_width=0.5)\n",
    "    \n",
    "    fulls.append(v_full)\n",
    "    wins.append(v)\n",
    "    \n",
    "    labels_f.append(np.repeat(n, v_full.size))\n",
    "    labels_w.append(np.repeat(n, v.size))\n",
    "    \n",
    "p.xaxis.axis_label = 'Time (s)'\n",
    "p.yaxis.axis_label = 'Vm (volts)'\n",
    "# p.x_range = Range1d(0.63, 0.7)\n",
    "p.y_range = Range1d(-66e-3, -48e-3)\n",
    "p.xgrid.grid_line_color = None\n",
    "p.ygrid.grid_line_color = None\n",
    "show(p)"
   ]
  },
  {
   "cell_type": "code",
   "execution_count": null,
   "metadata": {
    "collapsed": false
   },
   "outputs": [],
   "source": [
    "ts_first"
   ]
  },
  {
   "cell_type": "markdown",
   "metadata": {},
   "source": [
    "## Save examples ....\n",
    "\n",
    "to replot in R (ensuring consistency with other plots)"
   ]
  },
  {
   "cell_type": "code",
   "execution_count": null,
   "metadata": {
    "collapsed": false
   },
   "outputs": [],
   "source": [
    "np.savetxt(\"../analysis/vm_full_examples.csv\", \n",
    "           np.vstack([times_full, np.vstack(fulls)]).T, \n",
    "           delimiter=\",\", \n",
    "           header=\",\".join([\"t\"] + [str(n) for n in range(N)]), \n",
    "           comments=\"\")\n",
    "\n",
    "np.savetxt(\"../analysis/vm_window_examples_d2_w2.csv\", \n",
    "           np.vstack([times, np.vstack(wins)]).T, \n",
    "           delimiter=\",\", \n",
    "           header=\",\".join([\"t\"] + [str(n) for n in range(N)]), \n",
    "           comments=\"\")"
   ]
  },
  {
   "cell_type": "markdown",
   "metadata": {},
   "source": [
    "# Membrane noise"
   ]
  },
  {
   "cell_type": "code",
   "execution_count": null,
   "metadata": {
    "collapsed": false
   },
   "outputs": [],
   "source": [
    "from numpy.random import normal\n",
    "\n",
    "# Create data\n",
    "times = fsutil.create_times(0.1, 1e-4)\n",
    "y = normal(0, .001, times.size)\n",
    "\n",
    "# Plot\n",
    "p = figure(plot_width=300, plot_height=30, toolbar_location=None)\n",
    "\n",
    "p.line(x=times, y=y, color=\"blue\", alpha=0.6)\n",
    "\n",
    "p.xgrid.grid_line_color = None\n",
    "p.ygrid.grid_line_color = None\n",
    "p.yaxis.axis_label = 'Membrane voltages'\n",
    "p.xaxis.axis_label = 'Time (s)'\n",
    "#     p.xaxis.axis_label_text_font_size = '10pt'\n",
    "p.yaxis.axis_label_text_font_size = '10pt'\n",
    "\n",
    "p.xaxis.minor_tick_line_color = None  # turn off x-axis minor ticks\n",
    "\n",
    "p.yaxis.major_tick_line_color = None  # turn off y-axis major ticks\n",
    "p.yaxis.minor_tick_line_color = None  # turn off y-axis minor ticks\n",
    "p.yaxis.major_label_text_font_size = '0pt'  # turn off y-axis tick labels\n",
    "#     p.xaxis.major_label_text_font_size = '10pt'  # turn off y-axis tick labels\n",
    "p.axis.visible = False\n",
    "show(p)"
   ]
  },
  {
   "cell_type": "markdown",
   "metadata": {},
   "source": [
    "# Single neuron decomp"
   ]
  },
  {
   "cell_type": "code",
   "execution_count": null,
   "metadata": {
    "collapsed": false
   },
   "outputs": [],
   "source": [
    "t = 0.4\n",
    "stim_number = 40\n",
    "stim_onset = 0.2\n",
    "stim_offset = 0.350\n",
    "stim_rate = 6\n",
    "dt = 1e-5\n",
    "seed_stim = 1\n",
    "ns_x, ts_x = util.poisson_impulse(\n",
    "        t,\n",
    "        stim_onset,\n",
    "        stim_offset - stim_onset,\n",
    "        stim_rate,\n",
    "        n=stim_number,\n",
    "        dt=dt,\n",
    "        seed=None)\n",
    "\n",
    "print(\">>> {} spikes\".format(ts_x.size))\n",
    "print(\">>> {} population rate\".format(ts_x.size / (stim_offset - stim_onset)))"
   ]
  },
  {
   "cell_type": "code",
   "execution_count": null,
   "metadata": {
    "collapsed": true
   },
   "outputs": [],
   "source": [
    "params, w_in, bias_in, sigma = util.read_modes(mode)\n",
    "bias_in = np.asarray(bias_in)\n",
    "\n",
    "N = 20\n",
    "A = 0.2e-9 \n",
    "ns_y, ts_y, budget_y = neurons.adex(N, t, ns_x, ts_x, \n",
    "                                  w_in=w_in, \n",
    "                                  bias_in=bias_in-A/2, \n",
    "                                  sigma=0, \n",
    "                                  A=A, f=30, **params)"
   ]
  },
  {
   "cell_type": "code",
   "execution_count": null,
   "metadata": {
    "collapsed": true
   },
   "outputs": [],
   "source": [
    "n = 1"
   ]
  },
  {
   "cell_type": "code",
   "execution_count": null,
   "metadata": {
    "collapsed": false
   },
   "outputs": [],
   "source": [
    "times = budget_y['times']\n",
    "v_c = budget_y['V_comp'][n, :]\n",
    "\n",
    "p = figure(plot_width=400, plot_height=200)\n",
    "p.line(x=times, y=-70e-3 - v_c, color=\"purple\")\n",
    "p.xaxis.axis_label = 'Time (s)'\n",
    "p.yaxis.axis_label = 'Vm (volts)'\n",
    "p.xgrid.grid_line_color = None\n",
    "p.ygrid.grid_line_color = None\n",
    "show(p)"
   ]
  },
  {
   "cell_type": "code",
   "execution_count": null,
   "metadata": {
    "collapsed": false
   },
   "outputs": [],
   "source": [
    "times = budget_y['times']\n",
    "v_o = budget_y['V_osc'][n, :]\n",
    "\n",
    "p = figure(plot_width=400, plot_height=200)\n",
    "p.line(x=times, y=-70e-3 - v_o, color=\"red\")\n",
    "p.xaxis.axis_label = 'Time (s)'\n",
    "p.yaxis.axis_label = 'Vm (volts)'\n",
    "p.xgrid.grid_line_color = None\n",
    "p.ygrid.grid_line_color = None\n",
    "show(p)"
   ]
  },
  {
   "cell_type": "code",
   "execution_count": null,
   "metadata": {
    "collapsed": false
   },
   "outputs": [],
   "source": [
    "p = figure(plot_width=400, plot_height=200)\n",
    "p.line(x=times, y=-70e-3 - v_c - v_o, color=\"blue\")\n",
    "p.xaxis.axis_label = 'Time (s)'\n",
    "p.yaxis.axis_label = 'Vm (volts)'\n",
    "p.xgrid.grid_line_color = None\n",
    "p.ygrid.grid_line_color = None\n",
    "show(p)"
   ]
  },
  {
   "cell_type": "code",
   "execution_count": null,
   "metadata": {
    "collapsed": false
   },
   "outputs": [],
   "source": [
    "p = figure(plot_width=400, plot_height=200)\n",
    "p.line(x=times, y=-70e-3 - v_o, color=\"red\")\n",
    "p.line(x=times, y=-70e-3 - v_c - v_o, color=\"purple\")\n",
    "p.xaxis.axis_label = 'Time (s)'\n",
    "p.yaxis.axis_label = 'Vm (volts)'\n",
    "p.xgrid.grid_line_color = None\n",
    "p.ygrid.grid_line_color = None\n",
    "show(p)"
   ]
  },
  {
   "cell_type": "code",
   "execution_count": null,
   "metadata": {
    "collapsed": true
   },
   "outputs": [],
   "source": [
    "vs = np.vstack([times, -70e-3 - v_o, -70e-3 - v_c - v_o, -70e-3 - v_c - v_o]).T\n",
    "header = \"t, osc, comp, vm\""
   ]
  },
  {
   "cell_type": "code",
   "execution_count": null,
   "metadata": {
    "collapsed": false
   },
   "outputs": [],
   "source": [
    "np.savetxt(\"../analysis/vm_comp_timecourse.csv\", \n",
    "           vs,\n",
    "           delimiter=\",\", \n",
    "           header=header,\n",
    "           comments=\"\")"
   ]
  },
  {
   "cell_type": "code",
   "execution_count": null,
   "metadata": {
    "collapsed": false
   },
   "outputs": [],
   "source": [
    "ts_y"
   ]
  },
  {
   "cell_type": "code",
   "execution_count": null,
   "metadata": {
    "collapsed": true
   },
   "outputs": [],
   "source": []
  }
 ],
 "metadata": {
  "kernelspec": {
   "display_name": "Python 2",
   "language": "python",
   "name": "python2"
  },
  "language_info": {
   "codemirror_mode": {
    "name": "ipython",
    "version": 2
   },
   "file_extension": ".py",
   "mimetype": "text/x-python",
   "name": "python",
   "nbconvert_exporter": "python",
   "pygments_lexer": "ipython2",
   "version": "2.7.13"
  }
 },
 "nbformat": 4,
 "nbformat_minor": 2
}
