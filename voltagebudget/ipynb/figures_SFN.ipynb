{
 "cells": [
  {
   "cell_type": "code",
   "execution_count": null,
   "metadata": {
    "collapsed": false
   },
   "outputs": [],
   "source": [
    "from bokeh.plotting import figure\n",
    "from bokeh.io import show, output_notebook\n",
    "from bokeh.layouts import column, row\n",
    "from bokeh.models import Range1d\n",
    "from bokeh.io import export_png\n",
    "output_notebook()\n",
    "\n",
    "import numpy as np\n",
    "\n",
    "from voltagebudget import util\n",
    "from voltagebudget import neurons\n",
    "from voltagebudget.util import locate_firsts\n",
    "from voltagebudget.util import locate_peaks\n",
    "from voltagebudget.util import filter_voltages\n",
    "from fakespikes import util as fsutil\n",
    "\n",
    "from scipy.io import loadmat\n",
    "\n",
    "from pprint import pprint\n",
    "\n",
    "def plot_mode_example(budget_y, mode):\n",
    "    times = budget_y['times']\n",
    "    m = times > 0.25\n",
    "                   \n",
    "    # -\n",
    "    p = figure(title=mode, plot_width=300, plot_height=100, toolbar_location=None)\n",
    "    for n in range(N):\n",
    "        v = budget_y['V_m'][n, :]\n",
    "        p.line(x=times[m], y=(10e-3 * n) + v[m], color=\"black\", alpha=0.8)\n",
    "    p.xgrid.grid_line_color = None\n",
    "    p.ygrid.grid_line_color = None\n",
    "    p.axis.visible = False\n",
    "    show(p)\n",
    "    return p\n",
    "    \n",
    "def plot_step(budget_y):\n",
    "    times = budget_y['times']\n",
    "    m = times > 0.25\n",
    "    \n",
    "    I = budget_y['I_ext'][0, :]\n",
    "    p = figure(plot_width=200, plot_height=60, tools='')\n",
    "    p.line(x=times[m], y=I[m], alpha=0.5)\n",
    "    p.xgrid.grid_line_color = None\n",
    "    p.ygrid.grid_line_color = None\n",
    "    p.axis.visible = False\n",
    "    show(p)\n",
    "    return p\n",
    "\n",
    "def plot_ticks(ns, ts):\n",
    "    p = figure(plot_width=200, plot_height=120, toolbar_location=None)\n",
    "    p.circle(ts, ns, color=\"black\", size=0.7)\n",
    "    p.xaxis.axis_label = ''\n",
    "    p.yaxis.axis_label = 'N'\n",
    "    p.x_range = Range1d(0, t)\n",
    "    p.xgrid.grid_line_color = None\n",
    "    p.ygrid.grid_line_color = None\n",
    "    p.xaxis.major_tick_line_color = None  # turn off x-axis major ticks\n",
    "    p.xaxis.minor_tick_line_color = None  # turn off x-axis minor ticks\n",
    "\n",
    "    p.yaxis.major_tick_line_color = None  # turn off y-axis major ticks\n",
    "    p.yaxis.minor_tick_line_color = None  # turn off y-axis minor ticks\n",
    "    p.yaxis.major_label_text_font_size = '0pt'  # turn off y-axis tick labels\n",
    "    p.xaxis.major_label_text_font_size = '0pt'  # turn off y-axis tick labels\n",
    "    p.axis.visible = False\n",
    "    show(p)\n",
    "    \n",
    "def plot_input_ticks(ns, ts):\n",
    "    p = figure(plot_width=150, plot_height=80, toolbar_location=None)\n",
    "    p.circle(ts, ns, color=\"black\", size=0.7)\n",
    "    p.xaxis.axis_label = ''\n",
    "    p.yaxis.axis_label = ''\n",
    "    p.x_range = Range1d(0, t)\n",
    "    p.xgrid.grid_line_color = None\n",
    "    p.ygrid.grid_line_color = None\n",
    "    p.xaxis.major_tick_line_color = None  # turn off x-axis major ticks\n",
    "    p.xaxis.minor_tick_line_color = None  # turn off x-axis minor ticks\n",
    "\n",
    "    p.yaxis.major_tick_line_color = None  # turn off y-axis major ticks\n",
    "    p.yaxis.minor_tick_line_color = None  # turn off y-axis minor ticks\n",
    "    p.yaxis.major_label_text_font_size = '0pt'  # turn off y-axis tick labels\n",
    "    p.xaxis.major_label_text_font_size = '0pt'  # turn off y-axis tick labels\n",
    "    p.axis.visible = False\n",
    "    show(p)\n",
    "\n",
    "def plot_comp_example(budget_y, mode):                   \n",
    "    times = budget_y['times']\n",
    "    \n",
    "    p = figure(title=mode, plot_width=200, plot_height=150, toolbar_location=None)\n",
    "    for n in range(N):\n",
    "        v = budget_y['V_m'][n, :]\n",
    "        p.line(x=times, y=(10e-3 * n) + v, color=\"black\", alpha=0.8)\n",
    "    p.x_range = Range1d(0, t)\n",
    "    p.xgrid.grid_line_color = None\n",
    "    p.ygrid.grid_line_color = None\n",
    "    p.yaxis.axis_label = 'Membrane voltages'\n",
    "    p.xaxis.axis_label = 'Time (s)'\n",
    "#     p.xaxis.axis_label_text_font_size = '10pt'\n",
    "    p.yaxis.axis_label_text_font_size = '10pt'\n",
    "    \n",
    "#     p.xaxis.minor_tick_line_color = None  # turn off x-axis minor ticks\n",
    "\n",
    "    p.yaxis.major_tick_line_color = None  # turn off y-axis major ticks\n",
    "    p.yaxis.minor_tick_line_color = None  # turn off y-axis minor ticks\n",
    "    p.yaxis.major_label_text_font_size = '0pt'  # turn off y-axis tick labels\n",
    "    p.xaxis.major_label_text_font_size = '10pt'  # turn off y-axis tick labels\n",
    "    p.axis.visible = False\n",
    "    show(p)\n",
    "    \n",
    "    return p"
   ]
  },
  {
   "cell_type": "markdown",
   "metadata": {},
   "source": [
    "# Neuron examples"
   ]
  },
  {
   "cell_type": "code",
   "execution_count": null,
   "metadata": {
    "collapsed": false
   },
   "outputs": [],
   "source": [
    "modes = util.get_mode_names()\n",
    "pprint(modes)"
   ]
  },
  {
   "cell_type": "code",
   "execution_count": null,
   "metadata": {
    "collapsed": true
   },
   "outputs": [],
   "source": [
    "# -\n",
    "N = 1\n",
    "t = 1.25"
   ]
  },
  {
   "cell_type": "code",
   "execution_count": null,
   "metadata": {
    "collapsed": false,
    "scrolled": false
   },
   "outputs": [],
   "source": [
    "mode = 'regular'\n",
    "params, w_in, bias_in, sigma = util.read_modes(mode)\n",
    "\n",
    "# -\n",
    "ns_y, ts_y, budget_y = neurons.adex(N, t, np.asarray([0]), np.asarray([0]), \n",
    "                                  w_in=0, bias_in=np.asarray(bias_in_in)*0.25, \n",
    "                                  A=0, f=0,\n",
    "                                  sigma=sigma,\n",
    "                                  step_params=(3.5e-10, 1, 0.5),\n",
    "                                  report=None,\n",
    "                                  **params)\n",
    "\n",
    "p = plot_mode_example(budget_y, None)"
   ]
  },
  {
   "cell_type": "code",
   "execution_count": null,
   "metadata": {
    "collapsed": false
   },
   "outputs": [],
   "source": [
    "mode = 'adaption'\n",
    "params, w_in, bias_in, sigma = util.read_modes(mode)\n",
    "\n",
    "# -\n",
    "ns_y, ts_y, budget_y = neurons.adex(N, t, np.asarray([0]), np.asarray([0]), \n",
    "                                  w_in=0, bias_in=bias_in*0.25, \n",
    "                                  A=.25e-9, f=0,\n",
    "                                  sigma=sigma,\n",
    "                                  step_params=(3.5e-10, 1, 0.5),\n",
    "                                  report=None,\n",
    "                                  **params)\n",
    "\n",
    "plot_mode_example(budget_y, None)"
   ]
  },
  {
   "cell_type": "code",
   "execution_count": null,
   "metadata": {
    "collapsed": false
   },
   "outputs": [],
   "source": [
    "mode = 'delayed_accelerating'\n",
    "params, w_in, bias_in, sigma = util.read_modes(mode)\n",
    "\n",
    "# -\n",
    "ns_y, ts_y, budget_y = neurons.adex(N, t, np.asarray([0]), np.asarray([0]), \n",
    "                                  w_in=0, bias_in=bias_in*0.25, \n",
    "                                  A=.25e-9, f=0,\n",
    "                                  sigma=sigma,\n",
    "                                  step_params=(3e-10, 1, 0.5),\n",
    "                                  report=None,\n",
    "                                  **params)\n",
    "\n",
    "plot_mode_example(budget_y, None)"
   ]
  },
  {
   "cell_type": "code",
   "execution_count": null,
   "metadata": {
    "collapsed": false
   },
   "outputs": [],
   "source": [
    "mode = 'regular_burst'\n",
    "params, w_in, bias_in, sigma = util.read_modes(mode)\n",
    "\n",
    "# -\n",
    "ns_y, ts_y, budget_y = neurons.adex(N, t, np.asarray([0]), np.asarray([0]), \n",
    "                                  w_in=0, bias_in=bias_in*0.25, \n",
    "                                  A=.25e-9, f=0,\n",
    "                                  sigma=sigma,\n",
    "                                  step_params=(5e-10, 1, 0.5),\n",
    "                                  report=None,\n",
    "                                  **params)\n",
    "\n",
    "plot_mode_example(budget_y, None)"
   ]
  },
  {
   "cell_type": "code",
   "execution_count": null,
   "metadata": {
    "collapsed": false
   },
   "outputs": [],
   "source": [
    "mode = 'initial_burst'\n",
    "params, w_in, bias_in, sigma = util.read_modes(mode)\n",
    "\n",
    "# -\n",
    "ns_y, ts_y, budget_y = neurons.adex(N, t, np.asarray([0]), np.asarray([0]), \n",
    "                                  w_in=0, bias_in=bias_in*0.25, \n",
    "                                  A=.25e-9, f=0,\n",
    "                                  sigma=sigma,\n",
    "                                  step_params=(4e-10, 1, 0.5),\n",
    "                                  report=None,\n",
    "                                  **params)\n",
    "\n",
    "plot_mode_example(budget_y, None)"
   ]
  },
  {
   "cell_type": "code",
   "execution_count": null,
   "metadata": {
    "collapsed": false
   },
   "outputs": [],
   "source": [
    "mode = 'delayed_regular_bursting'\n",
    "params, w_in, bias_in, sigma = util.read_modes(mode)\n",
    "\n",
    "# -\n",
    "ns_y, ts_y, budget_y = neurons.adex(N, t, np.asarray([0]), np.asarray([0]), \n",
    "                                  w_in=0, bias_in=bias_in*0.25, \n",
    "                                  A=.25e-9, f=0,\n",
    "                                  sigma=sigma,\n",
    "                                  step_params=(2e-10, 1, 0.5),\n",
    "                                  report=None,\n",
    "                                  **params)\n",
    "\n",
    "plot_mode_example(budget_y, None)"
   ]
  },
  {
   "cell_type": "markdown",
   "metadata": {},
   "source": [
    "# Computation versus coordination"
   ]
  },
  {
   "cell_type": "code",
   "execution_count": null,
   "metadata": {
    "collapsed": false
   },
   "outputs": [],
   "source": [
    "t = 0.4\n",
    "\n",
    "k = 20\n",
    "stim_onset = 0.1\n",
    "stim_offset = 0.3\n",
    "stim_rate = 12\n",
    "dt = 1e-5\n",
    "seed_stim = 1\n",
    "ns, ts = util.poisson_impulse(\n",
    "        t,\n",
    "        stim_onset,\n",
    "        stim_offset - stim_onset,\n",
    "        stim_rate,\n",
    "        n=k,\n",
    "        dt=dt,\n",
    "        seed=None)\n",
    "\n",
    "plot_input_ticks(ns, ts)\n",
    "print(\">>> {} spikes\".format(ts.size))\n",
    "print(\">>> {} population rate\".format(ts.size / (stim_offset - stim_onset)))"
   ]
  },
  {
   "cell_type": "markdown",
   "metadata": {},
   "source": [
    "### Regular firing"
   ]
  },
  {
   "cell_type": "code",
   "execution_count": null,
   "metadata": {
    "collapsed": false
   },
   "outputs": [],
   "source": [
    "#set mode\n",
    "mode = 'regular'\n",
    "N = 50\n",
    "\n",
    "params, w_in, bias_in, sigma = util.read_modes(mode)\n",
    "bias_in = np.asarray(bias_in)\n",
    "\n",
    "print(w_in)"
   ]
  },
  {
   "cell_type": "code",
   "execution_count": null,
   "metadata": {
    "collapsed": false
   },
   "outputs": [],
   "source": [
    "ns_y, ts_y, budget = neurons.adex(N, t, ns, ts, \n",
    "                                  w_in=w_in, \n",
    "                                  bias_in=bias_in, \n",
    "                                  sigma=0, \n",
    "                                  report=None,\n",
    "                                  A=.0, f=0, **params)\n",
    "plot_ticks(ns_y, ts_y)\n",
    "plot_comp_example(budget, None)"
   ]
  },
  {
   "cell_type": "code",
   "execution_count": null,
   "metadata": {
    "collapsed": false
   },
   "outputs": [],
   "source": [
    "A1 = 0.2e-9\n",
    "ns_y, ts_y, budget = neurons.adex(N, t, ns, ts, \n",
    "                                  w_in=w_in, \n",
    "                                  bias_in=bias_in - A1/2, \n",
    "                                  sigma=0, \n",
    "                                  report=None,\n",
    "                                  A=A1, f=30, **params)\n",
    "plot_ticks(ns_y, ts_y)\n",
    "plot_comp_example(budget, None)"
   ]
  },
  {
   "cell_type": "code",
   "execution_count": null,
   "metadata": {
    "collapsed": false
   },
   "outputs": [],
   "source": [
    "A2 = 0.8e-9\n",
    "ns_y, ts_y, budget = neurons.adex(N, t, ns, ts, \n",
    "                                  w_in=w_in, \n",
    "                                  bias_in=bias_in - A2/2, \n",
    "                                  sigma=0, \n",
    "                                  report=None,\n",
    "                                  A=A2, f=30, **params)\n",
    "plot_ticks(ns_y, ts_y)\n",
    "plot_comp_example(budget, None)"
   ]
  },
  {
   "cell_type": "markdown",
   "metadata": {
    "collapsed": true
   },
   "source": [
    "# Example oscillations"
   ]
  },
  {
   "cell_type": "code",
   "execution_count": null,
   "metadata": {
    "collapsed": true
   },
   "outputs": [],
   "source": [
    "from scipy.io import loadmat\n",
    "import h5py\n",
    "\n",
    "from scipy.io import loadmat\n",
    "from scipy.signal import hilbert\n",
    "from scipy.signal import butter, lfilter\n",
    "\n",
    "def butter_bandpass(lowcut, highcut, fs, order=5):\n",
    "    nyq = 0.5 * fs\n",
    "    low = lowcut / nyq\n",
    "    high = highcut / nyq\n",
    "    b, a = butter(order, [low, high], btype='band')\n",
    "    \n",
    "    return b, a\n",
    "\n",
    "def butter_bandpass_filter(data, lowcut, highcut, fs, order=5):\n",
    "    b, a = butter_bandpass(lowcut, highcut, fs, order=order)\n",
    "    y = lfilter(b, a, data)\n",
    "    \n",
    "    return y\n",
    "\n"
   ]
  },
  {
   "cell_type": "code",
   "execution_count": null,
   "metadata": {
    "collapsed": false
   },
   "outputs": [],
   "source": [
    "hippo_file = h5py.File(\"lfp0.mat\")"
   ]
  },
  {
   "cell_type": "code",
   "execution_count": null,
   "metadata": {
    "collapsed": false
   },
   "outputs": [],
   "source": [
    "hippo = np.squeeze(hippo_file['lfp'].value)\n",
    "hippo = butter_bandpass_filter(hippo, 1, 30, 500, order=2)\n",
    "times = range(hippo.size)\n"
   ]
  },
  {
   "cell_type": "code",
   "execution_count": null,
   "metadata": {
    "collapsed": false
   },
   "outputs": [],
   "source": [
    "p = figure(plot_width=300, plot_height=100, toolbar_location=None)\n",
    "\n",
    "p.line(x=times[:2500], y=hippo[:2500], color=\"black\", alpha=0.8)\n",
    "\n",
    "p.xgrid.grid_line_color = None\n",
    "p.ygrid.grid_line_color = None\n",
    "p.yaxis.axis_label = 'Membrane voltages'\n",
    "p.xaxis.axis_label = 'Time (s)'\n",
    "#     p.xaxis.axis_label_text_font_size = '10pt'\n",
    "p.yaxis.axis_label_text_font_size = '10pt'\n",
    "\n",
    "p.xaxis.minor_tick_line_color = None  # turn off x-axis minor ticks\n",
    "\n",
    "p.yaxis.major_tick_line_color = None  # turn off y-axis major ticks\n",
    "p.yaxis.minor_tick_line_color = None  # turn off y-axis minor ticks\n",
    "p.yaxis.major_label_text_font_size = '0pt'  # turn off y-axis tick labels\n",
    "#     p.xaxis.major_label_text_font_size = '10pt'  # turn off y-axis tick labels\n",
    "p.axis.visible = False\n",
    "show(p)\n",
    "\n"
   ]
  },
  {
   "cell_type": "code",
   "execution_count": null,
   "metadata": {
    "collapsed": true
   },
   "outputs": [],
   "source": []
  },
  {
   "cell_type": "markdown",
   "metadata": {
    "collapsed": true
   },
   "source": [
    "# Visual alpha (task)"
   ]
  },
  {
   "cell_type": "code",
   "execution_count": null,
   "metadata": {
    "collapsed": false
   },
   "outputs": [],
   "source": [
    "alpha = loadmat('alpha_data.mat')['oz_dat_task'][0,:]"
   ]
  },
  {
   "cell_type": "code",
   "execution_count": null,
   "metadata": {
    "collapsed": false
   },
   "outputs": [],
   "source": [
    "alpha = butter_bandpass_filter(alpha, 1, 30, 500, order=2)\n",
    "times = range(alpha.size)"
   ]
  },
  {
   "cell_type": "code",
   "execution_count": null,
   "metadata": {
    "collapsed": false
   },
   "outputs": [],
   "source": [
    "p = figure(plot_width=300, plot_height=100, toolbar_location=None)\n",
    "\n",
    "p.line(x=times[:2000], y=alpha[:2000], color=\"black\", alpha=0.8)\n",
    "\n",
    "p.xgrid.grid_line_color = None\n",
    "p.ygrid.grid_line_color = None\n",
    "p.yaxis.axis_label = 'Membrane voltages'\n",
    "p.xaxis.axis_label = 'Time (s)'\n",
    "#     p.xaxis.axis_label_text_font_size = '10pt'\n",
    "p.yaxis.axis_label_text_font_size = '10pt'\n",
    "\n",
    "p.xaxis.minor_tick_line_color = None  # turn off x-axis minor ticks\n",
    "\n",
    "p.yaxis.major_tick_line_color = None  # turn off y-axis major ticks\n",
    "p.yaxis.minor_tick_line_color = None  # turn off y-axis minor ticks\n",
    "p.yaxis.major_label_text_font_size = '0pt'  # turn off y-axis tick labels\n",
    "#     p.xaxis.major_label_text_font_size = '10pt'  # turn off y-axis tick labels\n",
    "p.axis.visible = False\n",
    "show(p)"
   ]
  },
  {
   "cell_type": "markdown",
   "metadata": {
    "collapsed": true
   },
   "source": [
    "# Membrane and window"
   ]
  },
  {
   "cell_type": "code",
   "execution_count": null,
   "metadata": {
    "collapsed": false
   },
   "outputs": [],
   "source": [
    "t = 0.4\n",
    "stim_number = 40\n",
    "stim_onset = 0.2\n",
    "stim_offset = 0.350\n",
    "stim_rate = 6\n",
    "dt = 1e-5\n",
    "seed_stim = 1\n",
    "ns_x, ts_x = util.poisson_impulse(\n",
    "        t,\n",
    "        stim_onset,\n",
    "        stim_offset - stim_onset,\n",
    "        stim_rate,\n",
    "        n=stim_number,\n",
    "        dt=dt,\n",
    "        seed=None)\n",
    "\n",
    "print(\">>> {} spikes\".format(ts_x.size))\n",
    "print(\">>> {} population rate\".format(ts_x.size / (stim_offset - stim_onset)))"
   ]
  },
  {
   "cell_type": "code",
   "execution_count": null,
   "metadata": {
    "collapsed": false
   },
   "outputs": [],
   "source": [
    "params, w_in, bias_in, sigma = util.read_modes(mode)\n",
    "bias_in = np.asarray(bias_in)\n",
    "\n",
    "N = 20\n",
    "A = 0.2e-9 \n",
    "ns_y, ts_y, budget_y = neurons.adex(N, t, ns_x, ts_x, \n",
    "                                  w_in=w_in, \n",
    "                                  bias_in=bias_in-A/2, \n",
    "                                  sigma=0, \n",
    "                                  A=A, f=30, **params)"
   ]
  },
  {
   "cell_type": "code",
   "execution_count": null,
   "metadata": {
    "collapsed": false
   },
   "outputs": [],
   "source": [
    "# Extract budgets\n",
    "combine = True\n",
    "ns_first, ts_first = locate_firsts(ns_y, ts_y, combine=combine)\n",
    "voltages_m = filter_voltages(\n",
    "    budget_y,\n",
    "    ns_first,\n",
    "    ts_first,\n",
    "    budget_delay=-2e-3,\n",
    "    budget_width=2e-3,\n",
    "    combine=combine)\n",
    "\n",
    "times = budget_y['times']\n",
    "\n",
    "\n",
    "p = figure(plot_width=400, plot_height=200)\n",
    "\n",
    "fulls = []\n",
    "wins = []\n",
    "labels_f = []\n",
    "labels_w = []\n",
    "for i, n in enumerate(set(ns_y)):\n",
    "    v = voltages_m['V_m'][i, :]\n",
    "    if not combine:\n",
    "        times = voltages_m['times'][i, :]\n",
    "    else:\n",
    "        times = voltages_m['times']\n",
    "    \n",
    "    p.line(x=times, y=v, color=\"blue\", alpha=0.5, line_width=3)\n",
    "    \n",
    "    v_full = budget_y['V_m'][n, :]\n",
    "    times_full = budget_y['times']\n",
    "    p.line(x=times_full, y=v_full, color=\"black\", alpha=0.5, line_width=0.5)\n",
    "    \n",
    "    fulls.append(v_full)\n",
    "    wins.append(v)\n",
    "    \n",
    "    labels_f.append(np.repeat(n, v_full.size))\n",
    "    labels_w.append(np.repeat(n, v.size))\n",
    "    \n",
    "p.xaxis.axis_label = 'Time (s)'\n",
    "p.yaxis.axis_label = 'Vm (volts)'\n",
    "# p.x_range = Range1d(0.63, 0.7)\n",
    "p.y_range = Range1d(-66e-3, -48e-3)\n",
    "p.xgrid.grid_line_color = None\n",
    "p.ygrid.grid_line_color = None\n",
    "show(p)"
   ]
  },
  {
   "cell_type": "code",
   "execution_count": null,
   "metadata": {
    "collapsed": false
   },
   "outputs": [],
   "source": [
    "ts_first"
   ]
  },
  {
   "cell_type": "markdown",
   "metadata": {},
   "source": [
    "## Save examples ....\n",
    "\n",
    "to replot in R (ensuring consistency with other plots)"
   ]
  },
  {
   "cell_type": "code",
   "execution_count": null,
   "metadata": {
    "collapsed": false
   },
   "outputs": [],
   "source": [
    "np.savetxt(\"../analysis/vm_full_examples.csv\", \n",
    "           np.vstack([times_full, np.vstack(fulls)]).T, \n",
    "           delimiter=\",\", \n",
    "           header=\",\".join([\"t\"] + [str(n) for n in range(N)]), \n",
    "           comments=\"\")\n",
    "\n",
    "np.savetxt(\"../analysis/vm_window_examples_d2_w2.csv\", \n",
    "           np.vstack([times, np.vstack(wins)]).T, \n",
    "           delimiter=\",\", \n",
    "           header=\",\".join([\"t\"] + [str(n) for n in range(N)]), \n",
    "           comments=\"\")"
   ]
  },
  {
   "cell_type": "markdown",
   "metadata": {},
   "source": [
    "# Membrane noise"
   ]
  },
  {
   "cell_type": "code",
   "execution_count": null,
   "metadata": {
    "collapsed": false
   },
   "outputs": [],
   "source": [
    "from numpy.random import normal\n",
    "\n",
    "# Create data\n",
    "times = fsutil.create_times(0.1, 1e-4)\n",
    "y = normal(0, .001, times.size)\n",
    "\n",
    "# Plot\n",
    "p = figure(plot_width=300, plot_height=30, toolbar_location=None)\n",
    "\n",
    "p.line(x=times, y=y, color=\"blue\", alpha=0.6)\n",
    "\n",
    "p.xgrid.grid_line_color = None\n",
    "p.ygrid.grid_line_color = None\n",
    "p.yaxis.axis_label = 'Membrane voltages'\n",
    "p.xaxis.axis_label = 'Time (s)'\n",
    "#     p.xaxis.axis_label_text_font_size = '10pt'\n",
    "p.yaxis.axis_label_text_font_size = '10pt'\n",
    "\n",
    "p.xaxis.minor_tick_line_color = None  # turn off x-axis minor ticks\n",
    "\n",
    "p.yaxis.major_tick_line_color = None  # turn off y-axis major ticks\n",
    "p.yaxis.minor_tick_line_color = None  # turn off y-axis minor ticks\n",
    "p.yaxis.major_label_text_font_size = '0pt'  # turn off y-axis tick labels\n",
    "#     p.xaxis.major_label_text_font_size = '10pt'  # turn off y-axis tick labels\n",
    "p.axis.visible = False\n",
    "show(p)"
   ]
  },
  {
   "cell_type": "markdown",
   "metadata": {},
   "source": [
    "# Single neuron decomp"
   ]
  },
  {
   "cell_type": "code",
   "execution_count": null,
   "metadata": {
    "collapsed": false
   },
   "outputs": [],
   "source": [
    "t = 0.4\n",
    "stim_number = 40\n",
    "stim_onset = 0.2\n",
    "stim_offset = 0.350\n",
    "stim_rate = 6\n",
    "dt = 1e-5\n",
    "seed_stim = 1\n",
    "ns_x, ts_x = util.poisson_impulse(\n",
    "        t,\n",
    "        stim_onset,\n",
    "        stim_offset - stim_onset,\n",
    "        stim_rate,\n",
    "        n=stim_number,\n",
    "        dt=dt,\n",
    "        seed=None)\n",
    "\n",
    "print(\">>> {} spikes\".format(ts_x.size))\n",
    "print(\">>> {} population rate\".format(ts_x.size / (stim_offset - stim_onset)))"
   ]
  },
  {
   "cell_type": "code",
   "execution_count": null,
   "metadata": {
    "collapsed": true
   },
   "outputs": [],
   "source": [
    "params, w_in, bias_in, sigma = util.read_modes(mode)\n",
    "bias_in = np.asarray(bias_in)\n",
    "\n",
    "N = 20\n",
    "A = 0.2e-9 \n",
    "ns_y, ts_y, budget_y = neurons.adex(N, t, ns_x, ts_x, \n",
    "                                  w_in=w_in, \n",
    "                                  bias_in=bias_in-A/2, \n",
    "                                  sigma=0, \n",
    "                                  A=A, f=30, **params)"
   ]
  },
  {
   "cell_type": "code",
   "execution_count": null,
   "metadata": {
    "collapsed": true
   },
   "outputs": [],
   "source": [
    "n = 1"
   ]
  },
  {
   "cell_type": "code",
   "execution_count": null,
   "metadata": {
    "collapsed": false
   },
   "outputs": [],
   "source": [
    "times = budget_y['times']\n",
    "v_c = budget_y['V_comp'][n, :]\n",
    "\n",
    "p = figure(plot_width=400, plot_height=200)\n",
    "p.line(x=times, y=-70e-3 - v_c, color=\"purple\")\n",
    "p.xaxis.axis_label = 'Time (s)'\n",
    "p.yaxis.axis_label = 'Vm (volts)'\n",
    "p.xgrid.grid_line_color = None\n",
    "p.ygrid.grid_line_color = None\n",
    "show(p)"
   ]
  },
  {
   "cell_type": "code",
   "execution_count": null,
   "metadata": {
    "collapsed": false
   },
   "outputs": [],
   "source": [
    "times = budget_y['times']\n",
    "v_o = budget_y['V_osc'][n, :]\n",
    "\n",
    "p = figure(plot_width=400, plot_height=200)\n",
    "p.line(x=times, y=-70e-3 - v_o, color=\"red\")\n",
    "p.xaxis.axis_label = 'Time (s)'\n",
    "p.yaxis.axis_label = 'Vm (volts)'\n",
    "p.xgrid.grid_line_color = None\n",
    "p.ygrid.grid_line_color = None\n",
    "show(p)"
   ]
  },
  {
   "cell_type": "code",
   "execution_count": null,
   "metadata": {
    "collapsed": false
   },
   "outputs": [],
   "source": [
    "p = figure(plot_width=400, plot_height=200)\n",
    "p.line(x=times, y=-70e-3 - v_c - v_o, color=\"blue\")\n",
    "p.xaxis.axis_label = 'Time (s)'\n",
    "p.yaxis.axis_label = 'Vm (volts)'\n",
    "p.xgrid.grid_line_color = None\n",
    "p.ygrid.grid_line_color = None\n",
    "show(p)"
   ]
  },
  {
   "cell_type": "code",
   "execution_count": null,
   "metadata": {
    "collapsed": false
   },
   "outputs": [],
   "source": [
    "p = figure(plot_width=400, plot_height=200)\n",
    "p.line(x=times, y=-70e-3 - v_o, color=\"red\")\n",
    "p.line(x=times, y=-70e-3 - v_c - v_o, color=\"purple\")\n",
    "p.xaxis.axis_label = 'Time (s)'\n",
    "p.yaxis.axis_label = 'Vm (volts)'\n",
    "p.xgrid.grid_line_color = None\n",
    "p.ygrid.grid_line_color = None\n",
    "show(p)"
   ]
  },
  {
   "cell_type": "code",
   "execution_count": null,
   "metadata": {
    "collapsed": true
   },
   "outputs": [],
   "source": [
    "vs = np.vstack([times, -70e-3 - v_o, -70e-3 - v_c - v_o, -70e-3 - v_c - v_o]).T\n",
    "header = \"t, osc, comp, vm\""
   ]
  },
  {
   "cell_type": "code",
   "execution_count": null,
   "metadata": {
    "collapsed": false
   },
   "outputs": [],
   "source": [
    "np.savetxt(\"../analysis/vm_comp_timecourse.csv\", \n",
    "           vs,\n",
    "           delimiter=\",\", \n",
    "           header=header,\n",
    "           comments=\"\")"
   ]
  },
  {
   "cell_type": "code",
   "execution_count": null,
   "metadata": {
    "collapsed": false
   },
   "outputs": [],
   "source": [
    "ts_y"
   ]
  },
  {
   "cell_type": "code",
   "execution_count": null,
   "metadata": {
    "collapsed": true
   },
   "outputs": [],
   "source": []
  }
 ],
 "metadata": {
  "kernelspec": {
   "display_name": "Python 2",
   "language": "python",
   "name": "python2"
  },
  "language_info": {
   "codemirror_mode": {
    "name": "ipython",
    "version": 2
   },
   "file_extension": ".py",
   "mimetype": "text/x-python",
   "name": "python",
   "nbconvert_exporter": "python",
   "pygments_lexer": "ipython2",
   "version": "2.7.13"
  }
 },
 "nbformat": 4,
 "nbformat_minor": 2
}
