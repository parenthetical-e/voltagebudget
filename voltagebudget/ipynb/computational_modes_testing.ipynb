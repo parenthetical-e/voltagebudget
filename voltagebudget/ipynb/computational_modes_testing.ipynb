{
 "cells": [
  {
   "cell_type": "code",
   "execution_count": null,
   "metadata": {
    "collapsed": false
   },
   "outputs": [],
   "source": [
    "from bokeh.plotting import figure\n",
    "from bokeh.io import show, output_notebook\n",
    "from bokeh.layouts import column, row\n",
    "from bokeh.models import Range1d\n",
    "output_notebook()\n",
    "\n",
    "import numpy as np\n",
    "\n",
    "from voltagebudget import util\n",
    "from voltagebudget import neurons\n",
    "from voltagebudget.util import locate_firsts\n",
    "from voltagebudget.util import locate_peaks\n",
    "from voltagebudget.util import filter_voltages\n",
    "from fakespikes import util as fsutil"
   ]
  },
  {
   "cell_type": "markdown",
   "metadata": {},
   "source": [
    "# Define input"
   ]
  },
  {
   "cell_type": "code",
   "execution_count": null,
   "metadata": {
    "collapsed": true
   },
   "outputs": [],
   "source": []
  },
  {
   "cell_type": "code",
   "execution_count": null,
   "metadata": {
    "collapsed": false
   },
   "outputs": [],
   "source": [
    "t = 0.4\n",
    "stim_number = 40\n",
    "stim_onset = 0.2\n",
    "stim_offset = 0.350\n",
    "stim_rate = 6\n",
    "dt = 1e-5\n",
    "seed_stim = 1\n",
    "ns_x, ts_x = util.poisson_impulse(\n",
    "        t,\n",
    "        stim_onset,\n",
    "        stim_offset - stim_onset,\n",
    "        stim_rate,\n",
    "        n=stim_number,\n",
    "        dt=dt,\n",
    "        seed=None)\n",
    "\n",
    "print(\">>> {} spikes\".format(ts_x.size))\n",
    "print(\">>> {} population rate\".format(ts_x.size / (stim_offset - stim_onset)))"
   ]
  },
  {
   "cell_type": "code",
   "execution_count": null,
   "metadata": {
    "collapsed": false
   },
   "outputs": [],
   "source": [
    "p = figure(plot_width=400, plot_height=200)\n",
    "p.circle(ts_x, ns_x, color=\"black\")\n",
    "p.xaxis.axis_label = 'Time (s)'\n",
    "p.yaxis.axis_label = 'N'\n",
    "p.x_range = Range1d(0, t)\n",
    "p.xgrid.grid_line_color = None\n",
    "p.ygrid.grid_line_color = None\n",
    "show(p)"
   ]
  },
  {
   "cell_type": "markdown",
   "metadata": {},
   "source": [
    "- Shadow voltage response of an LIF neuron to the input"
   ]
  },
  {
   "cell_type": "code",
   "execution_count": null,
   "metadata": {
    "collapsed": false
   },
   "outputs": [],
   "source": [
    "#set mode\n",
    "mode = 'regular'\n",
    "params, w_in, bias_in, sigma = util.read_modes(mode)"
   ]
  },
  {
   "cell_type": "code",
   "execution_count": null,
   "metadata": {
    "collapsed": false
   },
   "outputs": [],
   "source": [
    "print(w_in, bias_in, sigma)"
   ]
  },
  {
   "cell_type": "code",
   "execution_count": null,
   "metadata": {
    "collapsed": false
   },
   "outputs": [],
   "source": [
    "# -\n",
    "b_in = neurons.shadow_adex(10, t, ns_x, ts_x, f=0, A=0.05e-9, w_in=w_in, bias_in=bias_in, sigma=sigma, **params)\n",
    "times = b_in['times']\n",
    "v_in = b_in['V_m']\n",
    "\n",
    "# -\n",
    "p = figure(plot_width=400, plot_height=200)\n",
    "for n in range(10):\n",
    "    p.line(x=times, y=v_in[n, :], color=\"black\", alpha=0.2)\n",
    "p.xaxis.axis_label = 'Time (s)'\n",
    "p.yaxis.axis_label = 'Vm (volts)'\n",
    "p.xgrid.grid_line_color = None\n",
    "p.ygrid.grid_line_color = None\n",
    "show(p)"
   ]
  },
  {
   "cell_type": "code",
   "execution_count": null,
   "metadata": {
    "collapsed": false
   },
   "outputs": [],
   "source": []
  },
  {
   "cell_type": "code",
   "execution_count": null,
   "metadata": {
    "collapsed": false
   },
   "outputs": [],
   "source": [
    "combine = False\n",
    "ns_p, ts_p = locate_peaks(b_in, stim_onset, stim_offset, combine=combine)\n",
    "# -\n",
    "p = figure(plot_width=400, plot_height=200)\n",
    "for n in range(10):\n",
    "    p.line(x=times, y=v_in[n, :], color=\"black\", alpha=0.1)\n",
    "    if not combine:\n",
    "        p.circle(x=ts_p[n], y=v_in[n, :].max(), color=\"purple\")\n",
    "    else:\n",
    "        p.line(x=ts_p[0], y=np.linspace(v_in[:, :].min(), v_in[:, :].max(), 10), color=\"purple\")\n",
    "p.xaxis.axis_label = 'Time (s)'\n",
    "p.yaxis.axis_label = 'Vm (volts)'\n",
    "p.xgrid.grid_line_color = None\n",
    "p.ygrid.grid_line_color = None\n",
    "show(p)"
   ]
  },
  {
   "cell_type": "markdown",
   "metadata": {},
   "source": [
    "# Adex response"
   ]
  },
  {
   "cell_type": "code",
   "execution_count": null,
   "metadata": {
    "collapsed": false
   },
   "outputs": [],
   "source": [
    "N = 20\n",
    "A = .05e-9 *2\n",
    "ns_y, ts_y, budget_y = neurons.adex(N, t, ns_x, ts_x, \n",
    "                                  w_in=w_in, \n",
    "                                  bias_in=bias_in, \n",
    "                                  sigma=0, \n",
    "                                  A=0, f=0, **params)"
   ]
  },
  {
   "cell_type": "code",
   "execution_count": null,
   "metadata": {
    "collapsed": false
   },
   "outputs": [],
   "source": [
    "p = figure(plot_width=400, plot_height=200)\n",
    "p.circle(ts_y, ns_y, color=\"black\")\n",
    "p.x_range = Range1d(0.0, t)\n",
    "p.xaxis.axis_label = 'Time (s)'\n",
    "p.yaxis.axis_label = 'N'\n",
    "p.xgrid.grid_line_color = None\n",
    "p.ygrid.grid_line_color = None\n",
    "show(p)\n",
    "\n",
    "print(ts_y.size)"
   ]
  },
  {
   "cell_type": "code",
   "execution_count": null,
   "metadata": {
    "collapsed": false
   },
   "outputs": [],
   "source": [
    "ns_y"
   ]
  },
  {
   "cell_type": "code",
   "execution_count": null,
   "metadata": {
    "collapsed": false
   },
   "outputs": [],
   "source": [
    "times = budget_y['times']\n",
    "\n",
    "p = figure(plot_width=400, plot_height=200)\n",
    "for n in range(20):\n",
    "    v = budget_y['V_m'][n, :]\n",
    "    p.line(x=times, y=v, color=\"black\", alpha=0.1)\n",
    "p.xaxis.axis_label = 'Time (s)'\n",
    "p.yaxis.axis_label = 'Vm (volts)'\n",
    "p.xgrid.grid_line_color = None\n",
    "p.ygrid.grid_line_color = None\n",
    "show(p)"
   ]
  },
  {
   "cell_type": "code",
   "execution_count": null,
   "metadata": {
    "collapsed": false
   },
   "outputs": [],
   "source": [
    "# Extract budgets\n",
    "combine = True\n",
    "ns_first, ts_first = locate_firsts(ns_y, ts_y, combine=combine)\n",
    "voltages_m = filter_voltages(\n",
    "    budget_y,\n",
    "    ns_first,\n",
    "    ts_first,\n",
    "    budget_delay=-8e-3,\n",
    "    budget_width=1e-3,\n",
    "    combine=combine)\n",
    "\n",
    "times = budget_y['times']\n",
    "\n",
    "\n",
    "p = figure(plot_width=400, plot_height=200)\n",
    "\n",
    "for i, n in enumerate(set(ns_y)):\n",
    "    v = voltages_m['V_m'][i, :]\n",
    "    if not combine:\n",
    "        times = voltages_m['times'][i, :]\n",
    "    else:\n",
    "        times = voltages_m['times']\n",
    "    \n",
    "    p.line(x=times, y=v, color=\"purple\", alpha=0.8, line_width=3)\n",
    "    \n",
    "    v_full = budget_y['V_m'][n, :]\n",
    "    times_full = budget_y['times']\n",
    "    p.line(x=times_full, y=v_full, color=\"black\", alpha=0.5, line_width=0.5)\n",
    "    \n",
    "p.xaxis.axis_label = 'Time (s)'\n",
    "p.yaxis.axis_label = 'Vm (volts)'\n",
    "# p.x_range = Range1d(0.63, 0.7)\n",
    "p.y_range = Range1d(-66e-3, -48e-3)\n",
    "p.xgrid.grid_line_color = None\n",
    "p.ygrid.grid_line_color = None\n",
    "show(p)"
   ]
  },
  {
   "cell_type": "code",
   "execution_count": null,
   "metadata": {
    "collapsed": false
   },
   "outputs": [],
   "source": [
    "times = budget_y['times']\n",
    "v = budget_y['V_m_thresh'][10, :]\n",
    "\n",
    "p = figure(plot_width=400, plot_height=200)\n",
    "p.line(x=times, y=v, color=\"black\")\n",
    "p.xaxis.axis_label = 'Time (s)'\n",
    "p.yaxis.axis_label = 'Vm (volts)'\n",
    "p.xgrid.grid_line_color = None\n",
    "p.ygrid.grid_line_color = None\n",
    "show(p)"
   ]
  },
  {
   "cell_type": "code",
   "execution_count": null,
   "metadata": {
    "collapsed": false
   },
   "outputs": [],
   "source": [
    "times = budget_y['times']\n",
    "v = budget_y['V_comp'][3, :]\n",
    "\n",
    "p = figure(plot_width=400, plot_height=200)\n",
    "p.line(x=times, y=v, color=\"black\")\n",
    "p.xaxis.axis_label = 'Time (s)'\n",
    "p.yaxis.axis_label = 'Vm (volts)'\n",
    "p.xgrid.grid_line_color = None\n",
    "p.ygrid.grid_line_color = None\n",
    "show(p)"
   ]
  },
  {
   "cell_type": "code",
   "execution_count": null,
   "metadata": {
    "collapsed": false
   },
   "outputs": [],
   "source": [
    "times = budget_y['times']\n",
    "v = budget_y['V_osc'][3, :]\n",
    "Et = -52e-3\n",
    "p = figure(title=\"{}\".format(A), plot_width=400, plot_height=230)\n",
    "p.line(x=times, y=v, color=\"black\")\n",
    "p.xaxis.axis_label = 'Time (s)'\n",
    "p.yaxis.axis_label = 'Vm (volts)'\n",
    "p.xgrid.grid_line_color = None\n",
    "p.ygrid.grid_line_color = None\n",
    "# p.y_range = Range1d(0.05, 0.08)\n",
    "show(p)"
   ]
  },
  {
   "cell_type": "code",
   "execution_count": null,
   "metadata": {
    "collapsed": false
   },
   "outputs": [],
   "source": [
    "p = figure(plot_width=400, plot_height=200)\n",
    "for i, n in enumerate(set(ns_y)):\n",
    "    times = budget_y['times']\n",
    "    v = budget_y['V_budget'][i] + budget_y['V_comp'][i, :] \n",
    "    p.line(x=times, y=v, color=\"black\", alpha=0.2)\n",
    "\n",
    "p.xaxis.axis_label = 'Time (s)'\n",
    "p.yaxis.axis_label = 'Vm (volts)'\n",
    "p.xgrid.grid_line_color = None\n",
    "p.ygrid.grid_line_color = None\n",
    "show(p)"
   ]
  },
  {
   "cell_type": "code",
   "execution_count": null,
   "metadata": {
    "collapsed": false
   },
   "outputs": [],
   "source": [
    "np.min(voltages_m['V_free']) * 1e3, np.max(voltages_m['V_free']) * 1e3"
   ]
  },
  {
   "cell_type": "code",
   "execution_count": null,
   "metadata": {
    "collapsed": false
   },
   "outputs": [],
   "source": [
    "budget_y['V_budget'][i] - budget_y['V_comp'][i, :]"
   ]
  },
  {
   "cell_type": "code",
   "execution_count": null,
   "metadata": {
    "collapsed": false
   },
   "outputs": [],
   "source": [
    "np.mean(voltages_m['V_free']) * 1e3, np.std(voltages_m['V_free']) * 1e3"
   ]
  },
  {
   "cell_type": "code",
   "execution_count": null,
   "metadata": {
    "collapsed": true
   },
   "outputs": [],
   "source": []
  },
  {
   "cell_type": "code",
   "execution_count": null,
   "metadata": {
    "collapsed": true
   },
   "outputs": [],
   "source": []
  },
  {
   "cell_type": "code",
   "execution_count": null,
   "metadata": {
    "collapsed": true
   },
   "outputs": [],
   "source": []
  },
  {
   "cell_type": "code",
   "execution_count": null,
   "metadata": {
    "collapsed": true
   },
   "outputs": [],
   "source": []
  }
 ],
 "metadata": {
  "kernelspec": {
   "display_name": "Python 2",
   "language": "python",
   "name": "python2"
  },
  "language_info": {
   "codemirror_mode": {
    "name": "ipython",
    "version": 2
   },
   "file_extension": ".py",
   "mimetype": "text/x-python",
   "name": "python",
   "nbconvert_exporter": "python",
   "pygments_lexer": "ipython2",
   "version": "2.7.13"
  }
 },
 "nbformat": 4,
 "nbformat_minor": 0
}
