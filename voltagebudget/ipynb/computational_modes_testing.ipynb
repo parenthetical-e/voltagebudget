{
 "cells": [
  {
   "cell_type": "code",
   "execution_count": null,
   "metadata": {
    "collapsed": false
   },
   "outputs": [],
   "source": [
    "from bokeh.plotting import figure\n",
    "from bokeh.io import show, output_notebook\n",
    "from bokeh.layouts import column, row\n",
    "from bokeh.models import Range1d\n",
    "output_notebook()\n",
    "\n",
    "import numpy as np\n",
    "\n",
    "from voltagebudget import util\n",
    "from voltagebudget import neurons\n",
    "from voltagebudget.budget import locate_firsts\n",
    "from voltagebudget.budget import locate_peaks\n",
    "from voltagebudget.budget import filter_voltages\n",
    "from fakespikes import util as fsutil"
   ]
  },
  {
   "cell_type": "markdown",
   "metadata": {},
   "source": [
    "# Define input"
   ]
  },
  {
   "cell_type": "code",
   "execution_count": null,
   "metadata": {
    "collapsed": false
   },
   "outputs": [],
   "source": [
    "t = 1.0\n",
    "\n",
    "k = 50\n",
    "stim_onset = 0.6\n",
    "stim_offset = 0.6 + 50e-3\n",
    "stim_rate = 12\n",
    "dt = 1e-5\n",
    "seed_stim = 1\n",
    "ns, ts = util.poisson_impulse(\n",
    "        t,\n",
    "        stim_onset,\n",
    "        stim_offset - stim_onset,\n",
    "        stim_rate,\n",
    "        n=k,\n",
    "        dt=dt,\n",
    "        seed=None)\n",
    "\n",
    "print(\">>> {} spikes\".format(ts.size))\n",
    "print(\">>> {} population rate\".format(ts.size / (stim_offset - stim_onset)))"
   ]
  },
  {
   "cell_type": "code",
   "execution_count": null,
   "metadata": {
    "collapsed": true
   },
   "outputs": [],
   "source": []
  },
  {
   "cell_type": "code",
   "execution_count": null,
   "metadata": {
    "collapsed": false
   },
   "outputs": [],
   "source": [
    "p = figure(plot_width=400, plot_height=200)\n",
    "p.circle(ts, ns, color=\"black\")\n",
    "p.xaxis.axis_label = 'Time (s)'\n",
    "p.yaxis.axis_label = 'N'\n",
    "p.x_range = Range1d(0, 1)\n",
    "p.xgrid.grid_line_color = None\n",
    "p.ygrid.grid_line_color = None\n",
    "show(p)"
   ]
  },
  {
   "cell_type": "markdown",
   "metadata": {},
   "source": [
    "- Shadow voltage response of an LIF neuron to the input"
   ]
  },
  {
   "cell_type": "code",
   "execution_count": null,
   "metadata": {
    "collapsed": false
   },
   "outputs": [],
   "source": [
    "#set mode\n",
    "mode = 'regular'\n",
    "params, w_max, bias, sigma = util.read_modes(mode)"
   ]
  },
  {
   "cell_type": "code",
   "execution_count": null,
   "metadata": {
    "collapsed": false
   },
   "outputs": [],
   "source": [
    "print(w_max, bias, sigma)"
   ]
  },
  {
   "cell_type": "code",
   "execution_count": null,
   "metadata": {
    "collapsed": false
   },
   "outputs": [],
   "source": [
    "# -\n",
    "v_in, b_in = neurons.shadow_adex(10, t, ns, ts, w_max=w_max, bias=bias, sigma=sigma, **params)\n",
    "times = b_in['times']\n",
    "\n",
    "# -\n",
    "p = figure(plot_width=400, plot_height=200)\n",
    "for n in range(10):\n",
    "    p.line(x=times, y=v_in[n, :], color=\"black\", alpha=0.1)\n",
    "p.xaxis.axis_label = 'Time (s)'\n",
    "p.yaxis.axis_label = 'Vm (volts)'\n",
    "p.xgrid.grid_line_color = None\n",
    "p.ygrid.grid_line_color = None\n",
    "show(p)"
   ]
  },
  {
   "cell_type": "code",
   "execution_count": null,
   "metadata": {
    "collapsed": false
   },
   "outputs": [],
   "source": [
    "combine = False\n",
    "ns, ts = locate_peaks(b_in, stim_onset, stim_offset, combine=combine)\n",
    "# -\n",
    "p = figure(plot_width=400, plot_height=200)\n",
    "for n in range(10):\n",
    "    p.line(x=times, y=v_in[n, :], color=\"black\", alpha=0.1)\n",
    "    if not combine:\n",
    "        p.circle(x=ts[n], y=v_in[n, :].max(), color=\"purple\")\n",
    "    else:\n",
    "        p.line(x=ts[0], y=np.linspace(v_in[:, :].min(), v_in[:, :].max(), 10), color=\"purple\")\n",
    "p.xaxis.axis_label = 'Time (s)'\n",
    "p.yaxis.axis_label = 'Vm (volts)'\n",
    "p.xgrid.grid_line_color = None\n",
    "p.ygrid.grid_line_color = None\n",
    "show(p)"
   ]
  },
  {
   "cell_type": "markdown",
   "metadata": {},
   "source": [
    "# Define computational models\n",
    "\n",
    "And obseve how they respond to the same input"
   ]
  },
  {
   "cell_type": "markdown",
   "metadata": {},
   "source": [
    "## Regular"
   ]
  },
  {
   "cell_type": "code",
   "execution_count": null,
   "metadata": {
    "collapsed": false
   },
   "outputs": [],
   "source": [
    "N = 50\n",
    "ns_y, ts_y, budget = neurons.adex(N, t, ns, ts, \n",
    "                                  w_max=w_max, \n",
    "                                  bias=bias, \n",
    "                                  sigma=sigma, \n",
    "                                  A=.0, f=0, **params)"
   ]
  },
  {
   "cell_type": "code",
   "execution_count": null,
   "metadata": {
    "collapsed": false
   },
   "outputs": [],
   "source": [
    "print(ns_y, ts_y)"
   ]
  },
  {
   "cell_type": "code",
   "execution_count": null,
   "metadata": {
    "collapsed": false
   },
   "outputs": [],
   "source": [
    "p = figure(plot_width=400, plot_height=200)\n",
    "p.circle(ts_y, ns_y, color=\"black\")\n",
    "p.x_range = Range1d(0.0, t)\n",
    "p.xaxis.axis_label = 'Time (s)'\n",
    "p.yaxis.axis_label = 'N'\n",
    "p.xgrid.grid_line_color = None\n",
    "p.ygrid.grid_line_color = None\n",
    "show(p)\n",
    "\n",
    "print(ts_y.size)"
   ]
  },
  {
   "cell_type": "code",
   "execution_count": null,
   "metadata": {
    "collapsed": false
   },
   "outputs": [],
   "source": [
    "times = budget['times']\n",
    "m = times > 0.05  # Burn in time\n",
    "\n",
    "p = figure(plot_width=400, plot_height=200)\n",
    "for n in range(20):\n",
    "    v = budget['V_m'][n, :]\n",
    "    p.line(x=times[m], y=v[m], color=\"black\", alpha=0.1)\n",
    "p.xaxis.axis_label = 'Time (s)'\n",
    "p.yaxis.axis_label = 'Vm (volts)'\n",
    "p.xgrid.grid_line_color = None\n",
    "p.ygrid.grid_line_color = None\n",
    "show(p)"
   ]
  },
  {
   "cell_type": "code",
   "execution_count": null,
   "metadata": {
    "collapsed": false
   },
   "outputs": [],
   "source": [
    "# Extract budgets\n",
    "combine = False\n",
    "ns_first, ts_first = locate_firsts(ns_y, ts_y, combine=combine)\n",
    "voltages_m = filter_voltages(\n",
    "    budget,\n",
    "    ns_first,\n",
    "    ts_first,\n",
    "    budget_delay=-10e-3,\n",
    "    budget_width=2e-3,\n",
    "    combine=combine)\n",
    "\n",
    "times = budget['times']\n",
    "\n",
    "\n",
    "p = figure(plot_width=400, plot_height=200)\n",
    "\n",
    "for n in range(N):\n",
    "    v = voltages_m['V_m'][n, :]\n",
    "    if not combine:\n",
    "        times = voltages_m['times'][n, :]\n",
    "    else:\n",
    "        times = voltages_m['times']\n",
    "    \n",
    "    p.line(x=times, y=v, color=\"purple\", alpha=0.8)\n",
    "    \n",
    "    v_full = budget['V_m'][n, :]\n",
    "    times_full = budget['times']\n",
    "    p.line(x=times_full, y=v_full, color=\"black\", alpha=0.1)\n",
    "    \n",
    "p.xaxis.axis_label = 'Time (s)'\n",
    "p.yaxis.axis_label = 'Vm (volts)'\n",
    "p.x_range = Range1d(0.63, 0.7)\n",
    "p.y_range = Range1d(-66e-3, -30e-3)\n",
    "p.xgrid.grid_line_color = None\n",
    "p.ygrid.grid_line_color = None\n",
    "show(p)"
   ]
  },
  {
   "cell_type": "code",
   "execution_count": null,
   "metadata": {
    "collapsed": false
   },
   "outputs": [],
   "source": [
    "print(voltages_m['V_m'].shape, voltages_m['times'].shape)"
   ]
  },
  {
   "cell_type": "code",
   "execution_count": null,
   "metadata": {
    "collapsed": false
   },
   "outputs": [],
   "source": [
    "times = budget['times']\n",
    "v = budget['V_comp'][0, :]\n",
    "m = times > 0.05  # Burn in time\n",
    "\n",
    "p = figure(plot_width=400, plot_height=200)\n",
    "p.line(x=times[m], y=v[m], color=\"black\")\n",
    "p.xaxis.axis_label = 'Time (s)'\n",
    "p.yaxis.axis_label = 'Vm (volts)'\n",
    "p.xgrid.grid_line_color = None\n",
    "p.ygrid.grid_line_color = None\n",
    "show(p)"
   ]
  },
  {
   "cell_type": "code",
   "execution_count": null,
   "metadata": {
    "collapsed": false
   },
   "outputs": [],
   "source": [
    "times = budget['times']\n",
    "v = budget['V_osc'][0, :]\n",
    "m = times > 0.05  # Burn in time\n",
    "\n",
    "p = figure(plot_width=400, plot_height=200)\n",
    "p.line(x=times[m], y=v[m], color=\"black\")\n",
    "p.xaxis.axis_label = 'Time (s)'\n",
    "p.yaxis.axis_label = 'Vm (volts)'\n",
    "p.xgrid.grid_line_color = None\n",
    "p.ygrid.grid_line_color = None\n",
    "show(p)"
   ]
  },
  {
   "cell_type": "code",
   "execution_count": null,
   "metadata": {
    "collapsed": false
   },
   "outputs": [],
   "source": [
    "times = budget['times']\n",
    "v = budget['V_free'][0, :]\n",
    "m = times > 0.05  # Burn in time\n",
    "\n",
    "p = figure(plot_width=400, plot_height=200)\n",
    "p.line(x=times[m], y=v[m], color=\"black\")\n",
    "p.xaxis.axis_label = 'Time (s)'\n",
    "p.yaxis.axis_label = 'Vm (volts)'\n",
    "p.xgrid.grid_line_color = None\n",
    "p.ygrid.grid_line_color = None\n",
    "show(p)"
   ]
  },
  {
   "cell_type": "code",
   "execution_count": null,
   "metadata": {
    "collapsed": true
   },
   "outputs": [],
   "source": []
  },
  {
   "cell_type": "code",
   "execution_count": null,
   "metadata": {
    "collapsed": true
   },
   "outputs": [],
   "source": [
    "\n",
    "\n",
    "\n"
   ]
  }
 ],
 "metadata": {
  "kernelspec": {
   "display_name": "Python 2",
   "language": "python",
   "name": "python2"
  },
  "language_info": {
   "codemirror_mode": {
    "name": "ipython",
    "version": 2
   },
   "file_extension": ".py",
   "mimetype": "text/x-python",
   "name": "python",
   "nbconvert_exporter": "python",
   "pygments_lexer": "ipython2",
   "version": "2.7.13"
  }
 },
 "nbformat": 4,
 "nbformat_minor": 0
}
