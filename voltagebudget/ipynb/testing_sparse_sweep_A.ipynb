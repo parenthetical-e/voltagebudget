{
 "cells": [
  {
   "cell_type": "code",
   "execution_count": 3,
   "metadata": {},
   "outputs": [],
   "source": [
    "import os\n",
    "import numpy as np\n",
    "\n",
    "from IPython.display import Image\n",
    "import matplotlib\n",
    "import matplotlib.pyplot as plt\n",
    "\n",
    "%matplotlib inline\n",
    "%config InlineBackend.figure_format = 'retina'\n",
    "\n",
    "import seaborn as sns\n",
    "sns.set_style('ticks')\n",
    "\n",
    "matplotlib.rcParams.update({'font.size': 16})\n",
    "matplotlib.rc('axes', titlesize=16)\n",
    "\n",
    "from voltagebudget.exp import sparse_sweep_A\n",
    "from voltagebudget.neurons import adex\n",
    "from voltagebudget.util import read_results\n",
    "from voltagebudget.util import read_stim\n",
    "from voltagebudget.util import read_args\n",
    "from voltagebudget.util import read_modes\n",
    "from voltagebudget.util import nearest_spike\n",
    "from voltagebudget.util import write_spikes\n",
    "from voltagebudget.util import locate_firsts\n",
    "from voltagebudget.util import filter_spikes\n",
    "from voltagebudget.util import budget_window\n",
    "from voltagebudget.util import locate_peaks\n",
    "from voltagebudget.util import write_spikes\n",
    "from voltagebudget.util import write_voltages\n",
    "from voltagebudget.util import mad\n",
    "from voltagebudget.util import mae\n",
    "from voltagebudget.util import select_n\n",
    "from voltagebudget.util import score_by_group\n",
    "from voltagebudget.util import score_by_n\n",
    "from voltagebudget.util import find_E\n",
    "from voltagebudget.util import find_phis"
   ]
  },
  {
   "cell_type": "markdown",
   "metadata": {},
   "source": [
    "# Config"
   ]
  },
  {
   "cell_type": "code",
   "execution_count": 4,
   "metadata": {},
   "outputs": [],
   "source": [
    "stim = \"../../data/stim3.csv\"\n",
    "mode = \"regular\"\n",
    "\n",
    "N = 10\n",
    "time = 1.0\n",
    "time_step = 1e-5\n",
    "\n",
    "E_0 = 0\n",
    "f = 8\n",
    "A_max = 0.05e-9\n",
    "T = 0.125\n",
    "\n",
    "w_in = (3e-10, 3e-9)"
   ]
  },
  {
   "cell_type": "code",
   "execution_count": 5,
   "metadata": {},
   "outputs": [],
   "source": [
    "stim_data = read_stim(stim)\n",
    "ns_stim = np.asarray(stim_data['ns'])\n",
    "ts_stim = np.asarray(stim_data['ts'])"
   ]
  },
  {
   "cell_type": "markdown",
   "metadata": {},
   "source": [
    "# Run"
   ]
  },
  {
   "cell_type": "code",
   "execution_count": 6,
   "metadata": {
    "scrolled": false
   },
   "outputs": [
    {
     "name": "stdout",
     "output_type": "stream",
     "text": [
      ">>> Setting mode.\n",
      ">>> Importing stimulus from ../../data/stim3.csv.\n",
      ">>> Creating reference spikes.\n"
     ]
    },
    {
     "name": "stderr",
     "output_type": "stream",
     "text": [
      "WARNING    \"bias_in\" is an internal variable of group \"neurongroup\", but also exists in the run namespace with the value 5e-11. The internal variable will be used. [brian2.groups.group.Group.resolve.resolution_conflict]\n",
      "WARNING    \"a\" is an internal variable of group \"neurongroup\", but also exists in the run namespace with the value array([1.97490802e-09, 2.09014286e-09, 2.04639879e-09, ...,\n",
      "       2.09333096e-09, 2.09272400e-09, 2.07060189e-09]). The internal variable will be used. [brian2.groups.group.Group.resolve.resolution_conflict]\n",
      "WARNING    \"C\" is an internal variable of group \"neurongroup\", but also exists in the run namespace with the value 2e-10. The internal variable will be used. [brian2.groups.group.Group.resolve.resolution_conflict]\n",
      "WARNING    \"g_l\" is an internal variable of group \"neurongroup\", but also exists in the run namespace with the value 1e-08. The internal variable will be used. [brian2.groups.group.Group.resolve.resolution_conflict]\n",
      "WARNING    \"V_l\" is an internal variable of group \"neurongroup\", but also exists in the run namespace with the value -0.07. The internal variable will be used. [brian2.groups.group.Group.resolve.resolution_conflict]\n",
      "WARNING    \"tau_w\" is an internal variable of group \"neurongroup\", but also exists in the run namespace with the value array([0.02876669, 0.02931059, 0.03210682, ..., 0.02746641, 0.03284637,\n",
      "       0.03291726]). The internal variable will be used. [brian2.groups.group.Group.resolve.resolution_conflict]\n",
      "WARNING    \"delta_t\" is an internal variable of group \"neurongroup\", but also exists in the run namespace with the value 0.002. The internal variable will be used. [brian2.groups.group.Group.resolve.resolution_conflict]\n",
      "WARNING    \"tau_in\" is an internal variable of group \"neurongroup\", but also exists in the run namespace with the value 0.005. The internal variable will be used. [brian2.groups.group.Group.resolve.resolution_conflict]\n",
      "WARNING    \"V_rheo\" is an internal variable of group \"neurongroup\", but also exists in the run namespace with the value -0.058. The internal variable will be used. [brian2.groups.group.Group.resolve.resolution_conflict]\n",
      "WARNING    \"b\" is an internal variable of group \"neurongroup\", but also exists in the run namespace with the value 0.0. The internal variable will be used. [brian2.groups.group.Group.resolve.resolution_conflict]\n",
      "WARNING    \"w_in\" is an internal variable of group \"synapses\", but also exists in the run namespace with the value array([2.18503663e-09, 1.74746019e-09, 1.13572456e-09, ...,\n",
      "       1.83540438e-09, 1.51284231e-09, 1.82431710e-09]). The internal variable will be used. [brian2.groups.group.Group.resolve.resolution_conflict]\n"
     ]
    },
    {
     "name": "stdout",
     "output_type": "stream",
     "text": [
      ">>> Locking on first spike. E was [0.02767].\n",
      ">>> phi_w 0.28048139211249645, phi_E -1.3908458995972734\n",
      ">>> 940 spikes in the analysis window.\n",
      ">>> sparse_threshold: 0.1.\n",
      ">>> I_osc_index: [9, 12, 33, 35, 50, 62, 67, 69, 92, 104, 118, 120, 121, 127, 150, 154, 157, 159, 174, 183, 186, 199, 220, 226, 247]\n",
      ">>> V_comps (filtered): [0.00573262 0.00573596 0.00574635 0.00574344 0.00575116 0.0057455\n",
      " 0.00573152 0.00573532 0.00572923 0.00574605 0.00573464 0.00573787\n",
      " 0.00574992 0.00574749 0.0057433  0.00572955 0.00574296 0.00573424\n",
      " 0.00573241 0.00574174 0.00574079 0.00573779 0.00573696 0.00574944\n",
      " 0.00574874]\n",
      ">>> V_comps (first 10): [0.00569836 0.00572245 0.00567655 0.00570881 0.00569602 0.00566735\n",
      " 0.00563699 0.00569439 0.00568979 0.00573262 0.0056562  0.00567893\n",
      " 0.00573596 0.00567305 0.00564699 0.00565611 0.00566531 0.00567632\n",
      " 0.0056965  0.00569389 0.00567334 0.00564924 0.00565324 0.00565394\n",
      " 0.00568645 0.0057046  0.00565309 0.00567949 0.00567984 0.00564544\n",
      " 0.00566761 0.00568398 0.00567549 0.00574635 0.00570828 0.00574344\n",
      " 0.00568176 0.00566527 0.00571586 0.00567985 0.00570513 0.00572565\n",
      " 0.00564308 0.0057222  0.00570508 0.00569655 0.00566072 0.00571249\n",
      " 0.00568311 0.00570427 0.00575116 0.00570181 0.00570977 0.00570017\n",
      " 0.00567842 0.00567751 0.00566664 0.00568648 0.00564542 0.0056975\n",
      " 0.0056882  0.00570968 0.0057455  0.00565023 0.00565472 0.0056777\n",
      " 0.00567714 0.00573152 0.00569251 0.00573532 0.00570032 0.00565867\n",
      " 0.00565235 0.00572354 0.00566822 0.00568432 0.00569989 0.00565922\n",
      " 0.00568803 0.00568779 0.00572005 0.0056775  0.00571827 0.00569504\n",
      " 0.00571455 0.00571578 0.00567613 0.00568205 0.00571209 0.00571937\n",
      " 0.00567004 0.00570291 0.00572923 0.00569781 0.00571175 0.00568086\n",
      " 0.00568099 0.00572118 0.00567343 0.00566002 0.00566454 0.00567135\n",
      " 0.00566849 0.0057161  0.00574605 0.00566624 0.00572176 0.00569673\n",
      " 0.00564528 0.00566188 0.00568668 0.0056616  0.00571558 0.00570248\n",
      " 0.00566545 0.00571811 0.00567262 0.00564541 0.00573464 0.00572548\n",
      " 0.00573787 0.00574992 0.00571101 0.00565623 0.00570782 0.00569934\n",
      " 0.00568133 0.00574749 0.00564221 0.00570677 0.00571465 0.00566109\n",
      " 0.00566043 0.00565485 0.0056955  0.00565904 0.00570719 0.00572569\n",
      " 0.00566469 0.00569181 0.00567853 0.00568282 0.00569907 0.00565973\n",
      " 0.00568996 0.00563627 0.00566986 0.00569504 0.00564866 0.00566007\n",
      " 0.0057433  0.00564826 0.00567041 0.00566595 0.00572955 0.00564884\n",
      " 0.00570716 0.00574296 0.00564798 0.00573424 0.00569609 0.00566482\n",
      " 0.00566485 0.00568612 0.00565869 0.00571132 0.00569553 0.00568554\n",
      " 0.00565335 0.00567622 0.00567792 0.00564432 0.00572214 0.00567551\n",
      " 0.00573241 0.00566883 0.00570415 0.00565665 0.00572442 0.0056991\n",
      " 0.0057084  0.00565113 0.00570315 0.00574174 0.00570847 0.0056834\n",
      " 0.00574079 0.0056696  0.00567631 0.00570779 0.00569916 0.00567556\n",
      " 0.00572061 0.0057065  0.00565922 0.00565086 0.00566709 0.00569183\n",
      " 0.00571973 0.00573779 0.00567711 0.00566345 0.00567714 0.00568112\n",
      " 0.00572577 0.0056641  0.00570551 0.00570063 0.00569646 0.00570026\n",
      " 0.00572203 0.00568877 0.0056798  0.00566906 0.005668   0.00568484\n",
      " 0.00569636 0.00567607 0.005719   0.00567476 0.00573696 0.00566031\n",
      " 0.00570251 0.00565546 0.00567517 0.00564267 0.00574944 0.00568004\n",
      " 0.00567648 0.00569483 0.00569556 0.00567565 0.00569708 0.00567995\n",
      " 0.00566748 0.00567263 0.00571289 0.00568027 0.00566546 0.00564591\n",
      " 0.00571636 0.00570453 0.00572916 0.00570642 0.00566648 0.00572377\n",
      " 0.00567974 0.00574874 0.00567969 0.00567339]\n",
      ">>> Running A 0.000000000000000 (1/10).\n",
      ">>> (bias_in 5e-11) -> (bias_adj 5e-11)\n"
     ]
    },
    {
     "name": "stderr",
     "output_type": "stream",
     "text": [
      "WARNING    \"bias_in\" is an internal variable of group \"neurongroup_1\", but also exists in the run namespace with the value 5e-11. The internal variable will be used. [brian2.groups.group.Group.resolve.resolution_conflict]\n",
      "WARNING    \"a\" is an internal variable of group \"neurongroup_1\", but also exists in the run namespace with the value array([1.97490802e-09, 2.09014286e-09, 2.04639879e-09, ...,\n",
      "       2.09333096e-09, 2.09272400e-09, 2.07060189e-09]). The internal variable will be used. [brian2.groups.group.Group.resolve.resolution_conflict]\n",
      "WARNING    \"C\" is an internal variable of group \"neurongroup_1\", but also exists in the run namespace with the value 2e-10. The internal variable will be used. [brian2.groups.group.Group.resolve.resolution_conflict]\n",
      "WARNING    \"g_l\" is an internal variable of group \"neurongroup_1\", but also exists in the run namespace with the value 1e-08. The internal variable will be used. [brian2.groups.group.Group.resolve.resolution_conflict]\n",
      "WARNING    \"V_l\" is an internal variable of group \"neurongroup_1\", but also exists in the run namespace with the value -0.07. The internal variable will be used. [brian2.groups.group.Group.resolve.resolution_conflict]\n",
      "WARNING    \"tau_w\" is an internal variable of group \"neurongroup_1\", but also exists in the run namespace with the value array([0.02876669, 0.02931059, 0.03210682, ..., 0.02746641, 0.03284637,\n",
      "       0.03291726]). The internal variable will be used. [brian2.groups.group.Group.resolve.resolution_conflict]\n",
      "WARNING    \"delta_t\" is an internal variable of group \"neurongroup_1\", but also exists in the run namespace with the value 0.002. The internal variable will be used. [brian2.groups.group.Group.resolve.resolution_conflict]\n",
      "WARNING    \"tau_in\" is an internal variable of group \"neurongroup_1\", but also exists in the run namespace with the value 0.005. The internal variable will be used. [brian2.groups.group.Group.resolve.resolution_conflict]\n",
      "WARNING    \"V_rheo\" is an internal variable of group \"neurongroup_1\", but also exists in the run namespace with the value -0.058. The internal variable will be used. [brian2.groups.group.Group.resolve.resolution_conflict]\n",
      "WARNING    \"b\" is an internal variable of group \"neurongroup_1\", but also exists in the run namespace with the value 0.0. The internal variable will be used. [brian2.groups.group.Group.resolve.resolution_conflict]\n",
      "WARNING    \"bias_in\" is an internal variable of group \"neurongroup_2\", but also exists in the run namespace with the value 5e-11. The internal variable will be used. [brian2.groups.group.Group.resolve.resolution_conflict]\n",
      "WARNING    \"a\" is an internal variable of group \"neurongroup_2\", but also exists in the run namespace with the value array([1.97490802e-09, 2.09014286e-09, 2.04639879e-09, ...,\n",
      "       2.09333096e-09, 2.09272400e-09, 2.07060189e-09]). The internal variable will be used. [brian2.groups.group.Group.resolve.resolution_conflict]\n",
      "WARNING    \"C\" is an internal variable of group \"neurongroup_2\", but also exists in the run namespace with the value 2e-10. The internal variable will be used. [brian2.groups.group.Group.resolve.resolution_conflict]\n",
      "WARNING    \"g_l\" is an internal variable of group \"neurongroup_2\", but also exists in the run namespace with the value 1e-08. The internal variable will be used. [brian2.groups.group.Group.resolve.resolution_conflict]\n",
      "WARNING    \"V_l\" is an internal variable of group \"neurongroup_2\", but also exists in the run namespace with the value -0.07. The internal variable will be used. [brian2.groups.group.Group.resolve.resolution_conflict]\n",
      "WARNING    \"tau_w\" is an internal variable of group \"neurongroup_2\", but also exists in the run namespace with the value array([0.02876669, 0.02931059, 0.03210682, ..., 0.02746641, 0.03284637,\n",
      "       0.03291726]). The internal variable will be used. [brian2.groups.group.Group.resolve.resolution_conflict]\n",
      "WARNING    \"delta_t\" is an internal variable of group \"neurongroup_2\", but also exists in the run namespace with the value 0.002. The internal variable will be used. [brian2.groups.group.Group.resolve.resolution_conflict]\n",
      "WARNING    \"tau_in\" is an internal variable of group \"neurongroup_2\", but also exists in the run namespace with the value 0.005. The internal variable will be used. [brian2.groups.group.Group.resolve.resolution_conflict]\n",
      "WARNING    \"V_rheo\" is an internal variable of group \"neurongroup_2\", but also exists in the run namespace with the value -0.058. The internal variable will be used. [brian2.groups.group.Group.resolve.resolution_conflict]\n",
      "WARNING    \"b\" is an internal variable of group \"neurongroup_2\", but also exists in the run namespace with the value 0.0. The internal variable will be used. [brian2.groups.group.Group.resolve.resolution_conflict]\n"
     ]
    },
    {
     "name": "stdout",
     "output_type": "stream",
     "text": [
      ">>> (A 0.000000000000)  ->  (N spks, 3.76, mae 0.00000, mad, 0.03256)\n",
      ">>> Writing details for A 0.0 (nA)\n"
     ]
    },
    {
     "ename": "KeyboardInterrupt",
     "evalue": "",
     "output_type": "error",
     "traceback": [
      "\u001b[0;31m---------------------------------------------------------------------------\u001b[0m",
      "\u001b[0;31mKeyboardInterrupt\u001b[0m                         Traceback (most recent call last)",
      "\u001b[0;32m<ipython-input-6-d46a0f57c8ab>\u001b[0m in \u001b[0;36m<module>\u001b[0;34m\u001b[0m\n\u001b[1;32m     26\u001b[0m                    \u001b[0msave_spikes\u001b[0m\u001b[0;34m=\u001b[0m\u001b[0;32mTrue\u001b[0m\u001b[0;34m,\u001b[0m\u001b[0;34m\u001b[0m\u001b[0;34m\u001b[0m\u001b[0m\n\u001b[1;32m     27\u001b[0m                    \u001b[0msave_traces\u001b[0m\u001b[0;34m=\u001b[0m\u001b[0;32mTrue\u001b[0m\u001b[0;34m,\u001b[0m\u001b[0;34m\u001b[0m\u001b[0;34m\u001b[0m\u001b[0m\n\u001b[0;32m---> 28\u001b[0;31m                    seed_value=42)\n\u001b[0m",
      "\u001b[0;32m~/Code/voltagebudget/voltagebudget/exp/sweep_A.py\u001b[0m in \u001b[0;36msparse_sweep_A\u001b[0;34m(name, stim, E_0, A_0, A_max, Z, n_samples, t, t_pad, d, w, T, f, N, n_cycles, mode, sigma, sparse_threshold, g_l, V_l, w_in_0, w_in_max, no_lock, verbose, save_only, save_spikes, save_traces, seed_value)\u001b[0m\n\u001b[1;32m    338\u001b[0m                 \u001b[0;34m\"{}_A{}_w\"\u001b[0m\u001b[0;34m.\u001b[0m\u001b[0mformat\u001b[0m\u001b[0;34m(\u001b[0m\u001b[0mname\u001b[0m\u001b[0;34m,\u001b[0m \u001b[0mnp\u001b[0m\u001b[0;34m.\u001b[0m\u001b[0mround\u001b[0m\u001b[0;34m(\u001b[0m\u001b[0mA_i\u001b[0m \u001b[0;34m*\u001b[0m \u001b[0;36m1e9\u001b[0m\u001b[0;34m,\u001b[0m \u001b[0;36m3\u001b[0m\u001b[0;34m)\u001b[0m\u001b[0;34m)\u001b[0m\u001b[0;34m,\u001b[0m\u001b[0;34m\u001b[0m\u001b[0;34m\u001b[0m\u001b[0m\n\u001b[1;32m    339\u001b[0m                 \u001b[0mvoltage_w\u001b[0m\u001b[0;34m,\u001b[0m\u001b[0;34m\u001b[0m\u001b[0;34m\u001b[0m\u001b[0m\n\u001b[0;32m--> 340\u001b[0;31m                 select=[\"V_comp\", \"V_osc\", \"V_m\"])\n\u001b[0m\u001b[1;32m    341\u001b[0m             write_voltages(\n\u001b[1;32m    342\u001b[0m                 \u001b[0;34m\"{}_A{}_E\"\u001b[0m\u001b[0;34m.\u001b[0m\u001b[0mformat\u001b[0m\u001b[0;34m(\u001b[0m\u001b[0mname\u001b[0m\u001b[0;34m,\u001b[0m \u001b[0mnp\u001b[0m\u001b[0;34m.\u001b[0m\u001b[0mround\u001b[0m\u001b[0;34m(\u001b[0m\u001b[0mA_i\u001b[0m \u001b[0;34m*\u001b[0m \u001b[0;36m1e9\u001b[0m\u001b[0;34m,\u001b[0m \u001b[0;36m3\u001b[0m\u001b[0;34m)\u001b[0m\u001b[0;34m)\u001b[0m\u001b[0;34m,\u001b[0m\u001b[0;34m\u001b[0m\u001b[0;34m\u001b[0m\u001b[0m\n",
      "\u001b[0;32m~/Code/voltagebudget/voltagebudget/util.py\u001b[0m in \u001b[0;36mwrite_voltages\u001b[0;34m(name, voltages, select)\u001b[0m\n\u001b[1;32m    530\u001b[0m             \u001b[0mheader\u001b[0m\u001b[0;34m=\u001b[0m\u001b[0mhead\u001b[0m\u001b[0;34m,\u001b[0m\u001b[0;34m\u001b[0m\u001b[0;34m\u001b[0m\u001b[0m\n\u001b[1;32m    531\u001b[0m             \u001b[0mcomments\u001b[0m\u001b[0;34m=\u001b[0m\u001b[0;34m''\u001b[0m\u001b[0;34m,\u001b[0m\u001b[0;34m\u001b[0m\u001b[0;34m\u001b[0m\u001b[0m\n\u001b[0;32m--> 532\u001b[0;31m             delimiter=',')\n\u001b[0m\u001b[1;32m    533\u001b[0m \u001b[0;34m\u001b[0m\u001b[0m\n\u001b[1;32m    534\u001b[0m \u001b[0;34m\u001b[0m\u001b[0m\n",
      "\u001b[0;32m~/anaconda3/envs/py3.6/lib/python3.6/site-packages/numpy/lib/npyio.py\u001b[0m in \u001b[0;36msavetxt\u001b[0;34m(fname, X, fmt, delimiter, newline, header, footer, comments, encoding)\u001b[0m\n\u001b[1;32m   1390\u001b[0m                                     \u001b[0;34m\"format specifier ('%s')\"\u001b[0m\u001b[0;34m\u001b[0m\u001b[0;34m\u001b[0m\u001b[0m\n\u001b[1;32m   1391\u001b[0m                                     % (str(X.dtype), format))\n\u001b[0;32m-> 1392\u001b[0;31m                 \u001b[0mfh\u001b[0m\u001b[0;34m.\u001b[0m\u001b[0mwrite\u001b[0m\u001b[0;34m(\u001b[0m\u001b[0mv\u001b[0m\u001b[0;34m)\u001b[0m\u001b[0;34m\u001b[0m\u001b[0;34m\u001b[0m\u001b[0m\n\u001b[0m\u001b[1;32m   1393\u001b[0m \u001b[0;34m\u001b[0m\u001b[0m\n\u001b[1;32m   1394\u001b[0m         \u001b[0;32mif\u001b[0m \u001b[0mlen\u001b[0m\u001b[0;34m(\u001b[0m\u001b[0mfooter\u001b[0m\u001b[0;34m)\u001b[0m \u001b[0;34m>\u001b[0m \u001b[0;36m0\u001b[0m\u001b[0;34m:\u001b[0m\u001b[0;34m\u001b[0m\u001b[0;34m\u001b[0m\u001b[0m\n",
      "\u001b[0;31mKeyboardInterrupt\u001b[0m: "
     ]
    }
   ],
   "source": [
    "results = sparse_sweep_A(\"testing\",\n",
    "                   stim,\n",
    "                   E_0,\n",
    "                   A_0=0.00e-9,\n",
    "                   A_max=A_max,\n",
    "                   Z=0.0,\n",
    "                   n_samples=10,\n",
    "                   t=0.4,\n",
    "                   t_pad=0,\n",
    "                   d=-2e-3,\n",
    "                   w=2e-3,\n",
    "                   T=T,\n",
    "                   f=f,\n",
    "                   N=250,\n",
    "                   n_cycles=2,\n",
    "                   mode='regular',\n",
    "                   sigma=0,\n",
    "                   sparse_threshold=.1,\n",
    "                   g_l=None,\n",
    "                   V_l=None,\n",
    "                   w_in_0=w_in[0],\n",
    "                   w_in_max=w_in[1],\n",
    "                   no_lock=False,\n",
    "                   verbose=True,\n",
    "                   save_only=False,\n",
    "                   save_spikes=True,\n",
    "                   save_traces=True,\n",
    "                   seed_value=42)"
   ]
  },
  {
   "cell_type": "code",
   "execution_count": null,
   "metadata": {},
   "outputs": [],
   "source": [
    "results.keys()"
   ]
  },
  {
   "cell_type": "markdown",
   "metadata": {},
   "source": [
    "# Visualize"
   ]
  },
  {
   "cell_type": "code",
   "execution_count": 9,
   "metadata": {},
   "outputs": [
    {
     "data": {
      "image/png": "[encoded data removed]",
      "text/plain": [
       "<Figure size 432x720 with 4 Axes>"
      ]
     },
     "metadata": {
      "image/png": {
       "height": 589,
       "width": 390
      },
      "needs_background": "light"
     },
     "output_type": "display_data"
    }
   ],
   "source": [
    "# Plotz\n",
    "fig = plt.figure(figsize=(6, 10))\n",
    "grid = plt.GridSpec(4, 1, wspace=0.3, hspace=0.5)\n",
    "\n",
    "# Spikes\n",
    "plt.subplot(grid[0, 0])\n",
    "plt.scatter(\n",
    "    np.asarray(results[\"As\"])*1e9, \n",
    "    np.asarray(results[\"n_spikes_pop\"]), \n",
    "    color=\"black\", \n",
    "    alpha=1, \n",
    "    s=10, \n",
    "    label=\"Bandit\")\n",
    "plt.ylabel(\"N. spikes\")\n",
    "plt.xlabel(\"As\")\n",
    "\n",
    "plt.subplot(grid[1, 0])\n",
    "plt.scatter(\n",
    "    np.asarray(results[\"As\"])*1e9, \n",
    "    np.asarray(results[\"variances_pop\"])*1e3, \n",
    "    color=\"black\", \n",
    "    alpha=1, \n",
    "    s=10, \n",
    "    label=\"Bandit\")\n",
    "plt.ylabel(\"Pop. variance (ms)\")\n",
    "plt.xlabel(\"As\")\n",
    "\n",
    "plt.subplot(grid[2, 0])\n",
    "plt.scatter(\n",
    "    np.asarray(results[\"As\"])*1e9, \n",
    "    np.asarray(results[\"errors_pop\"])*1e3, \n",
    "    color=\"black\", \n",
    "    alpha=1, \n",
    "    s=10, \n",
    "    label=\"Bandit\")\n",
    "plt.ylabel(\"Pop. error (ms)\")\n",
    "plt.xlabel(\"As\")\n",
    "\n",
    "plt.subplot(grid[3, 0])\n",
    "plt.scatter(\n",
    "    np.asarray(results[\"variances_pop\"])*1e3, \n",
    "    np.asarray(results[\"errors_pop\"])*1e3, \n",
    "    color=\"black\", \n",
    "    alpha=1, \n",
    "    s=10, \n",
    "    label=\"Bandit\")\n",
    "plt.ylabel(\"Pop. error (ms)\")\n",
    "plt.xlabel(\"Pop. variance (ms)\")\n",
    "sns.despine()"
   ]
  },
  {
   "cell_type": "code",
   "execution_count": null,
   "metadata": {},
   "outputs": [],
   "source": []
  }
 ],
 "metadata": {
  "kernelspec": {
   "display_name": "Python 3",
   "language": "python",
   "name": "python3"
  },
  "language_info": {
   "codemirror_mode": {
    "name": "ipython",
    "version": 3
   },
   "file_extension": ".py",
   "mimetype": "text/x-python",
   "name": "python",
   "nbconvert_exporter": "python",
   "pygments_lexer": "ipython3",
   "version": "3.6.7"
  }
 },
 "nbformat": 4,
 "nbformat_minor": 2
}
