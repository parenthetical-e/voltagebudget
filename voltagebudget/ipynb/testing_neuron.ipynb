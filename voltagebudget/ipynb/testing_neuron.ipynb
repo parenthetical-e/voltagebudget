{
 "cells": [
  {
   "cell_type": "code",
   "execution_count": 1,
   "metadata": {},
   "outputs": [],
   "source": [
    "import os\n",
    "import numpy as np\n",
    "\n",
    "from IPython.display import Image\n",
    "import matplotlib\n",
    "import matplotlib.pyplot as plt\n",
    "\n",
    "%matplotlib inline\n",
    "%config InlineBackend.figure_format = 'retina'\n",
    "\n",
    "import seaborn as sns\n",
    "sns.set_style('ticks')\n",
    "\n",
    "matplotlib.rcParams.update({'font.size': 16})\n",
    "matplotlib.rc('axes', titlesize=16)\n",
    "\n",
    "from voltagebudget.neurons import adex\n",
    "from voltagebudget.util import read_results\n",
    "from voltagebudget.util import read_stim\n",
    "from voltagebudget.util import read_args\n",
    "from voltagebudget.util import read_modes\n",
    "from voltagebudget.util import nearest_spike\n",
    "from voltagebudget.util import write_spikes\n",
    "from voltagebudget.util import locate_firsts\n",
    "from voltagebudget.util import filter_spikes\n",
    "from voltagebudget.util import budget_window\n",
    "from voltagebudget.util import locate_peaks\n",
    "from voltagebudget.util import write_spikes\n",
    "from voltagebudget.util import write_voltages\n",
    "from voltagebudget.util import mad\n",
    "from voltagebudget.util import mae\n",
    "from voltagebudget.util import select_n\n",
    "from voltagebudget.util import score_by_group\n",
    "from voltagebudget.util import score_by_n\n",
    "from voltagebudget.util import find_E\n",
    "from voltagebudget.util import find_phis"
   ]
  },
  {
   "cell_type": "code",
   "execution_count": 17,
   "metadata": {},
   "outputs": [],
   "source": [
    "stim = \"../../data/stim1.csv\"\n",
    "mode = \"regular\"\n",
    "\n",
    "N = 10\n",
    "time = 1.0\n",
    "time_step = 1e-5\n",
    "\n",
    "f = 8\n",
    "A = 0.01e-9\n",
    "phi = 0\n",
    "sigma = 0"
   ]
  },
  {
   "cell_type": "code",
   "execution_count": 18,
   "metadata": {},
   "outputs": [],
   "source": [
    "params, w_in, bias_in, _ = read_modes(mode)"
   ]
  },
  {
   "cell_type": "code",
   "execution_count": 19,
   "metadata": {},
   "outputs": [],
   "source": [
    "stim_data = read_stim(stim)\n",
    "ns_stim = np.asarray(stim_data['ns'])\n",
    "ts_stim = np.asarray(stim_data['ts'])"
   ]
  },
  {
   "cell_type": "code",
   "execution_count": 21,
   "metadata": {},
   "outputs": [
    {
     "name": "stderr",
     "output_type": "stream",
     "text": [
      "WARNING    \"a\" is an internal variable of group \"neurongroup\", but also exists in the run namespace with the value array([1.97490802e-09, 2.09014286e-09, 2.04639879e-09, 2.01973170e-09,\n",
      "       1.93120373e-09, 1.93119890e-09, 1.91161672e-09, 2.07323523e-09,\n",
      "       2.02022300e-09, 2.04161452e-09]). The internal variable will be used. [brian2.groups.group.Group.resolve.resolution_conflict]\n",
      "WARNING    \"tau_w\" is an internal variable of group \"neurongroup\", but also exists in the run namespace with the value array([0.02712351, 0.03281946, 0.03199466, 0.02827403, 0.02809095,\n",
      "       0.02810043, 0.02882545, 0.03014854, 0.02959167, 0.02874737]). The internal variable will be used. [brian2.groups.group.Group.resolve.resolution_conflict]\n",
      "WARNING    \"bias_in\" is an internal variable of group \"neurongroup\", but also exists in the run namespace with the value 5e-11. The internal variable will be used. [brian2.groups.group.Group.resolve.resolution_conflict]\n",
      "WARNING    \"b\" is an internal variable of group \"neurongroup\", but also exists in the run namespace with the value 0.0. The internal variable will be used. [brian2.groups.group.Group.resolve.resolution_conflict]\n",
      "WARNING    \"V_rheo\" is an internal variable of group \"neurongroup\", but also exists in the run namespace with the value -0.058. The internal variable will be used. [brian2.groups.group.Group.resolve.resolution_conflict]\n",
      "WARNING    \"w_in\" is an internal variable of group \"synapses\", but also exists in the run namespace with the value array([9.76001408e-09, 3.38316712e-09, 5.44395276e-09, ...,\n",
      "       1.64630829e-09, 1.37226567e-08, 2.73237014e-09]). The internal variable will be used. [brian2.groups.group.Group.resolve.resolution_conflict]\n"
     ]
    }
   ],
   "source": [
    "ns, ts, voltages = adex(\n",
    "        N,\n",
    "        time,\n",
    "        ns_stim,\n",
    "        ts_stim,\n",
    "        w_in=w_in,\n",
    "        bias_in=bias_in,\n",
    "        f=f,\n",
    "        A=A,\n",
    "        phi=phi,\n",
    "        sigma=sigma,\n",
    "        budget=True,\n",
    "        save_args=None,\n",
    "        time_step=time_step,\n",
    "        seed_value=42,\n",
    "        **params)"
   ]
  },
  {
   "cell_type": "code",
   "execution_count": 7,
   "metadata": {},
   "outputs": [
    {
     "data": {
      "text/plain": [
       "[array([], dtype=int32),\n",
       " array([], dtype=float64),\n",
       " {'tau_m': array(0.02),\n",
       "  'times': array([0.0000e+00, 1.0000e-05, 2.0000e-05, ..., 9.9997e-01, 9.9998e-01,\n",
       "         9.9999e-01]),\n",
       "  'I_ext': array([[0., 0., 0., ..., 0., 0., 0.],\n",
       "         [0., 0., 0., ..., 0., 0., 0.],\n",
       "         [0., 0., 0., ..., 0., 0., 0.],\n",
       "         ...,\n",
       "         [0., 0., 0., ..., 0., 0., 0.],\n",
       "         [0., 0., 0., ..., 0., 0., 0.],\n",
       "         [0., 0., 0., ..., 0., 0., 0.]]),\n",
       "  'V_budget': 0.022000000000000006,\n",
       "  'V_m': array([[-0.048     , -0.04800828, -0.04801657, ..., -0.06999991,\n",
       "          -0.06999991, -0.06999991],\n",
       "         [-0.048     , -0.04800828, -0.04801657, ..., -0.06999991,\n",
       "          -0.06999991, -0.06999991],\n",
       "         [-0.048     , -0.04800828, -0.04801657, ..., -0.06999991,\n",
       "          -0.06999991, -0.06999991],\n",
       "         ...,\n",
       "         [-0.048     , -0.04800828, -0.04801657, ..., -0.06999991,\n",
       "          -0.06999991, -0.06999991],\n",
       "         [-0.048     , -0.04800828, -0.04801657, ..., -0.06999991,\n",
       "          -0.06999991, -0.06999991],\n",
       "         [-0.048     , -0.04800828, -0.04801657, ..., -0.06999991,\n",
       "          -0.06999991, -0.06999991]]),\n",
       "  'V_m_thresh': array([[-0.048     , -0.04800828, -0.04801657, ..., -0.06999991,\n",
       "          -0.06999991, -0.06999991],\n",
       "         [-0.048     , -0.04800828, -0.04801657, ..., -0.06999991,\n",
       "          -0.06999991, -0.06999991],\n",
       "         [-0.048     , -0.04800828, -0.04801657, ..., -0.06999991,\n",
       "          -0.06999991, -0.06999991],\n",
       "         ...,\n",
       "         [-0.048     , -0.04800828, -0.04801657, ..., -0.06999991,\n",
       "          -0.06999991, -0.06999991],\n",
       "         [-0.048     , -0.04800828, -0.04801657, ..., -0.06999991,\n",
       "          -0.06999991, -0.06999991],\n",
       "         [-0.048     , -0.04800828, -0.04801657, ..., -0.06999991,\n",
       "          -0.06999991, -0.06999991]]),\n",
       "  'V_comp': array([[0., 0., 0., ..., 0., 0., 0.],\n",
       "         [0., 0., 0., ..., 0., 0., 0.],\n",
       "         [0., 0., 0., ..., 0., 0., 0.],\n",
       "         ...,\n",
       "         [0., 0., 0., ..., 0., 0., 0.],\n",
       "         [0., 0., 0., ..., 0., 0., 0.],\n",
       "         [0., 0., 0., ..., 0., 0., 0.]]),\n",
       "  'V_osc': array([[-2.20000000e-02, -2.19917183e-02, -2.19834295e-02, ...,\n",
       "          -9.08039960e-08, -9.08039960e-08, -9.08039960e-08],\n",
       "         [-2.20000000e-02, -2.19917183e-02, -2.19834295e-02, ...,\n",
       "          -9.08039960e-08, -9.08039960e-08, -9.08039960e-08],\n",
       "         [-2.20000000e-02, -2.19917183e-02, -2.19834295e-02, ...,\n",
       "          -9.08039960e-08, -9.08039960e-08, -9.08039960e-08],\n",
       "         ...,\n",
       "         [-2.20000000e-02, -2.19917183e-02, -2.19834295e-02, ...,\n",
       "          -9.08039960e-08, -9.08039960e-08, -9.08039960e-08],\n",
       "         [-2.20000000e-02, -2.19917183e-02, -2.19834295e-02, ...,\n",
       "          -9.08039960e-08, -9.08039960e-08, -9.08039960e-08],\n",
       "         [-2.20000000e-02, -2.19917183e-02, -2.19834295e-02, ...,\n",
       "          -9.08039960e-08, -9.08039960e-08, -9.08039960e-08]]),\n",
       "  'V_free': array([[0.00000000e+00, 8.28171817e-06, 1.65705282e-05, ...,\n",
       "          2.19999092e-02, 2.19999092e-02, 2.19999092e-02],\n",
       "         [0.00000000e+00, 8.28171817e-06, 1.65705282e-05, ...,\n",
       "          2.19999092e-02, 2.19999092e-02, 2.19999092e-02],\n",
       "         [0.00000000e+00, 8.28171817e-06, 1.65705282e-05, ...,\n",
       "          2.19999092e-02, 2.19999092e-02, 2.19999092e-02],\n",
       "         ...,\n",
       "         [0.00000000e+00, 8.28171817e-06, 1.65705282e-05, ...,\n",
       "          2.19999092e-02, 2.19999092e-02, 2.19999092e-02],\n",
       "         [0.00000000e+00, 8.28171817e-06, 1.65705282e-05, ...,\n",
       "          2.19999092e-02, 2.19999092e-02, 2.19999092e-02],\n",
       "         [0.00000000e+00, 8.28171817e-06, 1.65705282e-05, ...,\n",
       "          2.19999092e-02, 2.19999092e-02, 2.19999092e-02]]),\n",
       "  'V_rheo': array(-0.048),\n",
       "  'V_rest': array(-0.07),\n",
       "  'V_leak': array(-0.07),\n",
       "  'V_cut': -0.034,\n",
       "  'V_thresh': 0.0,\n",
       "  'V_t': -0.05}]"
      ]
     },
     "execution_count": 7,
     "metadata": {},
     "output_type": "execute_result"
    }
   ],
   "source": []
  },
  {
   "cell_type": "code",
   "execution_count": null,
   "metadata": {},
   "outputs": [],
   "source": []
  }
 ],
 "metadata": {
  "kernelspec": {
   "display_name": "Python 3",
   "language": "python",
   "name": "python3"
  },
  "language_info": {
   "codemirror_mode": {
    "name": "ipython",
    "version": 3
   },
   "file_extension": ".py",
   "mimetype": "text/x-python",
   "name": "python",
   "nbconvert_exporter": "python",
   "pygments_lexer": "ipython3",
   "version": "3.6.7"
  }
 },
 "nbformat": 4,
 "nbformat_minor": 2
}
