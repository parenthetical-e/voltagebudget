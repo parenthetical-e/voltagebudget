{
 "cells": [
  {
   "cell_type": "code",
   "execution_count": null,
   "metadata": {
    "collapsed": false
   },
   "outputs": [],
   "source": [
    "from bokeh.plotting import figure\n",
    "from bokeh.io import show, output_notebook\n",
    "from bokeh.layouts import column, row\n",
    "from bokeh.models import Range1d\n",
    "output_notebook()\n",
    "\n",
    "import numpy as np\n",
    "\n",
    "from voltagebudget import util\n",
    "from voltagebudget import neurons\n",
    "from voltagebudget.exp import autotune_membrane\n",
    "from voltagebudget.exp import autotune_w\n",
    "from voltagebudget.exp import autotune_V_osc\n",
    "from voltagebudget.util import read_modes\n",
    "from voltagebudget.util import read_stim\n",
    "\n",
    "from fakespikes import util as fsutil"
   ]
  },
  {
   "cell_type": "markdown",
   "metadata": {},
   "source": [
    "# Tune oscillation (testing)"
   ]
  },
  {
   "cell_type": "code",
   "execution_count": 2,
   "metadata": {
    "collapsed": false
   },
   "outputs": [
    {
     "name": "stdout",
     "output_type": "stream",
     "text": [
      ">>> Optimizing neuron 1/2.\n",
      ">>> (A 0.000000000100, phi 0.000)  ->  (V_free 0.008, V_osc 0.012 loss -0.00400)\n",
      ">>> (A 0.000000000100, phi 0.000)  ->  (V_free 0.008, V_osc 0.012 loss -0.00400)\n",
      ">>> (A 0.000000000100, phi 0.000)  ->  (V_free 0.008, V_osc 0.012 loss -0.00400)\n",
      ">>> Optimizing neuron 2/2.\n",
      ">>> (A 0.000000000100, phi 0.000)  ->  (V_free 0.008, V_osc 0.012 loss -0.00400)\n",
      ">>> (A 0.000000000100, phi 0.000)  ->  (V_free 0.008, V_osc 0.012 loss -0.00400)\n",
      ">>> (A 0.000000000100, phi 0.000)  ->  (V_free 0.008, V_osc 0.012 loss -0.00400)\n"
     ]
    }
   ],
   "source": [
    "mode = 'regular'\n",
    "N = 2\n",
    "t = 0.3\n",
    "E = 0.225\n",
    "d = -6e-3\n",
    "\n",
    "stim = \"../data/stim1.csv\"\n",
    "stim_data = read_stim(stim)\n",
    "ns = np.asarray(stim_data['ns'])\n",
    "ts = np.asarray(stim_data['ts'])\n",
    "\n",
    "A_0 = 0.1e-9\n",
    "A_max = 1e-9\n",
    "phi_0 = 0\n",
    "f = 8\n",
    "solutions = autotune_V_osc(N, t, E, d, ns, ts, \n",
    "                           A_0=A_0, A_max=A_max, phi_0=phi_0, f=f, \n",
    "                           verbose=True)       "
   ]
  },
  {
   "cell_type": "code",
   "execution_count": null,
   "metadata": {
    "collapsed": false
   },
   "outputs": [],
   "source": [
    "solutions"
   ]
  },
  {
   "cell_type": "code",
   "execution_count": null,
   "metadata": {
    "collapsed": false
   },
   "outputs": [],
   "source": [
    "# Select neuron\n",
    "n = 0\n",
    "\n",
    "# Opt oscillations\n",
    "A, phi = solutions[n].x\n",
    "print(\"Optimal A {}, phi {}, f {}\".format(A, phi, f))\n",
    "\n",
    "# Other params\n",
    "params, w_in, bias_in, sigma = read_modes(mode)\n",
    "\n",
    "stim_data = read_stim(stim)\n",
    "ns = np.asarray(stim_data['ns'])\n",
    "ts = np.asarray(stim_data['ts'])\n",
    "\n",
    "# !\n",
    "ns_y, ts_y, voltages_y = neurons.adex(\n",
    "                                  N, t, \n",
    "                                  ns, ts,\n",
    "                                  w_in=w_in, \n",
    "                                  bias_in=bias_in, \n",
    "                                  sigma=0,\n",
    "                                  f=f,\n",
    "                                  A=A,\n",
    "                                  phi=phi,\n",
    "                                  **params)\n",
    "\n",
    "# -\n",
    "times = voltages_y['times']\n",
    "v = voltages_y['V_m'][n, :]\n",
    "\n",
    "p = figure(plot_width=400, plot_height=200)\n",
    "p.line(x=times, y=v, color=\"black\")\n",
    "p.xaxis.axis_label = 'Time (s)'\n",
    "p.yaxis.axis_label = 'Vm (volts)'\n",
    "p.xgrid.grid_line_color = None\n",
    "p.ygrid.grid_line_color = None\n",
    "show(p)"
   ]
  },
  {
   "cell_type": "code",
   "execution_count": null,
   "metadata": {
    "collapsed": false
   },
   "outputs": [],
   "source": []
  },
  {
   "cell_type": "markdown",
   "metadata": {},
   "source": [
    "# Tune the bias "
   ]
  },
  {
   "cell_type": "code",
   "execution_count": null,
   "metadata": {
    "collapsed": false
   },
   "outputs": [],
   "source": [
    "# Print options\n",
    "util.get_mode_names()"
   ]
  },
  {
   "cell_type": "code",
   "execution_count": null,
   "metadata": {
    "collapsed": false
   },
   "outputs": [],
   "source": [
    "for mode in util.get_mode_names():\n",
    "    print(\">>> Tuning {}.\".format(mode))\n",
    "    \n",
    "    params, _, bias_0, sigma_0 = util.read_modes(mode)\n",
    "    sol = autotune_membrane(mode, bias_0, sigma_0, -65e-3, -2e-3)\n",
    "    bias_x, sigma_x = sol.x\n",
    "    \n",
    "    np.savez(\"../data/{}_membrane_tuned\".format(mode), bias=bias_x, sigma=sigma_x)"
   ]
  },
  {
   "cell_type": "markdown",
   "metadata": {},
   "source": [
    "### Plot examples"
   ]
  },
  {
   "cell_type": "code",
   "execution_count": null,
   "metadata": {
    "collapsed": true
   },
   "outputs": [],
   "source": [
    "mode = 'adaption'"
   ]
  },
  {
   "cell_type": "code",
   "execution_count": null,
   "metadata": {
    "collapsed": false
   },
   "outputs": [],
   "source": [
    "params, _, _, _ = util.read_modes(mode)\n",
    "sol = np.load(\"../data/{}_membrane_tuned.npz\".format(mode))\n",
    "\n",
    "bias_x = float(sol['bias'])\n",
    "sigma_x = float(sol['sigma'])\n",
    "\n",
    "print(bias_x, sigma_x)\n",
    "\n",
    "# -\n",
    "t = 1\n",
    "ns_y, ts_y, budget = neurons.adex(1, t, \n",
    "                                  np.asarray([0]), np.asarray([0]), \n",
    "                                  w_max=0, \n",
    "                                  bias=bias_x, \n",
    "                                  sigma=sigma_x,\n",
    "                                  f=0,\n",
    "                                  **params)\n",
    "\n",
    "# -\n",
    "times = budget['times']\n",
    "v = budget['V_m'][0, :]\n",
    "\n",
    "p = figure(plot_width=400, plot_height=200)\n",
    "p.line(x=times, y=v, color=\"black\")\n",
    "p.xaxis.axis_label = 'Time (s)'\n",
    "p.yaxis.axis_label = 'Vm (volts)'\n",
    "p.xgrid.grid_line_color = None\n",
    "p.ygrid.grid_line_color = None\n",
    "show(p)"
   ]
  },
  {
   "cell_type": "code",
   "execution_count": null,
   "metadata": {
    "collapsed": false
   },
   "outputs": [],
   "source": [
    "params"
   ]
  },
  {
   "cell_type": "markdown",
   "metadata": {},
   "source": [
    "- After plotting each to confirm everything looked OK, the tuned values were hand tranfered to the defulat json file"
   ]
  },
  {
   "cell_type": "markdown",
   "metadata": {},
   "source": [
    "# Tune w\n",
    "\n",
    "After entering the optimal bias/sigma into default json, I tuned `w_max`."
   ]
  },
  {
   "cell_type": "code",
   "execution_count": null,
   "metadata": {
    "collapsed": true,
    "scrolled": false
   },
   "outputs": [],
   "source": [
    "for mode in util.get_mode_names():\n",
    "    print(\">>> Tuning {}.\".format(mode))\n",
    "    \n",
    "    params, w_0, _, _ = util.read_modes(mode)\n",
    "    sol = autotune_w(mode, w_0, 10, max_mult=1.5)\n",
    "    w_x = sol.x\n",
    "    print(w_x)\n",
    "    np.savez(\"../data/{}_w_tuned\".format(mode), w=w_x)"
   ]
  },
  {
   "cell_type": "markdown",
   "metadata": {},
   "source": [
    "### Plot examples"
   ]
  },
  {
   "cell_type": "code",
   "execution_count": null,
   "metadata": {
    "collapsed": true
   },
   "outputs": [],
   "source": [
    "# Overall run time\n",
    "t = 3\n",
    "\n",
    "# Create frozen input spikes\n",
    "stim_rate = 30\n",
    "seed_stim = 1\n",
    "k = 20\n",
    "stim_onset = 0.1\n",
    "stim_offset = t\n",
    "dt = 1e-5\n",
    "\n",
    "ns, ts = util.poisson_impulse(\n",
    "    t,\n",
    "    stim_onset,\n",
    "    stim_offset - stim_onset,\n",
    "    stim_rate,\n",
    "    n=k,\n",
    "    dt=dt,\n",
    "    seed=seed_stim)"
   ]
  },
  {
   "cell_type": "code",
   "execution_count": null,
   "metadata": {
    "collapsed": true
   },
   "outputs": [],
   "source": [
    "mode = 'regular'"
   ]
  },
  {
   "cell_type": "code",
   "execution_count": null,
   "metadata": {
    "collapsed": true
   },
   "outputs": [],
   "source": [
    "params, _, bias, sigma = util.read_modes(mode)\n",
    "\n",
    "sol = np.load(\"../data/{}_w_tuned.npz\".format(mode))\n",
    "w_x = float(sol['w'])\n",
    "print(w_x)\n",
    "\n",
    "# -\n",
    "t = 1\n",
    "N = 100\n",
    "ns_y, ts_y, budget = neurons.adex(N, t, \n",
    "                                  ns, ts,\n",
    "                                  w_max=w_x*1.3, \n",
    "                                  bias=bias, \n",
    "                                  sigma=sigma,\n",
    "                                  f=0,\n",
    "                                  **params)\n",
    "\n",
    "# -\n",
    "p = figure(plot_width=400, plot_height=200)\n",
    "p.circle(ts_y, ns_y, color=\"black\")\n",
    "p.xaxis.axis_label = 'Time (s)'\n",
    "p.yaxis.axis_label = 'N'\n",
    "p.xgrid.grid_line_color = None\n",
    "p.ygrid.grid_line_color = None\n",
    "show(p)\n",
    "\n",
    "p = figure(plot_width=400, plot_height=200)\n",
    "for i in range(N):\n",
    "    times = budget['times']\n",
    "    v = budget['V_m'][i, :]\n",
    "\n",
    "    p.line(x=times, y=v, color=\"black\", alpha=0.1)\n",
    "    p.xaxis.axis_label = 'Time (s)'\n",
    "    p.yaxis.axis_label = 'Vm (volts)'\n",
    "    p.xgrid.grid_line_color = None\n",
    "    p.ygrid.grid_line_color = None\n",
    "show(p)"
   ]
  },
  {
   "cell_type": "code",
   "execution_count": null,
   "metadata": {
    "collapsed": true
   },
   "outputs": [],
   "source": []
  },
  {
   "cell_type": "code",
   "execution_count": null,
   "metadata": {
    "collapsed": true
   },
   "outputs": [],
   "source": []
  }
 ],
 "metadata": {
  "kernelspec": {
   "display_name": "Python 2",
   "language": "python",
   "name": "python2"
  },
  "language_info": {
   "codemirror_mode": {
    "name": "ipython",
    "version": 2
   },
   "file_extension": ".py",
   "mimetype": "text/x-python",
   "name": "python",
   "nbconvert_exporter": "python",
   "pygments_lexer": "ipython2",
   "version": "2.7.13"
  }
 },
 "nbformat": 4,
 "nbformat_minor": 1
}
