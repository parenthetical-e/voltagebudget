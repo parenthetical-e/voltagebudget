{
 "cells": [
  {
   "cell_type": "code",
   "execution_count": 1,
   "metadata": {
    "collapsed": false
   },
   "outputs": [
    {
     "data": {
      "text/html": [
       "\n",
       "    <div class=\"bk-root\">\n",
       "        <a href=\"http://bokeh.pydata.org\" target=\"_blank\" class=\"bk-logo bk-logo-small bk-logo-notebook\"></a>\n",
       "        <span id=\"b9fd54ce-14d3-4bc6-92c5-04f53e588cf9\">Loading BokehJS ...</span>\n",
       "    </div>"
      ]
     },
     "metadata": {},
     "output_type": "display_data"
    },
    {
     "data": {
      "application/javascript": [
       "\n",
       "(function(global) {\n",
       "  function now() {\n",
       "    return new Date();\n",
       "  }\n",
       "\n",
       "  var force = true;\n",
       "\n",
       "  if (typeof (window._bokeh_onload_callbacks) === \"undefined\" || force === true) {\n",
       "    window._bokeh_onload_callbacks = [];\n",
       "    window._bokeh_is_loading = undefined;\n",
       "  }\n",
       "\n",
       "\n",
       "  \n",
       "  if (typeof (window._bokeh_timeout) === \"undefined\" || force === true) {\n",
       "    window._bokeh_timeout = Date.now() + 5000;\n",
       "    window._bokeh_failed_load = false;\n",
       "  }\n",
       "\n",
       "  var NB_LOAD_WARNING = {'data': {'text/html':\n",
       "     \"<div style='background-color: #fdd'>\\n\"+\n",
       "     \"<p>\\n\"+\n",
       "     \"BokehJS does not appear to have successfully loaded. If loading BokehJS from CDN, this \\n\"+\n",
       "     \"may be due to a slow or bad network connection. Possible fixes:\\n\"+\n",
       "     \"</p>\\n\"+\n",
       "     \"<ul>\\n\"+\n",
       "     \"<li>re-rerun `output_notebook()` to attempt to load from CDN again, or</li>\\n\"+\n",
       "     \"<li>use INLINE resources instead, as so:</li>\\n\"+\n",
       "     \"</ul>\\n\"+\n",
       "     \"<code>\\n\"+\n",
       "     \"from bokeh.resources import INLINE\\n\"+\n",
       "     \"output_notebook(resources=INLINE)\\n\"+\n",
       "     \"</code>\\n\"+\n",
       "     \"</div>\"}};\n",
       "\n",
       "  function display_loaded() {\n",
       "    if (window.Bokeh !== undefined) {\n",
       "      document.getElementById(\"b9fd54ce-14d3-4bc6-92c5-04f53e588cf9\").textContent = \"BokehJS successfully loaded.\";\n",
       "    } else if (Date.now() < window._bokeh_timeout) {\n",
       "      setTimeout(display_loaded, 100)\n",
       "    }\n",
       "  }\n",
       "\n",
       "  function run_callbacks() {\n",
       "    window._bokeh_onload_callbacks.forEach(function(callback) { callback() });\n",
       "    delete window._bokeh_onload_callbacks\n",
       "    console.info(\"Bokeh: all callbacks have finished\");\n",
       "  }\n",
       "\n",
       "  function load_libs(js_urls, callback) {\n",
       "    window._bokeh_onload_callbacks.push(callback);\n",
       "    if (window._bokeh_is_loading > 0) {\n",
       "      console.log(\"Bokeh: BokehJS is being loaded, scheduling callback at\", now());\n",
       "      return null;\n",
       "    }\n",
       "    if (js_urls == null || js_urls.length === 0) {\n",
       "      run_callbacks();\n",
       "      return null;\n",
       "    }\n",
       "    console.log(\"Bokeh: BokehJS not loaded, scheduling load and callback at\", now());\n",
       "    window._bokeh_is_loading = js_urls.length;\n",
       "    for (var i = 0; i < js_urls.length; i++) {\n",
       "      var url = js_urls[i];\n",
       "      var s = document.createElement('script');\n",
       "      s.src = url;\n",
       "      s.async = false;\n",
       "      s.onreadystatechange = s.onload = function() {\n",
       "        window._bokeh_is_loading--;\n",
       "        if (window._bokeh_is_loading === 0) {\n",
       "          console.log(\"Bokeh: all BokehJS libraries loaded\");\n",
       "          run_callbacks()\n",
       "        }\n",
       "      };\n",
       "      s.onerror = function() {\n",
       "        console.warn(\"failed to load library \" + url);\n",
       "      };\n",
       "      console.log(\"Bokeh: injecting script tag for BokehJS library: \", url);\n",
       "      document.getElementsByTagName(\"head\")[0].appendChild(s);\n",
       "    }\n",
       "  };var element = document.getElementById(\"b9fd54ce-14d3-4bc6-92c5-04f53e588cf9\");\n",
       "  if (element == null) {\n",
       "    console.log(\"Bokeh: ERROR: autoload.js configured with elementid 'b9fd54ce-14d3-4bc6-92c5-04f53e588cf9' but no matching script tag was found. \")\n",
       "    return false;\n",
       "  }\n",
       "\n",
       "  var js_urls = [\"https://cdn.pydata.org/bokeh/release/bokeh-0.12.4.min.js\", \"https://cdn.pydata.org/bokeh/release/bokeh-widgets-0.12.4.min.js\"];\n",
       "\n",
       "  var inline_js = [\n",
       "    function(Bokeh) {\n",
       "      Bokeh.set_log_level(\"info\");\n",
       "    },\n",
       "    \n",
       "    function(Bokeh) {\n",
       "      \n",
       "      document.getElementById(\"b9fd54ce-14d3-4bc6-92c5-04f53e588cf9\").textContent = \"BokehJS is loading...\";\n",
       "    },\n",
       "    function(Bokeh) {\n",
       "      console.log(\"Bokeh: injecting CSS: https://cdn.pydata.org/bokeh/release/bokeh-0.12.4.min.css\");\n",
       "      Bokeh.embed.inject_css(\"https://cdn.pydata.org/bokeh/release/bokeh-0.12.4.min.css\");\n",
       "      console.log(\"Bokeh: injecting CSS: https://cdn.pydata.org/bokeh/release/bokeh-widgets-0.12.4.min.css\");\n",
       "      Bokeh.embed.inject_css(\"https://cdn.pydata.org/bokeh/release/bokeh-widgets-0.12.4.min.css\");\n",
       "    }\n",
       "  ];\n",
       "\n",
       "  function run_inline_js() {\n",
       "    \n",
       "    if ((window.Bokeh !== undefined) || (force === true)) {\n",
       "      for (var i = 0; i < inline_js.length; i++) {\n",
       "        inline_js[i](window.Bokeh);\n",
       "      }if (force === true) {\n",
       "        display_loaded();\n",
       "      }} else if (Date.now() < window._bokeh_timeout) {\n",
       "      setTimeout(run_inline_js, 100);\n",
       "    } else if (!window._bokeh_failed_load) {\n",
       "      console.log(\"Bokeh: BokehJS failed to load within specified timeout.\");\n",
       "      window._bokeh_failed_load = true;\n",
       "    } else if (force !== true) {\n",
       "      var cell = $(document.getElementById(\"b9fd54ce-14d3-4bc6-92c5-04f53e588cf9\")).parents('.cell').data().cell;\n",
       "      cell.output_area.append_execute_result(NB_LOAD_WARNING)\n",
       "    }\n",
       "\n",
       "  }\n",
       "\n",
       "  if (window._bokeh_is_loading === 0) {\n",
       "    console.log(\"Bokeh: BokehJS loaded, going straight to plotting\");\n",
       "    run_inline_js();\n",
       "  } else {\n",
       "    load_libs(js_urls, function() {\n",
       "      console.log(\"Bokeh: BokehJS plotting callback run at\", now());\n",
       "      run_inline_js();\n",
       "    });\n",
       "  }\n",
       "}(this));"
      ]
     },
     "metadata": {},
     "output_type": "display_data"
    }
   ],
   "source": [
    "from __future__ import division\n",
    "\n",
    "from bokeh.plotting import figure, output_file, show, output_notebook\n",
    "from bokeh.models import Range1d\n",
    "output_notebook()\n",
    "\n",
    "from voltagebudget.util import k_spikes, poisson_impulse\n",
    "from voltagebudget.learn import coincidence_detection, lif_brute\n",
    "import scipy\n",
    "import numpy as np"
   ]
  },
  {
   "cell_type": "code",
   "execution_count": 61,
   "metadata": {
    "collapsed": false
   },
   "outputs": [
    {
     "data": {
      "text/html": [
       "\n",
       "\n",
       "    <div class=\"bk-root\">\n",
       "        <div class=\"bk-plotdiv\" id=\"f2363e82-945a-41e4-88e8-5e8507166453\"></div>\n",
       "    </div>\n",
       "<script type=\"text/javascript\">\n",
       "  \n",
       "  (function(global) {\n",
       "    function now() {\n",
       "      return new Date();\n",
       "    }\n",
       "  \n",
       "    var force = false;\n",
       "  \n",
       "    if (typeof (window._bokeh_onload_callbacks) === \"undefined\" || force === true) {\n",
       "      window._bokeh_onload_callbacks = [];\n",
       "      window._bokeh_is_loading = undefined;\n",
       "    }\n",
       "  \n",
       "  \n",
       "    \n",
       "    if (typeof (window._bokeh_timeout) === \"undefined\" || force === true) {\n",
       "      window._bokeh_timeout = Date.now() + 0;\n",
       "      window._bokeh_failed_load = false;\n",
       "    }\n",
       "  \n",
       "    var NB_LOAD_WARNING = {'data': {'text/html':\n",
       "       \"<div style='background-color: #fdd'>\\n\"+\n",
       "       \"<p>\\n\"+\n",
       "       \"BokehJS does not appear to have successfully loaded. If loading BokehJS from CDN, this \\n\"+\n",
       "       \"may be due to a slow or bad network connection. Possible fixes:\\n\"+\n",
       "       \"</p>\\n\"+\n",
       "       \"<ul>\\n\"+\n",
       "       \"<li>re-rerun `output_notebook()` to attempt to load from CDN again, or</li>\\n\"+\n",
       "       \"<li>use INLINE resources instead, as so:</li>\\n\"+\n",
       "       \"</ul>\\n\"+\n",
       "       \"<code>\\n\"+\n",
       "       \"from bokeh.resources import INLINE\\n\"+\n",
       "       \"output_notebook(resources=INLINE)\\n\"+\n",
       "       \"</code>\\n\"+\n",
       "       \"</div>\"}};\n",
       "  \n",
       "    function display_loaded() {\n",
       "      if (window.Bokeh !== undefined) {\n",
       "        document.getElementById(\"f2363e82-945a-41e4-88e8-5e8507166453\").textContent = \"BokehJS successfully loaded.\";\n",
       "      } else if (Date.now() < window._bokeh_timeout) {\n",
       "        setTimeout(display_loaded, 100)\n",
       "      }\n",
       "    }\n",
       "  \n",
       "    function run_callbacks() {\n",
       "      window._bokeh_onload_callbacks.forEach(function(callback) { callback() });\n",
       "      delete window._bokeh_onload_callbacks\n",
       "      console.info(\"Bokeh: all callbacks have finished\");\n",
       "    }\n",
       "  \n",
       "    function load_libs(js_urls, callback) {\n",
       "      window._bokeh_onload_callbacks.push(callback);\n",
       "      if (window._bokeh_is_loading > 0) {\n",
       "        console.log(\"Bokeh: BokehJS is being loaded, scheduling callback at\", now());\n",
       "        return null;\n",
       "      }\n",
       "      if (js_urls == null || js_urls.length === 0) {\n",
       "        run_callbacks();\n",
       "        return null;\n",
       "      }\n",
       "      console.log(\"Bokeh: BokehJS not loaded, scheduling load and callback at\", now());\n",
       "      window._bokeh_is_loading = js_urls.length;\n",
       "      for (var i = 0; i < js_urls.length; i++) {\n",
       "        var url = js_urls[i];\n",
       "        var s = document.createElement('script');\n",
       "        s.src = url;\n",
       "        s.async = false;\n",
       "        s.onreadystatechange = s.onload = function() {\n",
       "          window._bokeh_is_loading--;\n",
       "          if (window._bokeh_is_loading === 0) {\n",
       "            console.log(\"Bokeh: all BokehJS libraries loaded\");\n",
       "            run_callbacks()\n",
       "          }\n",
       "        };\n",
       "        s.onerror = function() {\n",
       "          console.warn(\"failed to load library \" + url);\n",
       "        };\n",
       "        console.log(\"Bokeh: injecting script tag for BokehJS library: \", url);\n",
       "        document.getElementsByTagName(\"head\")[0].appendChild(s);\n",
       "      }\n",
       "    };var element = document.getElementById(\"f2363e82-945a-41e4-88e8-5e8507166453\");\n",
       "    if (element == null) {\n",
       "      console.log(\"Bokeh: ERROR: autoload.js configured with elementid 'f2363e82-945a-41e4-88e8-5e8507166453' but no matching script tag was found. \")\n",
       "      return false;\n",
       "    }\n",
       "  \n",
       "    var js_urls = [];\n",
       "  \n",
       "    var inline_js = [\n",
       "      function(Bokeh) {\n",
       "        (function() {\n",
       "          var fn = function() {\n",
       "            var docs_json = {\"c5609e8d-04ef-40e2-a3af-19eb278365f0\":{\"roots\":{\"references\":[{\"attributes\":{\"formatter\":{\"id\":\"ff8b254d-78a2-4423-a1cf-12ec7d9ce6ab\",\"type\":\"BasicTickFormatter\"},\"plot\":{\"id\":\"95b26fc3-9708-4b23-8fc5-935f182ba20b\",\"subtype\":\"Figure\",\"type\":\"Plot\"},\"ticker\":{\"id\":\"793475d8-8478-45c7-acba-c65279fe5266\",\"type\":\"BasicTicker\"}},\"id\":\"3350a79e-6fc8-4b63-888c-f22f6f6cd017\",\"type\":\"LinearAxis\"},{\"attributes\":{\"active_drag\":\"auto\",\"active_scroll\":\"auto\",\"active_tap\":\"auto\",\"tools\":[{\"id\":\"4969c534-a0f5-41b5-8e9a-cf9bed4cf826\",\"type\":\"PanTool\"},{\"id\":\"766f1b97-70da-430f-b449-7e3a965890fd\",\"type\":\"WheelZoomTool\"},{\"id\":\"dc46537d-6063-4214-81e5-97e01e5f5468\",\"type\":\"BoxZoomTool\"},{\"id\":\"cf230ed7-c4c2-4841-9798-33557d60c198\",\"type\":\"SaveTool\"},{\"id\":\"0142894b-b1ef-4e78-8630-ed848face2d3\",\"type\":\"ResetTool\"},{\"id\":\"ff31b09b-f8a2-4bae-9321-a3a1d2545965\",\"type\":\"HelpTool\"}]},\"id\":\"c45fbbf0-57aa-4ce5-9d50-6368939e7b0f\",\"type\":\"Toolbar\"},{\"attributes\":{\"callback\":null},\"id\":\"9fbed5c4-735a-41d4-9ead-91d1517f05ef\",\"type\":\"DataRange1d\"},{\"attributes\":{\"below\":[{\"id\":\"3350a79e-6fc8-4b63-888c-f22f6f6cd017\",\"type\":\"LinearAxis\"}],\"left\":[{\"id\":\"d0e08855-95f5-486f-8943-c6da2ece525a\",\"type\":\"LinearAxis\"}],\"plot_height\":200,\"plot_width\":400,\"renderers\":[{\"id\":\"3350a79e-6fc8-4b63-888c-f22f6f6cd017\",\"type\":\"LinearAxis\"},{\"id\":\"2c885c2f-8fb8-4837-b332-4fdccc22f3da\",\"type\":\"Grid\"},{\"id\":\"d0e08855-95f5-486f-8943-c6da2ece525a\",\"type\":\"LinearAxis\"},{\"id\":\"dac09179-791a-4134-bdd0-eba5738ed81f\",\"type\":\"Grid\"},{\"id\":\"cb113233-d1c7-4412-aa03-fc0e088cde8a\",\"type\":\"BoxAnnotation\"},{\"id\":\"53264361-7101-40fd-bcca-45c348f72d9c\",\"type\":\"GlyphRenderer\"}],\"title\":{\"id\":\"16b6addb-122c-4b55-a011-5f2e857f83ec\",\"type\":\"Title\"},\"tool_events\":{\"id\":\"b4350788-2ff0-4d26-9007-af7bf580bc00\",\"type\":\"ToolEvents\"},\"toolbar\":{\"id\":\"c45fbbf0-57aa-4ce5-9d50-6368939e7b0f\",\"type\":\"Toolbar\"},\"x_range\":{\"id\":\"9fbed5c4-735a-41d4-9ead-91d1517f05ef\",\"type\":\"DataRange1d\"},\"y_range\":{\"id\":\"d2b90ce5-053f-4be5-9a30-2898cbcffc74\",\"type\":\"DataRange1d\"}},\"id\":\"95b26fc3-9708-4b23-8fc5-935f182ba20b\",\"subtype\":\"Figure\",\"type\":\"Plot\"},{\"attributes\":{\"plot\":{\"id\":\"95b26fc3-9708-4b23-8fc5-935f182ba20b\",\"subtype\":\"Figure\",\"type\":\"Plot\"},\"ticker\":{\"id\":\"793475d8-8478-45c7-acba-c65279fe5266\",\"type\":\"BasicTicker\"}},\"id\":\"2c885c2f-8fb8-4837-b332-4fdccc22f3da\",\"type\":\"Grid\"},{\"attributes\":{\"plot\":{\"id\":\"95b26fc3-9708-4b23-8fc5-935f182ba20b\",\"subtype\":\"Figure\",\"type\":\"Plot\"}},\"id\":\"4969c534-a0f5-41b5-8e9a-cf9bed4cf826\",\"type\":\"PanTool\"},{\"attributes\":{},\"id\":\"b4350788-2ff0-4d26-9007-af7bf580bc00\",\"type\":\"ToolEvents\"},{\"attributes\":{\"callback\":null},\"id\":\"d2b90ce5-053f-4be5-9a30-2898cbcffc74\",\"type\":\"DataRange1d\"},{\"attributes\":{\"fill_alpha\":{\"value\":0.1},\"fill_color\":{\"value\":\"#1f77b4\"},\"line_alpha\":{\"value\":0.1},\"line_color\":{\"value\":\"#1f77b4\"},\"size\":{\"units\":\"screen\",\"value\":1.0},\"x\":{\"field\":\"x\"},\"y\":{\"field\":\"y\"}},\"id\":\"d39f35e3-c10e-4552-97d8-5d8b4c77a40f\",\"type\":\"Circle\"},{\"attributes\":{\"data_source\":{\"id\":\"fee943e3-6b68-40bc-beee-506b307bf7e3\",\"type\":\"ColumnDataSource\"},\"glyph\":{\"id\":\"1ea7e2c1-4dc5-4285-8893-a09f0b66ef55\",\"type\":\"Circle\"},\"hover_glyph\":null,\"nonselection_glyph\":{\"id\":\"d39f35e3-c10e-4552-97d8-5d8b4c77a40f\",\"type\":\"Circle\"},\"selection_glyph\":null},\"id\":\"53264361-7101-40fd-bcca-45c348f72d9c\",\"type\":\"GlyphRenderer\"},{\"attributes\":{\"bottom_units\":\"screen\",\"fill_alpha\":{\"value\":0.5},\"fill_color\":{\"value\":\"lightgrey\"},\"left_units\":\"screen\",\"level\":\"overlay\",\"line_alpha\":{\"value\":1.0},\"line_color\":{\"value\":\"black\"},\"line_dash\":[4,4],\"line_width\":{\"value\":2},\"plot\":null,\"render_mode\":\"css\",\"right_units\":\"screen\",\"top_units\":\"screen\"},\"id\":\"cb113233-d1c7-4412-aa03-fc0e088cde8a\",\"type\":\"BoxAnnotation\"},{\"attributes\":{\"callback\":null,\"column_names\":[\"x\",\"y\"],\"data\":{\"x\":{\"__ndarray__\":\"xLsp6w+4qT8V3TkDODuqPwlBakuwxKs/OJx9mxNirD8yzpW/zyatPyBrl1vtM60/7Drj/1ycrz9yhe5DLPivP7ZbAzR0XrA/tlsDNHResD+zdA9G0sCwP7CNG1gwI7E/sI0bWDAjsT8W+R3C3DaxPwGvK3BYprE/HqdAXNlQsj+EEkPGhWSyP7ZUSgSLn7I/+flPpnLNsj+hCliyBg+zPwd2WhyzIrM/beFchl82sz8Ej2YuEYWzP1iXajTbpbM/rZ9uOqXGsz94dnMO/u2zP/BEdNyM9LM/zX53FMgOtD9BZoT0tHe0P5VuiPp+mLQ/+9mKZCustD9wwZdEGBW1PzXKtDwtAbY/8D27rKM1tj/Nd77k3k+2P4frxFRVhLY/PnjX1ikbtz9vut4UL1a3P/UE6lj+sbc/9QTqWP6xtz9bcOzCqsW3P1iJ+NQIKLg/NcP7DERCuD/b7A8rNua4PwZhL4335bk/rIpDq+mJuj9DOE1Tm9i6P6mjT71H7Lo/qaNPvUfsuj+G3VL1gga7PwwoXjlSYrs/tThmReajuz/DtHC7Jvm7PzicfZsTYrw/Jjl/NzFvvD8Dc4JvbIm8P+Cshaeno7w/I1KLSY/RvD+VUqQ72py9P4Pvpdf3qb0/CTqxG8cFvj9M37a9rjO+P8Ott4s9Or4/BlO9LSVovj99Ib77s26+P/XvvslCdb4/bL6/l9F7vj84lcRrKqO+PyYyxgdIsL4/3b7YiRxHvz9VjdlXq02/P8xb2iU6VL8/UqblaQmwvz8m7P7GYjrAP4xXATEPTsA/LSoEAgNlwD+9mQhvFInAP72ZCG8UicA/+QAJ1luMwD/deBFJN9HAP8wVE+VU3sA/XIUXUmYCwT9A/R/FQUfBP3xkICyJSsE/DNQkmZpuwT9HOyUA4nHBPwGvK3BYpsE/o4EuQUy9wT9uWDMVpeTBP6q/M3zs58E/TJI2TeD+wT+EEkPGhWTCP4QSQ8aFZMI/G8BMbjezwj/O9U2jDb3CP3cGVq+h/sI/s21WFukBwz/u1FZ9MAXDPxnZWICVFcM/\",\"dtype\":\"float64\",\"shape\":[99]},\"y\":[31,18,41,33,10,13,3,7,31,35,3,18,20,14,5,22,27,30,22,14,31,12,16,49,9,9,43,36,22,14,46,14,29,12,19,17,2,37,8,26,38,41,2,7,29,4,31,24,31,45,24,13,9,9,35,8,45,4,38,49,35,41,22,23,38,23,48,14,22,5,17,11,21,10,28,19,6,18,43,16,38,8,0,24,9,8,38,40,38,34,3,24,39,44,27,41,9,39,42]}},\"id\":\"fee943e3-6b68-40bc-beee-506b307bf7e3\",\"type\":\"ColumnDataSource\"},{\"attributes\":{\"plot\":{\"id\":\"95b26fc3-9708-4b23-8fc5-935f182ba20b\",\"subtype\":\"Figure\",\"type\":\"Plot\"}},\"id\":\"766f1b97-70da-430f-b449-7e3a965890fd\",\"type\":\"WheelZoomTool\"},{\"attributes\":{\"formatter\":{\"id\":\"1df482b6-9ad2-4f2b-aafa-cdc82764cf7c\",\"type\":\"BasicTickFormatter\"},\"plot\":{\"id\":\"95b26fc3-9708-4b23-8fc5-935f182ba20b\",\"subtype\":\"Figure\",\"type\":\"Plot\"},\"ticker\":{\"id\":\"f73aaf4d-79ef-406d-bc05-35cc99fd4066\",\"type\":\"BasicTicker\"}},\"id\":\"d0e08855-95f5-486f-8943-c6da2ece525a\",\"type\":\"LinearAxis\"},{\"attributes\":{\"plot\":{\"id\":\"95b26fc3-9708-4b23-8fc5-935f182ba20b\",\"subtype\":\"Figure\",\"type\":\"Plot\"}},\"id\":\"0142894b-b1ef-4e78-8630-ed848face2d3\",\"type\":\"ResetTool\"},{\"attributes\":{\"overlay\":{\"id\":\"cb113233-d1c7-4412-aa03-fc0e088cde8a\",\"type\":\"BoxAnnotation\"},\"plot\":{\"id\":\"95b26fc3-9708-4b23-8fc5-935f182ba20b\",\"subtype\":\"Figure\",\"type\":\"Plot\"}},\"id\":\"dc46537d-6063-4214-81e5-97e01e5f5468\",\"type\":\"BoxZoomTool\"},{\"attributes\":{},\"id\":\"f73aaf4d-79ef-406d-bc05-35cc99fd4066\",\"type\":\"BasicTicker\"},{\"attributes\":{\"plot\":{\"id\":\"95b26fc3-9708-4b23-8fc5-935f182ba20b\",\"subtype\":\"Figure\",\"type\":\"Plot\"}},\"id\":\"ff31b09b-f8a2-4bae-9321-a3a1d2545965\",\"type\":\"HelpTool\"},{\"attributes\":{},\"id\":\"ff8b254d-78a2-4423-a1cf-12ec7d9ce6ab\",\"type\":\"BasicTickFormatter\"},{\"attributes\":{\"plot\":null,\"text\":\"\"},\"id\":\"16b6addb-122c-4b55-a011-5f2e857f83ec\",\"type\":\"Title\"},{\"attributes\":{},\"id\":\"793475d8-8478-45c7-acba-c65279fe5266\",\"type\":\"BasicTicker\"},{\"attributes\":{\"plot\":{\"id\":\"95b26fc3-9708-4b23-8fc5-935f182ba20b\",\"subtype\":\"Figure\",\"type\":\"Plot\"}},\"id\":\"cf230ed7-c4c2-4841-9798-33557d60c198\",\"type\":\"SaveTool\"},{\"attributes\":{\"dimension\":1,\"plot\":{\"id\":\"95b26fc3-9708-4b23-8fc5-935f182ba20b\",\"subtype\":\"Figure\",\"type\":\"Plot\"},\"ticker\":{\"id\":\"f73aaf4d-79ef-406d-bc05-35cc99fd4066\",\"type\":\"BasicTicker\"}},\"id\":\"dac09179-791a-4134-bdd0-eba5738ed81f\",\"type\":\"Grid\"},{\"attributes\":{},\"id\":\"1df482b6-9ad2-4f2b-aafa-cdc82764cf7c\",\"type\":\"BasicTickFormatter\"},{\"attributes\":{\"fill_color\":{\"value\":\"black\"},\"size\":{\"units\":\"screen\",\"value\":1.0},\"x\":{\"field\":\"x\"},\"y\":{\"field\":\"y\"}},\"id\":\"1ea7e2c1-4dc5-4285-8893-a09f0b66ef55\",\"type\":\"Circle\"}],\"root_ids\":[\"95b26fc3-9708-4b23-8fc5-935f182ba20b\"]},\"title\":\"Bokeh Application\",\"version\":\"0.12.4\"}};\n",
       "            var render_items = [{\"docid\":\"c5609e8d-04ef-40e2-a3af-19eb278365f0\",\"elementid\":\"f2363e82-945a-41e4-88e8-5e8507166453\",\"modelid\":\"95b26fc3-9708-4b23-8fc5-935f182ba20b\"}];\n",
       "            \n",
       "            Bokeh.embed.embed_items(docs_json, render_items);\n",
       "          };\n",
       "          if (document.readyState != \"loading\") fn();\n",
       "          else document.addEventListener(\"DOMContentLoaded\", fn);\n",
       "        })();\n",
       "      },\n",
       "      function(Bokeh) {\n",
       "      }\n",
       "    ];\n",
       "  \n",
       "    function run_inline_js() {\n",
       "      \n",
       "      if ((window.Bokeh !== undefined) || (force === true)) {\n",
       "        for (var i = 0; i < inline_js.length; i++) {\n",
       "          inline_js[i](window.Bokeh);\n",
       "        }if (force === true) {\n",
       "          display_loaded();\n",
       "        }} else if (Date.now() < window._bokeh_timeout) {\n",
       "        setTimeout(run_inline_js, 100);\n",
       "      } else if (!window._bokeh_failed_load) {\n",
       "        console.log(\"Bokeh: BokehJS failed to load within specified timeout.\");\n",
       "        window._bokeh_failed_load = true;\n",
       "      } else if (force !== true) {\n",
       "        var cell = $(document.getElementById(\"f2363e82-945a-41e4-88e8-5e8507166453\")).parents('.cell').data().cell;\n",
       "        cell.output_area.append_execute_result(NB_LOAD_WARNING)\n",
       "      }\n",
       "  \n",
       "    }\n",
       "  \n",
       "    if (window._bokeh_is_loading === 0) {\n",
       "      console.log(\"Bokeh: BokehJS loaded, going straight to plotting\");\n",
       "      run_inline_js();\n",
       "    } else {\n",
       "      load_libs(js_urls, function() {\n",
       "        console.log(\"Bokeh: BokehJS plotting callback run at\", now());\n",
       "        run_inline_js();\n",
       "      });\n",
       "    }\n",
       "  }(this));\n",
       "</script>"
      ]
     },
     "metadata": {},
     "output_type": "display_data"
    }
   ],
   "source": [
    "t = .155\n",
    "t_stim = .05\n",
    "time_step = 1e-4\n",
    "\n",
    "k = 5\n",
    "w = 100e-3\n",
    "rate = 20\n",
    "\n",
    "ns, ts = poisson_impulse(t, t_stim, w, rate, 50, seed=10, dt=time_step)\n",
    "\n",
    "p = figure(plot_width=400, plot_height=200)\n",
    "p.circle(ts, ns, color=\"black\", size=1.0)\n",
    "show(p)"
   ]
  },
  {
   "cell_type": "code",
   "execution_count": 62,
   "metadata": {
    "collapsed": false
   },
   "outputs": [
    {
     "name": "stdout",
     "output_type": "stream",
     "text": [
      "(2, [0.11797611362169141, 0.11967721110393803])\n"
     ]
    }
   ],
   "source": [
    "ts_y = coincidence_detection(ts, a_tol=1e-3, k=k)\n",
    "print(len(ts_y), ts_y)"
   ]
  },
  {
   "cell_type": "code",
   "execution_count": 4,
   "metadata": {
    "collapsed": false
   },
   "outputs": [
    {
     "name": "stderr",
     "output_type": "stream",
     "text": [
      "[Parallel(n_jobs=8)]: Done  34 tasks      | elapsed:    8.7s\n",
      "[Parallel(n_jobs=8)]: Done 184 tasks      | elapsed:   43.7s\n",
      "[Parallel(n_jobs=8)]: Done 400 out of 400 | elapsed:  1.6min finished\n"
     ]
    },
    {
     "name": "stdout",
     "output_type": "stream",
     "text": [
      "Starting simulation at t=0. s for a duration of 155. ms\n",
      "155. ms (100%) simulated in < 1s\n"
     ]
    }
   ],
   "source": [
    "w, b, ts_pred = lif_brute(t, ns, ts, ts_y, w_range=(.1e-9, 5e-9), bias_range=(1e-3, 5e-3), num=20)"
   ]
  },
  {
   "cell_type": "code",
   "execution_count": 6,
   "metadata": {
    "collapsed": false
   },
   "outputs": [
    {
     "data": {
      "text/plain": [
       "(1.9052631578947365e-09,\n",
       " 0.0050000000000000001,\n",
       " array([ 0.1358]),\n",
       " [0.077850225952227237,\n",
       "  0.1291833440929632,\n",
       "  0.13498708844415752,\n",
       "  0.1484958037443512])"
      ]
     },
     "execution_count": 6,
     "metadata": {},
     "output_type": "execute_result"
    }
   ],
   "source": [
    "w, b, ts_pred, ts_y"
   ]
  },
  {
   "cell_type": "code",
   "execution_count": null,
   "metadata": {
    "collapsed": true
   },
   "outputs": [],
   "source": []
  }
 ],
 "metadata": {
  "kernelspec": {
   "display_name": "Python 2",
   "language": "python",
   "name": "python2"
  },
  "language_info": {
   "codemirror_mode": {
    "name": "ipython",
    "version": 2
   },
   "file_extension": ".py",
   "mimetype": "text/x-python",
   "name": "python",
   "nbconvert_exporter": "python",
   "pygments_lexer": "ipython2",
   "version": "2.7.13"
  }
 },
 "nbformat": 4,
 "nbformat_minor": 2
}
