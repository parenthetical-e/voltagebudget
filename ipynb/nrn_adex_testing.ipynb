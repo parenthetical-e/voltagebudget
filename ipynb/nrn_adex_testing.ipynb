{
 "cells": [
  {
   "cell_type": "code",
   "execution_count": 1,
   "metadata": {
    "collapsed": false
   },
   "outputs": [],
   "source": [
    "%matplotlib inline\n",
    "import matplotlib.pyplot as plt\n",
    "import numpy as np\n",
    "\n",
    "from voltagebudget import *\n",
    "from fakespikes import util as fsutil"
   ]
  },
  {
   "cell_type": "code",
   "execution_count": 2,
   "metadata": {
    "collapsed": false
   },
   "outputs": [
    {
     "ename": "TypeError",
     "evalue": "k_spikes() got multiple values for keyword argument 'dt'",
     "output_type": "error",
     "traceback": [
      "\u001b[0;31m---------------------------------------------------------------------------\u001b[0m",
      "\u001b[0;31mTypeError\u001b[0m                                 Traceback (most recent call last)",
      "\u001b[0;32m<ipython-input-2-42aa018a612d>\u001b[0m in \u001b[0;36m<module>\u001b[0;34m()\u001b[0m\n\u001b[1;32m      7\u001b[0m \u001b[0mw\u001b[0m \u001b[0;34m=\u001b[0m \u001b[0;36m1e-2\u001b[0m\u001b[0;34m\u001b[0m\u001b[0m\n\u001b[1;32m      8\u001b[0m \u001b[0ma\u001b[0m \u001b[0;34m=\u001b[0m \u001b[0;36m100\u001b[0m\u001b[0;34m\u001b[0m\u001b[0m\n\u001b[0;32m----> 9\u001b[0;31m \u001b[0mns\u001b[0m\u001b[0;34m,\u001b[0m \u001b[0mts\u001b[0m \u001b[0;34m=\u001b[0m \u001b[0mutil\u001b[0m\u001b[0;34m.\u001b[0m\u001b[0mk_spikes\u001b[0m\u001b[0;34m(\u001b[0m\u001b[0mt_stim\u001b[0m\u001b[0;34m,\u001b[0m \u001b[0mn\u001b[0m\u001b[0;34m,\u001b[0m \u001b[0mk\u001b[0m\u001b[0;34m,\u001b[0m \u001b[0mw\u001b[0m\u001b[0;34m,\u001b[0m \u001b[0ma0\u001b[0m\u001b[0;34m=\u001b[0m\u001b[0ma\u001b[0m\u001b[0;34m,\u001b[0m \u001b[0ma_step\u001b[0m\u001b[0;34m=\u001b[0m\u001b[0;36m1\u001b[0m\u001b[0;34m,\u001b[0m \u001b[0mmax_iterations\u001b[0m\u001b[0;34m=\u001b[0m\u001b[0;36m500\u001b[0m\u001b[0;34m,\u001b[0m \u001b[0mdt\u001b[0m\u001b[0;34m=\u001b[0m\u001b[0mdt\u001b[0m\u001b[0;34m,\u001b[0m \u001b[0mseed\u001b[0m\u001b[0;34m=\u001b[0m\u001b[0;36m10\u001b[0m\u001b[0;34m)\u001b[0m\u001b[0;34m\u001b[0m\u001b[0m\n\u001b[0m\u001b[1;32m     10\u001b[0m \u001b[0mplt\u001b[0m\u001b[0;34m.\u001b[0m\u001b[0mfigure\u001b[0m\u001b[0;34m(\u001b[0m\u001b[0mfigsize\u001b[0m\u001b[0;34m=\u001b[0m\u001b[0;34m(\u001b[0m\u001b[0;36m5\u001b[0m\u001b[0;34m,\u001b[0m \u001b[0;36m12\u001b[0m\u001b[0;34m)\u001b[0m\u001b[0;34m)\u001b[0m\u001b[0;34m\u001b[0m\u001b[0m\n\u001b[1;32m     11\u001b[0m \u001b[0mplt\u001b[0m\u001b[0;34m.\u001b[0m\u001b[0msubplot\u001b[0m\u001b[0;34m(\u001b[0m\u001b[0;36m511\u001b[0m\u001b[0;34m)\u001b[0m\u001b[0;34m\u001b[0m\u001b[0m\n",
      "\u001b[0;31mTypeError\u001b[0m: k_spikes() got multiple values for keyword argument 'dt'"
     ]
    }
   ],
   "source": [
    "t = 0.3\n",
    "\n",
    "n = 30\n",
    "k = 20\n",
    "t_stim = 0.14\n",
    "dt = 1e-4\n",
    "w = 1e-2\n",
    "a = 100\n",
    "ns, ts = util.k_spikes(t_stim, n, k, w, a0=a, a_step=1, max_iterations=500, dt=dt, seed=10)\n",
    "plt.figure(figsize=(5, 12))\n",
    "plt.subplot(511)\n",
    "plt.plot(ts, ns, '.b')\n",
    "plt.xlim(0.13, 0.16)\n",
    "\n",
    "times = fsutil.create_times(t, dt)"
   ]
  },
  {
   "cell_type": "code",
   "execution_count": null,
   "metadata": {
    "collapsed": false
   },
   "outputs": [],
   "source": [
    "N = 100\n",
    "w_in = 0.3e-9\n",
    "bias = 5e-10\n",
    "\n",
    "f = 60 # 50\n",
    "A = .6e-10\n",
    "\n",
    "r_b = 0.0\n",
    "\n",
    "window = [t_stim + 6e-3, t_stim + 9e-3]\n",
    "\n",
    "ns_e, ts_e, vs = neurons.adex(t, N, \n",
    "                              ns, ts, \n",
    "                              w_in=0.4e-9,\n",
    "                              bias=(5e-10, 5e-10 / 20),\n",
    "                              a=(-1.0e-9, 1.0e-9),\n",
    "                              b=(10e-12, 60.0e-12),\n",
    "                              Ereset=(-48e-3, -55e-3),\n",
    "                              f=f, A=A, phi=0,\n",
    "                              r_b=r_b,\n",
    "                              time_step=dt)"
   ]
  },
  {
   "cell_type": "code",
   "execution_count": null,
   "metadata": {
    "collapsed": false
   },
   "outputs": [],
   "source": [
    "C = util.estimate_communication(times, ns_e, ts_e, window)\n",
    "sigma_e = util.estimate_computation(times, ns_e, ts_e, window)\n",
    "\n",
    "print(\"C {}, sigma_e {}\".format(C, sigma_e))"
   ]
  },
  {
   "cell_type": "code",
   "execution_count": null,
   "metadata": {
    "collapsed": false
   },
   "outputs": [],
   "source": [
    "plt.figure(figsize=(5, 12))\n",
    "plt.subplot(511)\n",
    "plt.plot(ts, ns, '.b')\n",
    "plt.plot(ts_e, ns_e + k, '.k')\n",
    "plt.axvline(window[0], color='red')\n",
    "plt.axvline(window[1], color='red')\n",
    "plt.xlim(.10, .25)\n",
    "\n",
    "plt.subplot(512)\n",
    "for j in range(20):\n",
    "    plt.plot(times, vs['vm'][j, :], 'k', alpha=0.3);\n",
    "# plt.ylim(-70e-3, -50e-3)\n",
    "plt.axvline(window[0], color='red')\n",
    "plt.axvline(window[1], color='red')\n",
    "plt.ylabel(\"V_m\")\n",
    "plt.xlim(.10, .25)\n",
    "\n",
    "plt.subplot(513)\n",
    "for j in range(20):\n",
    "    plt.plot(times, vs['osc'][j, :], 'k', alpha=0.3);\n",
    "# plt.axhline(-54e-3, color='black')\n",
    "# plt.ylim(-70e-3, -50e-3)\n",
    "plt.axvline(window[0], color='red')\n",
    "plt.axvline(window[1], color='red')\n",
    "plt.ylabel(\"V_osc\")\n",
    "plt.xlim(.10, .25)\n",
    "\n",
    "plt.subplot(514)\n",
    "for j in range(20):\n",
    "    plt.plot(times, vs['comp'][j, :], 'k', alpha=0.3);\n",
    "# plt.axhline(-54e-3, color='black')\n",
    "# plt.ylim(-70e-3, -50e-3)\n",
    "# plt.axvline(t_stim + 2e-3, color='red')\n",
    "# plt.axvline(t_stim + 12e-3, color='red')\n",
    "plt.ylabel(\"V_comp\")\n",
    "plt.xlim(.10, .25)\n",
    "\n",
    "plt.subplot(515)\n",
    "for j in range(20):\n",
    "    plt.plot(times, vs['free'][j, :], 'k', alpha=0.3);\n",
    "plt.axhline(0, color='black')\n",
    "plt.ylabel(\"V_free\")\n",
    "plt.axvline(window[0], color='red')\n",
    "plt.axvline(window[1], color='red')\n",
    "plt.xlim(.10, .25)\n",
    "plt.xlabel(\"Time (s)\")"
   ]
  },
  {
   "cell_type": "code",
   "execution_count": null,
   "metadata": {
    "collapsed": false
   },
   "outputs": [],
   "source": [
    "plt.figure(figsize=(4, 15))\n",
    "for j in range(1, 10):\n",
    "    plt.subplot(20, 1, j)\n",
    "    plt.plot(times, vs['vm'][j, :], 'k', alpha=1);\n",
    "    plt.axis('off')\n",
    "    plt.xlim(.10, .18)"
   ]
  },
  {
   "cell_type": "code",
   "execution_count": null,
   "metadata": {
    "collapsed": true
   },
   "outputs": [],
   "source": []
  },
  {
   "cell_type": "code",
   "execution_count": null,
   "metadata": {
    "collapsed": true
   },
   "outputs": [],
   "source": []
  }
 ],
 "metadata": {
  "anaconda-cloud": {},
  "kernelspec": {
   "display_name": "Python 2",
   "language": "python",
   "name": "python2"
  },
  "language_info": {
   "codemirror_mode": {
    "name": "ipython",
    "version": 2
   },
   "file_extension": ".py",
   "mimetype": "text/x-python",
   "name": "python",
   "nbconvert_exporter": "python",
   "pygments_lexer": "ipython2",
   "version": "2.7.13"
  }
 },
 "nbformat": 4,
 "nbformat_minor": 1
}
