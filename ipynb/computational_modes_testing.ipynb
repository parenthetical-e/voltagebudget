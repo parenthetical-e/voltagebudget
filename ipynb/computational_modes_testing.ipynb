{
 "cells": [
  {
   "cell_type": "code",
   "execution_count": 1,
   "metadata": {
    "collapsed": false
   },
   "outputs": [
    {
     "data": {
      "text/html": [
       "\n",
       "    <div class=\"bk-root\">\n",
       "        <a href=\"http://bokeh.pydata.org\" target=\"_blank\" class=\"bk-logo bk-logo-small bk-logo-notebook\"></a>\n",
       "        <span id=\"275e6c27-6da2-4bd2-861e-a6a7388327d2\">Loading BokehJS ...</span>\n",
       "    </div>"
      ]
     },
     "metadata": {},
     "output_type": "display_data"
    },
    {
     "data": {
      "application/javascript": [
       "\n",
       "(function(global) {\n",
       "  function now() {\n",
       "    return new Date();\n",
       "  }\n",
       "\n",
       "  var force = true;\n",
       "\n",
       "  if (typeof (window._bokeh_onload_callbacks) === \"undefined\" || force === true) {\n",
       "    window._bokeh_onload_callbacks = [];\n",
       "    window._bokeh_is_loading = undefined;\n",
       "  }\n",
       "\n",
       "\n",
       "  \n",
       "  if (typeof (window._bokeh_timeout) === \"undefined\" || force === true) {\n",
       "    window._bokeh_timeout = Date.now() + 5000;\n",
       "    window._bokeh_failed_load = false;\n",
       "  }\n",
       "\n",
       "  var NB_LOAD_WARNING = {'data': {'text/html':\n",
       "     \"<div style='background-color: #fdd'>\\n\"+\n",
       "     \"<p>\\n\"+\n",
       "     \"BokehJS does not appear to have successfully loaded. If loading BokehJS from CDN, this \\n\"+\n",
       "     \"may be due to a slow or bad network connection. Possible fixes:\\n\"+\n",
       "     \"</p>\\n\"+\n",
       "     \"<ul>\\n\"+\n",
       "     \"<li>re-rerun `output_notebook()` to attempt to load from CDN again, or</li>\\n\"+\n",
       "     \"<li>use INLINE resources instead, as so:</li>\\n\"+\n",
       "     \"</ul>\\n\"+\n",
       "     \"<code>\\n\"+\n",
       "     \"from bokeh.resources import INLINE\\n\"+\n",
       "     \"output_notebook(resources=INLINE)\\n\"+\n",
       "     \"</code>\\n\"+\n",
       "     \"</div>\"}};\n",
       "\n",
       "  function display_loaded() {\n",
       "    if (window.Bokeh !== undefined) {\n",
       "      document.getElementById(\"275e6c27-6da2-4bd2-861e-a6a7388327d2\").textContent = \"BokehJS successfully loaded.\";\n",
       "    } else if (Date.now() < window._bokeh_timeout) {\n",
       "      setTimeout(display_loaded, 100)\n",
       "    }\n",
       "  }\n",
       "\n",
       "  function run_callbacks() {\n",
       "    window._bokeh_onload_callbacks.forEach(function(callback) { callback() });\n",
       "    delete window._bokeh_onload_callbacks\n",
       "    console.info(\"Bokeh: all callbacks have finished\");\n",
       "  }\n",
       "\n",
       "  function load_libs(js_urls, callback) {\n",
       "    window._bokeh_onload_callbacks.push(callback);\n",
       "    if (window._bokeh_is_loading > 0) {\n",
       "      console.log(\"Bokeh: BokehJS is being loaded, scheduling callback at\", now());\n",
       "      return null;\n",
       "    }\n",
       "    if (js_urls == null || js_urls.length === 0) {\n",
       "      run_callbacks();\n",
       "      return null;\n",
       "    }\n",
       "    console.log(\"Bokeh: BokehJS not loaded, scheduling load and callback at\", now());\n",
       "    window._bokeh_is_loading = js_urls.length;\n",
       "    for (var i = 0; i < js_urls.length; i++) {\n",
       "      var url = js_urls[i];\n",
       "      var s = document.createElement('script');\n",
       "      s.src = url;\n",
       "      s.async = false;\n",
       "      s.onreadystatechange = s.onload = function() {\n",
       "        window._bokeh_is_loading--;\n",
       "        if (window._bokeh_is_loading === 0) {\n",
       "          console.log(\"Bokeh: all BokehJS libraries loaded\");\n",
       "          run_callbacks()\n",
       "        }\n",
       "      };\n",
       "      s.onerror = function() {\n",
       "        console.warn(\"failed to load library \" + url);\n",
       "      };\n",
       "      console.log(\"Bokeh: injecting script tag for BokehJS library: \", url);\n",
       "      document.getElementsByTagName(\"head\")[0].appendChild(s);\n",
       "    }\n",
       "  };var element = document.getElementById(\"275e6c27-6da2-4bd2-861e-a6a7388327d2\");\n",
       "  if (element == null) {\n",
       "    console.log(\"Bokeh: ERROR: autoload.js configured with elementid '275e6c27-6da2-4bd2-861e-a6a7388327d2' but no matching script tag was found. \")\n",
       "    return false;\n",
       "  }\n",
       "\n",
       "  var js_urls = [\"https://cdn.pydata.org/bokeh/release/bokeh-0.12.4.min.js\", \"https://cdn.pydata.org/bokeh/release/bokeh-widgets-0.12.4.min.js\"];\n",
       "\n",
       "  var inline_js = [\n",
       "    function(Bokeh) {\n",
       "      Bokeh.set_log_level(\"info\");\n",
       "    },\n",
       "    \n",
       "    function(Bokeh) {\n",
       "      \n",
       "      document.getElementById(\"275e6c27-6da2-4bd2-861e-a6a7388327d2\").textContent = \"BokehJS is loading...\";\n",
       "    },\n",
       "    function(Bokeh) {\n",
       "      console.log(\"Bokeh: injecting CSS: https://cdn.pydata.org/bokeh/release/bokeh-0.12.4.min.css\");\n",
       "      Bokeh.embed.inject_css(\"https://cdn.pydata.org/bokeh/release/bokeh-0.12.4.min.css\");\n",
       "      console.log(\"Bokeh: injecting CSS: https://cdn.pydata.org/bokeh/release/bokeh-widgets-0.12.4.min.css\");\n",
       "      Bokeh.embed.inject_css(\"https://cdn.pydata.org/bokeh/release/bokeh-widgets-0.12.4.min.css\");\n",
       "    }\n",
       "  ];\n",
       "\n",
       "  function run_inline_js() {\n",
       "    \n",
       "    if ((window.Bokeh !== undefined) || (force === true)) {\n",
       "      for (var i = 0; i < inline_js.length; i++) {\n",
       "        inline_js[i](window.Bokeh);\n",
       "      }if (force === true) {\n",
       "        display_loaded();\n",
       "      }} else if (Date.now() < window._bokeh_timeout) {\n",
       "      setTimeout(run_inline_js, 100);\n",
       "    } else if (!window._bokeh_failed_load) {\n",
       "      console.log(\"Bokeh: BokehJS failed to load within specified timeout.\");\n",
       "      window._bokeh_failed_load = true;\n",
       "    } else if (force !== true) {\n",
       "      var cell = $(document.getElementById(\"275e6c27-6da2-4bd2-861e-a6a7388327d2\")).parents('.cell').data().cell;\n",
       "      cell.output_area.append_execute_result(NB_LOAD_WARNING)\n",
       "    }\n",
       "\n",
       "  }\n",
       "\n",
       "  if (window._bokeh_is_loading === 0) {\n",
       "    console.log(\"Bokeh: BokehJS loaded, going straight to plotting\");\n",
       "    run_inline_js();\n",
       "  } else {\n",
       "    load_libs(js_urls, function() {\n",
       "      console.log(\"Bokeh: BokehJS plotting callback run at\", now());\n",
       "      run_inline_js();\n",
       "    });\n",
       "  }\n",
       "}(this));"
      ]
     },
     "metadata": {},
     "output_type": "display_data"
    }
   ],
   "source": [
    "from bokeh.plotting import figure\n",
    "from bokeh.io import show, output_notebook\n",
    "from bokeh.layouts import column, row\n",
    "from bokeh.models import Range1d\n",
    "output_notebook()\n",
    "\n",
    "import numpy as np\n",
    "\n",
    "from voltagebudget import util\n",
    "from voltagebudget import neurons\n",
    "from fakespikes import util as fsutil"
   ]
  },
  {
   "cell_type": "markdown",
   "metadata": {},
   "source": [
    "# Define input"
   ]
  },
  {
   "cell_type": "code",
   "execution_count": 2,
   "metadata": {
    "collapsed": false
   },
   "outputs": [
    {
     "name": "stdout",
     "output_type": "stream",
     "text": [
      ">>> 35 spikes\n",
      ">>> 1166.66666667 population rate\n"
     ]
    }
   ],
   "source": [
    "t = 0.7\n",
    "\n",
    "k = 20\n",
    "stim_onset = 0.6\n",
    "stim_offset = 0.63\n",
    "stim_rate = 60\n",
    "dt = 1e-5\n",
    "seed_stim = 1\n",
    "ns, ts = util.poisson_impulse(\n",
    "        t,\n",
    "        stim_onset,\n",
    "        stim_offset - stim_onset,\n",
    "        stim_rate,\n",
    "        n=k,\n",
    "        dt=dt,\n",
    "        seed=seed_stim)\n",
    "\n",
    "print(\">>> {} spikes\".format(ts.size))\n",
    "print(\">>> {} population rate\".format(ts.size / (stim_offset - stim_onset)))"
   ]
  },
  {
   "cell_type": "code",
   "execution_count": 3,
   "metadata": {
    "collapsed": false
   },
   "outputs": [
    {
     "data": {
      "text/html": [
       "\n",
       "\n",
       "    <div class=\"bk-root\">\n",
       "        <div class=\"bk-plotdiv\" id=\"26a737c2-83ef-475a-87b1-2944d77cac0d\"></div>\n",
       "    </div>\n",
       "<script type=\"text/javascript\">\n",
       "  \n",
       "  (function(global) {\n",
       "    function now() {\n",
       "      return new Date();\n",
       "    }\n",
       "  \n",
       "    var force = false;\n",
       "  \n",
       "    if (typeof (window._bokeh_onload_callbacks) === \"undefined\" || force === true) {\n",
       "      window._bokeh_onload_callbacks = [];\n",
       "      window._bokeh_is_loading = undefined;\n",
       "    }\n",
       "  \n",
       "  \n",
       "    \n",
       "    if (typeof (window._bokeh_timeout) === \"undefined\" || force === true) {\n",
       "      window._bokeh_timeout = Date.now() + 0;\n",
       "      window._bokeh_failed_load = false;\n",
       "    }\n",
       "  \n",
       "    var NB_LOAD_WARNING = {'data': {'text/html':\n",
       "       \"<div style='background-color: #fdd'>\\n\"+\n",
       "       \"<p>\\n\"+\n",
       "       \"BokehJS does not appear to have successfully loaded. If loading BokehJS from CDN, this \\n\"+\n",
       "       \"may be due to a slow or bad network connection. Possible fixes:\\n\"+\n",
       "       \"</p>\\n\"+\n",
       "       \"<ul>\\n\"+\n",
       "       \"<li>re-rerun `output_notebook()` to attempt to load from CDN again, or</li>\\n\"+\n",
       "       \"<li>use INLINE resources instead, as so:</li>\\n\"+\n",
       "       \"</ul>\\n\"+\n",
       "       \"<code>\\n\"+\n",
       "       \"from bokeh.resources import INLINE\\n\"+\n",
       "       \"output_notebook(resources=INLINE)\\n\"+\n",
       "       \"</code>\\n\"+\n",
       "       \"</div>\"}};\n",
       "  \n",
       "    function display_loaded() {\n",
       "      if (window.Bokeh !== undefined) {\n",
       "        document.getElementById(\"26a737c2-83ef-475a-87b1-2944d77cac0d\").textContent = \"BokehJS successfully loaded.\";\n",
       "      } else if (Date.now() < window._bokeh_timeout) {\n",
       "        setTimeout(display_loaded, 100)\n",
       "      }\n",
       "    }\n",
       "  \n",
       "    function run_callbacks() {\n",
       "      window._bokeh_onload_callbacks.forEach(function(callback) { callback() });\n",
       "      delete window._bokeh_onload_callbacks\n",
       "      console.info(\"Bokeh: all callbacks have finished\");\n",
       "    }\n",
       "  \n",
       "    function load_libs(js_urls, callback) {\n",
       "      window._bokeh_onload_callbacks.push(callback);\n",
       "      if (window._bokeh_is_loading > 0) {\n",
       "        console.log(\"Bokeh: BokehJS is being loaded, scheduling callback at\", now());\n",
       "        return null;\n",
       "      }\n",
       "      if (js_urls == null || js_urls.length === 0) {\n",
       "        run_callbacks();\n",
       "        return null;\n",
       "      }\n",
       "      console.log(\"Bokeh: BokehJS not loaded, scheduling load and callback at\", now());\n",
       "      window._bokeh_is_loading = js_urls.length;\n",
       "      for (var i = 0; i < js_urls.length; i++) {\n",
       "        var url = js_urls[i];\n",
       "        var s = document.createElement('script');\n",
       "        s.src = url;\n",
       "        s.async = false;\n",
       "        s.onreadystatechange = s.onload = function() {\n",
       "          window._bokeh_is_loading--;\n",
       "          if (window._bokeh_is_loading === 0) {\n",
       "            console.log(\"Bokeh: all BokehJS libraries loaded\");\n",
       "            run_callbacks()\n",
       "          }\n",
       "        };\n",
       "        s.onerror = function() {\n",
       "          console.warn(\"failed to load library \" + url);\n",
       "        };\n",
       "        console.log(\"Bokeh: injecting script tag for BokehJS library: \", url);\n",
       "        document.getElementsByTagName(\"head\")[0].appendChild(s);\n",
       "      }\n",
       "    };var element = document.getElementById(\"26a737c2-83ef-475a-87b1-2944d77cac0d\");\n",
       "    if (element == null) {\n",
       "      console.log(\"Bokeh: ERROR: autoload.js configured with elementid '26a737c2-83ef-475a-87b1-2944d77cac0d' but no matching script tag was found. \")\n",
       "      return false;\n",
       "    }\n",
       "  \n",
       "    var js_urls = [];\n",
       "  \n",
       "    var inline_js = [\n",
       "      function(Bokeh) {\n",
       "        (function() {\n",
       "          var fn = function() {\n",
       "            var docs_json = {\"67befccd-9e80-4abd-b160-745de66b98e8\":{\"roots\":{\"references\":[{\"attributes\":{\"plot\":{\"id\":\"342215f5-72f0-4b71-a360-c7eb039c6e4f\",\"subtype\":\"Figure\",\"type\":\"Plot\"}},\"id\":\"af2ca88f-ba4d-4eed-8b42-d6f6d7b5866a\",\"type\":\"WheelZoomTool\"},{\"attributes\":{\"axis_label\":\"Time (s)\",\"formatter\":{\"id\":\"7ff86d08-f453-40cc-b958-fa3ff7423de6\",\"type\":\"BasicTickFormatter\"},\"plot\":{\"id\":\"342215f5-72f0-4b71-a360-c7eb039c6e4f\",\"subtype\":\"Figure\",\"type\":\"Plot\"},\"ticker\":{\"id\":\"9a5a47f8-bffd-4e16-9942-e6c4cf7361f4\",\"type\":\"BasicTicker\"}},\"id\":\"ff5d960b-5487-4187-986f-951f5f836204\",\"type\":\"LinearAxis\"},{\"attributes\":{\"plot\":null,\"text\":\"\"},\"id\":\"dc4eae14-fabc-41cc-b642-fe713746b9c1\",\"type\":\"Title\"},{\"attributes\":{\"grid_line_color\":{\"value\":null},\"plot\":{\"id\":\"342215f5-72f0-4b71-a360-c7eb039c6e4f\",\"subtype\":\"Figure\",\"type\":\"Plot\"},\"ticker\":{\"id\":\"9a5a47f8-bffd-4e16-9942-e6c4cf7361f4\",\"type\":\"BasicTicker\"}},\"id\":\"9cec6918-9fb8-4993-8b95-8baec9696d83\",\"type\":\"Grid\"},{\"attributes\":{\"axis_label\":\"N\",\"formatter\":{\"id\":\"13842635-e3de-420d-8774-f9ea91eb9b47\",\"type\":\"BasicTickFormatter\"},\"plot\":{\"id\":\"342215f5-72f0-4b71-a360-c7eb039c6e4f\",\"subtype\":\"Figure\",\"type\":\"Plot\"},\"ticker\":{\"id\":\"cb2a94b4-93cb-43f3-8e26-9ed935da23e1\",\"type\":\"BasicTicker\"}},\"id\":\"cdada88b-24a2-45ae-84e1-1628abfdcef1\",\"type\":\"LinearAxis\"},{\"attributes\":{\"active_drag\":\"auto\",\"active_scroll\":\"auto\",\"active_tap\":\"auto\",\"tools\":[{\"id\":\"e4bdcecd-fc29-4905-b1cf-723d68da2e05\",\"type\":\"PanTool\"},{\"id\":\"af2ca88f-ba4d-4eed-8b42-d6f6d7b5866a\",\"type\":\"WheelZoomTool\"},{\"id\":\"a87a00a9-f92f-45ad-8bd4-b367ffd70640\",\"type\":\"BoxZoomTool\"},{\"id\":\"7844b4ed-6150-43a6-8b9f-dc728fefcedb\",\"type\":\"SaveTool\"},{\"id\":\"cff69a0d-bb2b-45d7-badf-25cec72102f3\",\"type\":\"ResetTool\"},{\"id\":\"ae6c033b-7bfd-4408-9fcc-d2cd473bdde6\",\"type\":\"HelpTool\"}]},\"id\":\"71070a5c-86fb-412a-9586-8c97709a3fdf\",\"type\":\"Toolbar\"},{\"attributes\":{\"plot\":{\"id\":\"342215f5-72f0-4b71-a360-c7eb039c6e4f\",\"subtype\":\"Figure\",\"type\":\"Plot\"}},\"id\":\"ae6c033b-7bfd-4408-9fcc-d2cd473bdde6\",\"type\":\"HelpTool\"},{\"attributes\":{\"callback\":null},\"id\":\"75e9b55d-e379-4800-89a1-a4feb9028ae4\",\"type\":\"DataRange1d\"},{\"attributes\":{\"fill_color\":{\"value\":\"black\"},\"x\":{\"field\":\"x\"},\"y\":{\"field\":\"y\"}},\"id\":\"d5ebbbdc-beed-44be-bc5a-9af0b998bc23\",\"type\":\"Circle\"},{\"attributes\":{\"data_source\":{\"id\":\"bb0e057e-8bc8-40d3-ad35-9ee819e9b5e1\",\"type\":\"ColumnDataSource\"},\"glyph\":{\"id\":\"d5ebbbdc-beed-44be-bc5a-9af0b998bc23\",\"type\":\"Circle\"},\"hover_glyph\":null,\"nonselection_glyph\":{\"id\":\"9df39b33-a0bb-4fe0-85c8-1236c5efdfdc\",\"type\":\"Circle\"},\"selection_glyph\":null},\"id\":\"1128ad31-23b0-4a5e-bf22-34c3a7a2ef1c\",\"type\":\"GlyphRenderer\"},{\"attributes\":{\"callback\":null},\"id\":\"70883538-9808-466a-888f-2d73e1d279a7\",\"type\":\"DataRange1d\"},{\"attributes\":{\"dimension\":1,\"grid_line_color\":{\"value\":null},\"plot\":{\"id\":\"342215f5-72f0-4b71-a360-c7eb039c6e4f\",\"subtype\":\"Figure\",\"type\":\"Plot\"},\"ticker\":{\"id\":\"cb2a94b4-93cb-43f3-8e26-9ed935da23e1\",\"type\":\"BasicTicker\"}},\"id\":\"ef072b20-7b09-45b1-8b95-ed4968035f1f\",\"type\":\"Grid\"},{\"attributes\":{\"below\":[{\"id\":\"ff5d960b-5487-4187-986f-951f5f836204\",\"type\":\"LinearAxis\"}],\"left\":[{\"id\":\"cdada88b-24a2-45ae-84e1-1628abfdcef1\",\"type\":\"LinearAxis\"}],\"plot_height\":200,\"plot_width\":400,\"renderers\":[{\"id\":\"ff5d960b-5487-4187-986f-951f5f836204\",\"type\":\"LinearAxis\"},{\"id\":\"9cec6918-9fb8-4993-8b95-8baec9696d83\",\"type\":\"Grid\"},{\"id\":\"cdada88b-24a2-45ae-84e1-1628abfdcef1\",\"type\":\"LinearAxis\"},{\"id\":\"ef072b20-7b09-45b1-8b95-ed4968035f1f\",\"type\":\"Grid\"},{\"id\":\"91f2da03-e94f-419c-80b4-6be7d7b1f9ac\",\"type\":\"BoxAnnotation\"},{\"id\":\"1128ad31-23b0-4a5e-bf22-34c3a7a2ef1c\",\"type\":\"GlyphRenderer\"}],\"title\":{\"id\":\"dc4eae14-fabc-41cc-b642-fe713746b9c1\",\"type\":\"Title\"},\"tool_events\":{\"id\":\"37d1291a-5070-46b9-9cbf-51f4e1607d88\",\"type\":\"ToolEvents\"},\"toolbar\":{\"id\":\"71070a5c-86fb-412a-9586-8c97709a3fdf\",\"type\":\"Toolbar\"},\"x_range\":{\"id\":\"75e9b55d-e379-4800-89a1-a4feb9028ae4\",\"type\":\"DataRange1d\"},\"y_range\":{\"id\":\"70883538-9808-466a-888f-2d73e1d279a7\",\"type\":\"DataRange1d\"}},\"id\":\"342215f5-72f0-4b71-a360-c7eb039c6e4f\",\"subtype\":\"Figure\",\"type\":\"Plot\"},{\"attributes\":{\"fill_alpha\":{\"value\":0.1},\"fill_color\":{\"value\":\"#1f77b4\"},\"line_alpha\":{\"value\":0.1},\"line_color\":{\"value\":\"#1f77b4\"},\"x\":{\"field\":\"x\"},\"y\":{\"field\":\"y\"}},\"id\":\"9df39b33-a0bb-4fe0-85c8-1236c5efdfdc\",\"type\":\"Circle\"},{\"attributes\":{},\"id\":\"9a5a47f8-bffd-4e16-9942-e6c4cf7361f4\",\"type\":\"BasicTicker\"},{\"attributes\":{\"plot\":{\"id\":\"342215f5-72f0-4b71-a360-c7eb039c6e4f\",\"subtype\":\"Figure\",\"type\":\"Plot\"}},\"id\":\"cff69a0d-bb2b-45d7-badf-25cec72102f3\",\"type\":\"ResetTool\"},{\"attributes\":{},\"id\":\"13842635-e3de-420d-8774-f9ea91eb9b47\",\"type\":\"BasicTickFormatter\"},{\"attributes\":{\"plot\":{\"id\":\"342215f5-72f0-4b71-a360-c7eb039c6e4f\",\"subtype\":\"Figure\",\"type\":\"Plot\"}},\"id\":\"e4bdcecd-fc29-4905-b1cf-723d68da2e05\",\"type\":\"PanTool\"},{\"attributes\":{\"overlay\":{\"id\":\"91f2da03-e94f-419c-80b4-6be7d7b1f9ac\",\"type\":\"BoxAnnotation\"},\"plot\":{\"id\":\"342215f5-72f0-4b71-a360-c7eb039c6e4f\",\"subtype\":\"Figure\",\"type\":\"Plot\"}},\"id\":\"a87a00a9-f92f-45ad-8bd4-b367ffd70640\",\"type\":\"BoxZoomTool\"},{\"attributes\":{\"plot\":{\"id\":\"342215f5-72f0-4b71-a360-c7eb039c6e4f\",\"subtype\":\"Figure\",\"type\":\"Plot\"}},\"id\":\"7844b4ed-6150-43a6-8b9f-dc728fefcedb\",\"type\":\"SaveTool\"},{\"attributes\":{},\"id\":\"cb2a94b4-93cb-43f3-8e26-9ed935da23e1\",\"type\":\"BasicTicker\"},{\"attributes\":{},\"id\":\"7ff86d08-f453-40cc-b958-fa3ff7423de6\",\"type\":\"BasicTickFormatter\"},{\"attributes\":{\"callback\":null,\"column_names\":[\"x\",\"y\"],\"data\":{\"x\":{\"__ndarray__\":\"n6iluLzBgkDhWQCwDsiCQBXRYVXR04JAmif2zQ7YgkD4VFkNGdmCQCy8jmqo2YJAPAq/1jfigkD017T0N/KCQPyE3eWy+oJA/YzziUwAg0C778+s+geDQHTB0JzHGoNAkUXviBkbg0BPoLUHLh2DQEgDuV7mH4NALIu76Pong0Dr7ZcLqS+DQJsScAr7OYNAq1yVpL0/g0DAP6wV+z+DQAPt+zqAQ4NAa8uSPdJPg0B5DaIz+0+DQCoyejJNWoNAywwtl9xeg0ANuny8YWKDQOmcbPmUZ4NAJKm0owVrg0DOOKadqX2DQNfx7wSLjoNAeNCtO+eVg0CPu9pQvpuDQP06ec4kqINA/kKPcr6tg0BA7NPFdq6DQA==\",\"dtype\":\"float64\",\"shape\":[35]},\"y\":[11,8,4,5,9,2,10,15,19,8,10,5,5,5,2,9,13,2,3,6,14,8,0,0,5,15,15,4,18,15,14,9,8,11,12]}},\"id\":\"bb0e057e-8bc8-40d3-ad35-9ee819e9b5e1\",\"type\":\"ColumnDataSource\"},{\"attributes\":{\"bottom_units\":\"screen\",\"fill_alpha\":{\"value\":0.5},\"fill_color\":{\"value\":\"lightgrey\"},\"left_units\":\"screen\",\"level\":\"overlay\",\"line_alpha\":{\"value\":1.0},\"line_color\":{\"value\":\"black\"},\"line_dash\":[4,4],\"line_width\":{\"value\":2},\"plot\":null,\"render_mode\":\"css\",\"right_units\":\"screen\",\"top_units\":\"screen\"},\"id\":\"91f2da03-e94f-419c-80b4-6be7d7b1f9ac\",\"type\":\"BoxAnnotation\"},{\"attributes\":{},\"id\":\"37d1291a-5070-46b9-9cbf-51f4e1607d88\",\"type\":\"ToolEvents\"}],\"root_ids\":[\"342215f5-72f0-4b71-a360-c7eb039c6e4f\"]},\"title\":\"Bokeh Application\",\"version\":\"0.12.4\"}};\n",
       "            var render_items = [{\"docid\":\"67befccd-9e80-4abd-b160-745de66b98e8\",\"elementid\":\"26a737c2-83ef-475a-87b1-2944d77cac0d\",\"modelid\":\"342215f5-72f0-4b71-a360-c7eb039c6e4f\"}];\n",
       "            \n",
       "            Bokeh.embed.embed_items(docs_json, render_items);\n",
       "          };\n",
       "          if (document.readyState != \"loading\") fn();\n",
       "          else document.addEventListener(\"DOMContentLoaded\", fn);\n",
       "        })();\n",
       "      },\n",
       "      function(Bokeh) {\n",
       "      }\n",
       "    ];\n",
       "  \n",
       "    function run_inline_js() {\n",
       "      \n",
       "      if ((window.Bokeh !== undefined) || (force === true)) {\n",
       "        for (var i = 0; i < inline_js.length; i++) {\n",
       "          inline_js[i](window.Bokeh);\n",
       "        }if (force === true) {\n",
       "          display_loaded();\n",
       "        }} else if (Date.now() < window._bokeh_timeout) {\n",
       "        setTimeout(run_inline_js, 100);\n",
       "      } else if (!window._bokeh_failed_load) {\n",
       "        console.log(\"Bokeh: BokehJS failed to load within specified timeout.\");\n",
       "        window._bokeh_failed_load = true;\n",
       "      } else if (force !== true) {\n",
       "        var cell = $(document.getElementById(\"26a737c2-83ef-475a-87b1-2944d77cac0d\")).parents('.cell').data().cell;\n",
       "        cell.output_area.append_execute_result(NB_LOAD_WARNING)\n",
       "      }\n",
       "  \n",
       "    }\n",
       "  \n",
       "    if (window._bokeh_is_loading === 0) {\n",
       "      console.log(\"Bokeh: BokehJS loaded, going straight to plotting\");\n",
       "      run_inline_js();\n",
       "    } else {\n",
       "      load_libs(js_urls, function() {\n",
       "        console.log(\"Bokeh: BokehJS plotting callback run at\", now());\n",
       "        run_inline_js();\n",
       "      });\n",
       "    }\n",
       "  }(this));\n",
       "</script>"
      ]
     },
     "metadata": {},
     "output_type": "display_data"
    }
   ],
   "source": [
    "p = figure(plot_width=400, plot_height=200)\n",
    "p.circle(ts*1e3, ns, color=\"black\")\n",
    "p.xaxis.axis_label = 'Time (s)'\n",
    "p.yaxis.axis_label = 'N'\n",
    "p.xgrid.grid_line_color = None\n",
    "p.ygrid.grid_line_color = None\n",
    "show(p)"
   ]
  },
  {
   "cell_type": "markdown",
   "metadata": {},
   "source": [
    "Shadow voltage response of an LIF neuron to the input:"
   ]
  },
  {
   "cell_type": "code",
   "execution_count": 4,
   "metadata": {
    "collapsed": false
   },
   "outputs": [],
   "source": [
    "#set mode\n",
    "mode = 'regular'\n",
    "params, w_in, bias, sigma = util.read_modes(mode)"
   ]
  },
  {
   "cell_type": "code",
   "execution_count": 5,
   "metadata": {
    "collapsed": false
   },
   "outputs": [
    {
     "ename": "ValueError",
     "evalue": "NeuronGroup size should be at least 1, was 0",
     "output_type": "error",
     "traceback": [
      "\u001b[0;31m---------------------------------------------------------------------------\u001b[0m",
      "\u001b[0;31mValueError\u001b[0m                                Traceback (most recent call last)",
      "\u001b[0;32m<ipython-input-5-3a56a5c8d18e>\u001b[0m in \u001b[0;36m<module>\u001b[0;34m()\u001b[0m\n\u001b[1;32m      1\u001b[0m \u001b[0;31m# -\u001b[0m\u001b[0;34m\u001b[0m\u001b[0;34m\u001b[0m\u001b[0m\n\u001b[0;32m----> 2\u001b[0;31m \u001b[0mv_in\u001b[0m\u001b[0;34m,\u001b[0m \u001b[0mb_in\u001b[0m \u001b[0;34m=\u001b[0m \u001b[0mneurons\u001b[0m\u001b[0;34m.\u001b[0m\u001b[0mshadow_adex\u001b[0m\u001b[0;34m(\u001b[0m\u001b[0;36m1\u001b[0m\u001b[0;34m,\u001b[0m \u001b[0mt\u001b[0m\u001b[0;34m,\u001b[0m \u001b[0mns\u001b[0m\u001b[0;34m,\u001b[0m \u001b[0mts\u001b[0m\u001b[0;34m,\u001b[0m \u001b[0mw_in\u001b[0m\u001b[0;34m=\u001b[0m\u001b[0mw_in\u001b[0m\u001b[0;34m,\u001b[0m \u001b[0mbias\u001b[0m\u001b[0;34m=\u001b[0m\u001b[0mbias\u001b[0m\u001b[0;34m,\u001b[0m \u001b[0;34m**\u001b[0m\u001b[0mparams\u001b[0m\u001b[0;34m)\u001b[0m\u001b[0;34m\u001b[0m\u001b[0m\n\u001b[0m\u001b[1;32m      3\u001b[0m \u001b[0;34m\u001b[0m\u001b[0m\n\u001b[1;32m      4\u001b[0m \u001b[0mtimes\u001b[0m \u001b[0;34m=\u001b[0m \u001b[0mb_in\u001b[0m\u001b[0;34m[\u001b[0m\u001b[0;34m'times'\u001b[0m\u001b[0;34m]\u001b[0m\u001b[0;34m\u001b[0m\u001b[0m\n\u001b[1;32m      5\u001b[0m \u001b[0mm\u001b[0m \u001b[0;34m=\u001b[0m \u001b[0mtimes\u001b[0m \u001b[0;34m>\u001b[0m \u001b[0;36m0.05\u001b[0m  \u001b[0;31m# Burn in time\u001b[0m\u001b[0;34m\u001b[0m\u001b[0m\n",
      "\u001b[0;32m/Users/type/Code/voltagebudget/neurons.py\u001b[0m in \u001b[0;36mshadow_adex\u001b[0;34m(N, time, ns, ts, **adex_kwargs)\u001b[0m\n\u001b[1;32m     11\u001b[0m     \u001b[0;31m# In the neuron can't fire, we're in the shadow realm!\u001b[0m\u001b[0;34m\u001b[0m\u001b[0;34m\u001b[0m\u001b[0m\n\u001b[1;32m     12\u001b[0m     \u001b[0mEt\u001b[0m \u001b[0;34m=\u001b[0m \u001b[0;36m1000\u001b[0m  \u001b[0;31m# 1000 volts is infinity, for neurons.\u001b[0m\u001b[0;34m\u001b[0m\u001b[0m\n\u001b[0;32m---> 13\u001b[0;31m     \u001b[0m_\u001b[0m\u001b[0;34m,\u001b[0m \u001b[0m_\u001b[0m\u001b[0;34m,\u001b[0m \u001b[0mbudget\u001b[0m \u001b[0;34m=\u001b[0m \u001b[0madex\u001b[0m\u001b[0;34m(\u001b[0m\u001b[0mtime\u001b[0m\u001b[0;34m,\u001b[0m \u001b[0mN\u001b[0m\u001b[0;34m,\u001b[0m \u001b[0mns\u001b[0m\u001b[0;34m,\u001b[0m \u001b[0mts\u001b[0m\u001b[0;34m,\u001b[0m \u001b[0mbudget\u001b[0m\u001b[0;34m=\u001b[0m\u001b[0mTrue\u001b[0m\u001b[0;34m,\u001b[0m \u001b[0mEt\u001b[0m\u001b[0;34m=\u001b[0m\u001b[0mEt\u001b[0m\u001b[0;34m,\u001b[0m \u001b[0;34m**\u001b[0m\u001b[0madex_kwargs\u001b[0m\u001b[0;34m)\u001b[0m\u001b[0;34m\u001b[0m\u001b[0m\n\u001b[0m\u001b[1;32m     14\u001b[0m \u001b[0;34m\u001b[0m\u001b[0m\n\u001b[1;32m     15\u001b[0m     \u001b[0;32mreturn\u001b[0m \u001b[0mbudget\u001b[0m\u001b[0;34m[\u001b[0m\u001b[0;34m'V_m'\u001b[0m\u001b[0;34m]\u001b[0m\u001b[0;34m,\u001b[0m \u001b[0mbudget\u001b[0m\u001b[0;34m\u001b[0m\u001b[0m\n",
      "\u001b[0;32m/Users/type/Code/voltagebudget/neurons.py\u001b[0m in \u001b[0;36madex\u001b[0;34m(N, time, ns, ts, w_in, tau_in, bias, Et, f, A, phi, sigma, C, g_l, V_l, a, b, tau_w, E_rheo, delta_t, time_step, budget, report, save_args, step_params, seed)\u001b[0m\n\u001b[1;32m    135\u001b[0m         \u001b[0mthreshold\u001b[0m\u001b[0;34m=\u001b[0m\u001b[0;34m'v > E_cut'\u001b[0m\u001b[0;34m,\u001b[0m\u001b[0;34m\u001b[0m\u001b[0m\n\u001b[1;32m    136\u001b[0m         \u001b[0mreset\u001b[0m\u001b[0;34m=\u001b[0m\u001b[0;34m\"v = E_rheo; w += b\"\u001b[0m\u001b[0;34m,\u001b[0m\u001b[0;34m\u001b[0m\u001b[0m\n\u001b[0;32m--> 137\u001b[0;31m         method='euler')\n\u001b[0m\u001b[1;32m    138\u001b[0m \u001b[0;34m\u001b[0m\u001b[0m\n\u001b[1;32m    139\u001b[0m     \u001b[0;31m# Init\u001b[0m\u001b[0;34m\u001b[0m\u001b[0;34m\u001b[0m\u001b[0m\n",
      "\u001b[0;32m/Users/type/anaconda/envs/py2/lib/python2.7/site-packages/brian2/groups/neurongroup.pyc\u001b[0m in \u001b[0;36m__init__\u001b[0;34m(self, N, model, method, threshold, reset, refractory, events, namespace, dtype, dt, clock, order, name, codeobj_class)\u001b[0m\n\u001b[1;32m    382\u001b[0m             \u001b[0;32mraise\u001b[0m\u001b[0;34m\u001b[0m\u001b[0m\n\u001b[1;32m    383\u001b[0m         \u001b[0;32mif\u001b[0m \u001b[0mN\u001b[0m \u001b[0;34m<\u001b[0m \u001b[0;36m1\u001b[0m\u001b[0;34m:\u001b[0m\u001b[0;34m\u001b[0m\u001b[0m\n\u001b[0;32m--> 384\u001b[0;31m             \u001b[0;32mraise\u001b[0m \u001b[0mValueError\u001b[0m\u001b[0;34m(\u001b[0m\u001b[0;34m\"NeuronGroup size should be at least 1, was \"\u001b[0m \u001b[0;34m+\u001b[0m \u001b[0mstr\u001b[0m\u001b[0;34m(\u001b[0m\u001b[0mN\u001b[0m\u001b[0;34m)\u001b[0m\u001b[0;34m)\u001b[0m\u001b[0;34m\u001b[0m\u001b[0m\n\u001b[0m\u001b[1;32m    385\u001b[0m \u001b[0;34m\u001b[0m\u001b[0m\n\u001b[1;32m    386\u001b[0m         \u001b[0mself\u001b[0m\u001b[0;34m.\u001b[0m\u001b[0mstart\u001b[0m \u001b[0;34m=\u001b[0m \u001b[0;36m0\u001b[0m\u001b[0;34m\u001b[0m\u001b[0m\n",
      "\u001b[0;31mValueError\u001b[0m: NeuronGroup size should be at least 1, was 0"
     ]
    }
   ],
   "source": [
    "# -\n",
    "v_in, b_in = neurons.shadow_adex(1, t, ns, ts, w_in=w_in, bias=bias, **params)\n",
    "\n",
    "times = b_in['times']\n",
    "m = times > 0.05  # Burn in time\n",
    "\n",
    "# -\n",
    "p = figure(plot_width=400, plot_height=200)\n",
    "p.line(x=times[m], y=v_in[0, :][m], color=\"black\")\n",
    "# p.x_range = Range1d(0, 0.3)\n",
    "p.xaxis.axis_label = 'Time (s)'\n",
    "p.yaxis.axis_label = 'Vm (volts)'\n",
    "p.xgrid.grid_line_color = None\n",
    "p.ygrid.grid_line_color = None\n",
    "show(p)"
   ]
  },
  {
   "cell_type": "markdown",
   "metadata": {},
   "source": [
    "# Define computational models\n",
    "\n",
    "And obseve how they respond to the same input"
   ]
  },
  {
   "cell_type": "markdown",
   "metadata": {},
   "source": [
    "## Regular"
   ]
  },
  {
   "cell_type": "code",
   "execution_count": null,
   "metadata": {
    "collapsed": false
   },
   "outputs": [],
   "source": [
    "ns_y, ts_y, budget = neurons.adex(1, t, ns, ts, \n",
    "                                  w_in=w_in*3, \n",
    "                                  bias=bias, \n",
    "                                  sigma=sigma, \n",
    "                                  A=.025e-9, f=0, **params)"
   ]
  },
  {
   "cell_type": "code",
   "execution_count": null,
   "metadata": {
    "collapsed": false
   },
   "outputs": [],
   "source": [
    "p = figure(plot_width=400, plot_height=200)\n",
    "p.circle(ts_y, ns_y, color=\"black\")\n",
    "# p.x_range = Range1d(0.0, 0.3)\n",
    "p.xaxis.axis_label = 'Time (s)'\n",
    "p.yaxis.axis_label = 'N'\n",
    "p.xgrid.grid_line_color = None\n",
    "p.ygrid.grid_line_color = None\n",
    "show(p)"
   ]
  },
  {
   "cell_type": "code",
   "execution_count": null,
   "metadata": {
    "collapsed": false
   },
   "outputs": [],
   "source": [
    "times = budget['times']\n",
    "v = budget['V_m'][0, :]\n",
    "m = times > 0.05  # Burn in time\n",
    "\n",
    "p = figure(plot_width=400, plot_height=200)\n",
    "p.line(x=times[m], y=v[m], color=\"black\")\n",
    "p.xaxis.axis_label = 'Time (s)'\n",
    "p.yaxis.axis_label = 'Vm (volts)'\n",
    "p.xgrid.grid_line_color = None\n",
    "p.ygrid.grid_line_color = None\n",
    "show(p)"
   ]
  },
  {
   "cell_type": "code",
   "execution_count": null,
   "metadata": {
    "collapsed": false
   },
   "outputs": [],
   "source": [
    "times = budget['times']\n",
    "v = budget['V_comp'][0, :]\n",
    "m = times > 0.05  # Burn in time\n",
    "\n",
    "p = figure(plot_width=400, plot_height=200)\n",
    "p.line(x=times[m], y=v[m], color=\"black\")\n",
    "p.xaxis.axis_label = 'Time (s)'\n",
    "p.yaxis.axis_label = 'Vm (volts)'\n",
    "p.xgrid.grid_line_color = None\n",
    "p.ygrid.grid_line_color = None\n",
    "show(p)"
   ]
  },
  {
   "cell_type": "code",
   "execution_count": null,
   "metadata": {
    "collapsed": false
   },
   "outputs": [],
   "source": [
    "times = budget['times']\n",
    "v = budget['V_osc'][0, :]\n",
    "m = times > 0.05  # Burn in time\n",
    "\n",
    "p = figure(plot_width=400, plot_height=200)\n",
    "p.line(x=times[m], y=v[m], color=\"black\")\n",
    "p.xaxis.axis_label = 'Time (s)'\n",
    "p.yaxis.axis_label = 'Vm (volts)'\n",
    "p.xgrid.grid_line_color = None\n",
    "p.ygrid.grid_line_color = None\n",
    "show(p)"
   ]
  },
  {
   "cell_type": "code",
   "execution_count": null,
   "metadata": {
    "collapsed": false
   },
   "outputs": [],
   "source": [
    "times = budget['times']\n",
    "v = budget['V_free'][0, :]\n",
    "m = times > 0.05  # Burn in time\n",
    "\n",
    "p = figure(plot_width=400, plot_height=200)\n",
    "p.line(x=times[m], y=v[m], color=\"black\")\n",
    "p.xaxis.axis_label = 'Time (s)'\n",
    "p.yaxis.axis_label = 'Vm (volts)'\n",
    "p.xgrid.grid_line_color = None\n",
    "p.ygrid.grid_line_color = None\n",
    "show(p)"
   ]
  },
  {
   "cell_type": "code",
   "execution_count": null,
   "metadata": {
    "collapsed": true
   },
   "outputs": [],
   "source": []
  },
  {
   "cell_type": "code",
   "execution_count": null,
   "metadata": {
    "collapsed": true
   },
   "outputs": [],
   "source": [
    "\n",
    "\n"
   ]
  }
 ],
 "metadata": {
  "kernelspec": {
   "display_name": "Python 2",
   "language": "python",
   "name": "python2"
  },
  "language_info": {
   "codemirror_mode": {
    "name": "ipython",
    "version": 2
   },
   "file_extension": ".py",
   "mimetype": "text/x-python",
   "name": "python",
   "nbconvert_exporter": "python",
   "pygments_lexer": "ipython2",
   "version": "2.7.13"
  }
 },
 "nbformat": 4,
 "nbformat_minor": 0
}
