{
 "cells": [
  {
   "cell_type": "code",
   "execution_count": 1,
   "metadata": {
    "collapsed": false
   },
   "outputs": [
    {
     "data": {
      "text/html": [
       "\n",
       "    <div class=\"bk-root\">\n",
       "        <a href=\"http://bokeh.pydata.org\" target=\"_blank\" class=\"bk-logo bk-logo-small bk-logo-notebook\"></a>\n",
       "        <span id=\"a69df267-b65d-4ffa-a47e-2cda65c6703b\">Loading BokehJS ...</span>\n",
       "    </div>"
      ]
     },
     "metadata": {},
     "output_type": "display_data"
    },
    {
     "data": {
      "application/javascript": [
       "\n",
       "(function(global) {\n",
       "  function now() {\n",
       "    return new Date();\n",
       "  }\n",
       "\n",
       "  var force = true;\n",
       "\n",
       "  if (typeof (window._bokeh_onload_callbacks) === \"undefined\" || force === true) {\n",
       "    window._bokeh_onload_callbacks = [];\n",
       "    window._bokeh_is_loading = undefined;\n",
       "  }\n",
       "\n",
       "\n",
       "  \n",
       "  if (typeof (window._bokeh_timeout) === \"undefined\" || force === true) {\n",
       "    window._bokeh_timeout = Date.now() + 5000;\n",
       "    window._bokeh_failed_load = false;\n",
       "  }\n",
       "\n",
       "  var NB_LOAD_WARNING = {'data': {'text/html':\n",
       "     \"<div style='background-color: #fdd'>\\n\"+\n",
       "     \"<p>\\n\"+\n",
       "     \"BokehJS does not appear to have successfully loaded. If loading BokehJS from CDN, this \\n\"+\n",
       "     \"may be due to a slow or bad network connection. Possible fixes:\\n\"+\n",
       "     \"</p>\\n\"+\n",
       "     \"<ul>\\n\"+\n",
       "     \"<li>re-rerun `output_notebook()` to attempt to load from CDN again, or</li>\\n\"+\n",
       "     \"<li>use INLINE resources instead, as so:</li>\\n\"+\n",
       "     \"</ul>\\n\"+\n",
       "     \"<code>\\n\"+\n",
       "     \"from bokeh.resources import INLINE\\n\"+\n",
       "     \"output_notebook(resources=INLINE)\\n\"+\n",
       "     \"</code>\\n\"+\n",
       "     \"</div>\"}};\n",
       "\n",
       "  function display_loaded() {\n",
       "    if (window.Bokeh !== undefined) {\n",
       "      document.getElementById(\"a69df267-b65d-4ffa-a47e-2cda65c6703b\").textContent = \"BokehJS successfully loaded.\";\n",
       "    } else if (Date.now() < window._bokeh_timeout) {\n",
       "      setTimeout(display_loaded, 100)\n",
       "    }\n",
       "  }\n",
       "\n",
       "  function run_callbacks() {\n",
       "    window._bokeh_onload_callbacks.forEach(function(callback) { callback() });\n",
       "    delete window._bokeh_onload_callbacks\n",
       "    console.info(\"Bokeh: all callbacks have finished\");\n",
       "  }\n",
       "\n",
       "  function load_libs(js_urls, callback) {\n",
       "    window._bokeh_onload_callbacks.push(callback);\n",
       "    if (window._bokeh_is_loading > 0) {\n",
       "      console.log(\"Bokeh: BokehJS is being loaded, scheduling callback at\", now());\n",
       "      return null;\n",
       "    }\n",
       "    if (js_urls == null || js_urls.length === 0) {\n",
       "      run_callbacks();\n",
       "      return null;\n",
       "    }\n",
       "    console.log(\"Bokeh: BokehJS not loaded, scheduling load and callback at\", now());\n",
       "    window._bokeh_is_loading = js_urls.length;\n",
       "    for (var i = 0; i < js_urls.length; i++) {\n",
       "      var url = js_urls[i];\n",
       "      var s = document.createElement('script');\n",
       "      s.src = url;\n",
       "      s.async = false;\n",
       "      s.onreadystatechange = s.onload = function() {\n",
       "        window._bokeh_is_loading--;\n",
       "        if (window._bokeh_is_loading === 0) {\n",
       "          console.log(\"Bokeh: all BokehJS libraries loaded\");\n",
       "          run_callbacks()\n",
       "        }\n",
       "      };\n",
       "      s.onerror = function() {\n",
       "        console.warn(\"failed to load library \" + url);\n",
       "      };\n",
       "      console.log(\"Bokeh: injecting script tag for BokehJS library: \", url);\n",
       "      document.getElementsByTagName(\"head\")[0].appendChild(s);\n",
       "    }\n",
       "  };var element = document.getElementById(\"a69df267-b65d-4ffa-a47e-2cda65c6703b\");\n",
       "  if (element == null) {\n",
       "    console.log(\"Bokeh: ERROR: autoload.js configured with elementid 'a69df267-b65d-4ffa-a47e-2cda65c6703b' but no matching script tag was found. \")\n",
       "    return false;\n",
       "  }\n",
       "\n",
       "  var js_urls = [\"https://cdn.pydata.org/bokeh/release/bokeh-0.12.4.min.js\", \"https://cdn.pydata.org/bokeh/release/bokeh-widgets-0.12.4.min.js\"];\n",
       "\n",
       "  var inline_js = [\n",
       "    function(Bokeh) {\n",
       "      Bokeh.set_log_level(\"info\");\n",
       "    },\n",
       "    \n",
       "    function(Bokeh) {\n",
       "      \n",
       "      document.getElementById(\"a69df267-b65d-4ffa-a47e-2cda65c6703b\").textContent = \"BokehJS is loading...\";\n",
       "    },\n",
       "    function(Bokeh) {\n",
       "      console.log(\"Bokeh: injecting CSS: https://cdn.pydata.org/bokeh/release/bokeh-0.12.4.min.css\");\n",
       "      Bokeh.embed.inject_css(\"https://cdn.pydata.org/bokeh/release/bokeh-0.12.4.min.css\");\n",
       "      console.log(\"Bokeh: injecting CSS: https://cdn.pydata.org/bokeh/release/bokeh-widgets-0.12.4.min.css\");\n",
       "      Bokeh.embed.inject_css(\"https://cdn.pydata.org/bokeh/release/bokeh-widgets-0.12.4.min.css\");\n",
       "    }\n",
       "  ];\n",
       "\n",
       "  function run_inline_js() {\n",
       "    \n",
       "    if ((window.Bokeh !== undefined) || (force === true)) {\n",
       "      for (var i = 0; i < inline_js.length; i++) {\n",
       "        inline_js[i](window.Bokeh);\n",
       "      }if (force === true) {\n",
       "        display_loaded();\n",
       "      }} else if (Date.now() < window._bokeh_timeout) {\n",
       "      setTimeout(run_inline_js, 100);\n",
       "    } else if (!window._bokeh_failed_load) {\n",
       "      console.log(\"Bokeh: BokehJS failed to load within specified timeout.\");\n",
       "      window._bokeh_failed_load = true;\n",
       "    } else if (force !== true) {\n",
       "      var cell = $(document.getElementById(\"a69df267-b65d-4ffa-a47e-2cda65c6703b\")).parents('.cell').data().cell;\n",
       "      cell.output_area.append_execute_result(NB_LOAD_WARNING)\n",
       "    }\n",
       "\n",
       "  }\n",
       "\n",
       "  if (window._bokeh_is_loading === 0) {\n",
       "    console.log(\"Bokeh: BokehJS loaded, going straight to plotting\");\n",
       "    run_inline_js();\n",
       "  } else {\n",
       "    load_libs(js_urls, function() {\n",
       "      console.log(\"Bokeh: BokehJS plotting callback run at\", now());\n",
       "      run_inline_js();\n",
       "    });\n",
       "  }\n",
       "}(this));"
      ]
     },
     "metadata": {},
     "output_type": "display_data"
    }
   ],
   "source": [
    "from bokeh.plotting import figure\n",
    "from bokeh.io import show, output_notebook\n",
    "from bokeh.layouts import column, row\n",
    "from bokeh.models import Range1d\n",
    "output_notebook()\n",
    "\n",
    "import numpy as np\n",
    "\n",
    "from voltagebudget import util\n",
    "from voltagebudget import neurons\n",
    "from voltagebudget.exp.budget_experiments import replay\n",
    "from fakespikes import util as fsutil\n",
    "\n",
    "from pprint import pprint"
   ]
  },
  {
   "cell_type": "code",
   "execution_count": 2,
   "metadata": {
    "collapsed": false
   },
   "outputs": [
    {
     "name": "stdout",
     "output_type": "stream",
     "text": [
      "{'A': 0.0,\n",
      " 'E_rheo': -0.051,\n",
      " 'Et': -0.0504,\n",
      " 'N': 100.0,\n",
      " 'a': -5e-10,\n",
      " 'b': 7e-12,\n",
      " 'bias': 5e-10,\n",
      " 'budget': False,\n",
      " 'delta_t': 0.002,\n",
      " 'f': 0.0,\n",
      " 'phi': 0.0,\n",
      " 'report': '',\n",
      " 'seed': 42,\n",
      " 'sigma': 1e-10,\n",
      " 'tau_in': 0.005,\n",
      " 'tau_m': 0.005,\n",
      " 'tau_w': 0.1,\n",
      " 'time': 0.8,\n",
      " 'time_step': 0.0001,\n",
      " 'w_in': 0.0008}\n"
     ]
    }
   ],
   "source": [
    "args = util.read_args(\"../exp/test_ref_args.csv\")\n",
    "pprint(args)"
   ]
  },
  {
   "cell_type": "code",
   "execution_count": 3,
   "metadata": {
    "collapsed": false
   },
   "outputs": [],
   "source": [
    "ns, ts, budget = replay(\"../exp/test_ref_args.csv\", \"../exp/test_stim.csv\", \"../exp/test.csv\", 0)"
   ]
  },
  {
   "cell_type": "code",
   "execution_count": 5,
   "metadata": {
    "collapsed": false
   },
   "outputs": [
    {
     "data": {
      "text/plain": [
       "(array([ 0,  1,  2, ..., 97, 98, 99], dtype=int32),\n",
       " array([ 0.4997,  0.4997,  0.4997, ...,  0.7454,  0.7454,  0.7454]),\n",
       " {'E_cut': -0.0404,\n",
       "  'E_leak': -0.0706,\n",
       "  'E_thresh': -0.0504,\n",
       "  'V_comp': array([[ 0.01729883,  0.01729883,  0.01729883, ..., -0.11383142,\n",
       "          -0.11368187, -0.11353253],\n",
       "         [ 0.01729883,  0.01729883,  0.01729883, ..., -0.11422556,\n",
       "          -0.11406348, -0.11390254],\n",
       "         [ 0.01729883,  0.01729883,  0.01729883, ..., -0.11381423,\n",
       "          -0.11365601, -0.1135002 ],\n",
       "         ..., \n",
       "         [ 0.01729883,  0.01729883,  0.01729883, ..., -0.11428318,\n",
       "          -0.11412944, -0.11397947],\n",
       "         [ 0.01729883,  0.01729883,  0.01729883, ..., -0.11445618,\n",
       "          -0.11430007, -0.11414593],\n",
       "         [ 0.01729883,  0.01729883,  0.01729883, ..., -0.11413335,\n",
       "          -0.11397844, -0.11382229]]),\n",
       "  'V_free': array([[ 0.0196    ,  0.01926667,  0.01894   , ...,  0.13330109,\n",
       "           0.13315094,  0.1330012 ],\n",
       "         [ 0.0196    ,  0.01926667,  0.01894   , ...,  0.13363259,\n",
       "           0.13347069,  0.13331026],\n",
       "         [ 0.0196    ,  0.01926667,  0.01894   , ...,  0.13327777,\n",
       "           0.13311972,  0.13296424],\n",
       "         ..., \n",
       "         [ 0.0196    ,  0.01926667,  0.01894   , ...,  0.13367032,\n",
       "           0.13351628,  0.13336598],\n",
       "         [ 0.0196    ,  0.01926667,  0.01894   , ...,  0.13392686,\n",
       "           0.13377107,  0.13361736],\n",
       "         [ 0.0196    ,  0.01926667,  0.01894   , ...,  0.13355599,\n",
       "           0.13340222,  0.13324715]]),\n",
       "  'V_m': array([[-0.0706    , -0.07026667, -0.06994   , ..., -0.18430109,\n",
       "          -0.18415094, -0.1840012 ],\n",
       "         [-0.0706    , -0.07026667, -0.06994   , ..., -0.18463259,\n",
       "          -0.18447069, -0.18431026],\n",
       "         [-0.0706    , -0.07026667, -0.06994   , ..., -0.18427777,\n",
       "          -0.18411972, -0.18396424],\n",
       "         ..., \n",
       "         [-0.0706    , -0.07026667, -0.06994   , ..., -0.18467032,\n",
       "          -0.18451628, -0.18436598],\n",
       "         [-0.0706    , -0.07026667, -0.06994   , ..., -0.18492686,\n",
       "          -0.18477107, -0.18461736],\n",
       "         [-0.0706    , -0.07026667, -0.06994   , ..., -0.18455599,\n",
       "          -0.18440222, -0.18424715]]),\n",
       "  'V_osc': array([[ 0.0196    ,  0.01926667,  0.01894   , ...,  0.00217084,\n",
       "           0.00217024,  0.00216984],\n",
       "         [ 0.0196    ,  0.01926667,  0.01894   , ...,  0.0021082 ,\n",
       "           0.00210839,  0.00210889],\n",
       "         [ 0.0196    ,  0.01926667,  0.01894   , ...,  0.00216471,\n",
       "           0.00216488,  0.00216521],\n",
       "         ..., \n",
       "         [ 0.0196    ,  0.01926667,  0.01894   , ...,  0.0020883 ,\n",
       "           0.00208802,  0.00208769],\n",
       "         [ 0.0196    ,  0.01926667,  0.01894   , ...,  0.00217184,\n",
       "           0.00217217,  0.0021726 ],\n",
       "         [ 0.0196    ,  0.01926667,  0.01894   , ...,  0.00212381,\n",
       "           0.00212494,  0.00212603]]),\n",
       "  'tau_m': 0.005,\n",
       "  'times': array([  0.00000000e+00,   1.00000000e-04,   2.00000000e-04, ...,\n",
       "           7.99700000e-01,   7.99800000e-01,   7.99900000e-01])})"
      ]
     },
     "execution_count": 5,
     "metadata": {},
     "output_type": "execute_result"
    }
   ],
   "source": [
    "ns, ts, budget"
   ]
  },
  {
   "cell_type": "code",
   "execution_count": null,
   "metadata": {
    "collapsed": true
   },
   "outputs": [],
   "source": []
  }
 ],
 "metadata": {
  "kernelspec": {
   "display_name": "Python 2",
   "language": "python",
   "name": "python2"
  },
  "language_info": {
   "codemirror_mode": {
    "name": "ipython",
    "version": 2
   },
   "file_extension": ".py",
   "mimetype": "text/x-python",
   "name": "python",
   "nbconvert_exporter": "python",
   "pygments_lexer": "ipython2",
   "version": "2.7.13"
  }
 },
 "nbformat": 4,
 "nbformat_minor": 2
}
